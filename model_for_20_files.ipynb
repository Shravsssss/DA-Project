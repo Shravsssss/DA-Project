{
  "nbformat": 4,
  "nbformat_minor": 0,
  "metadata": {
    "colab": {
      "name": "model for 20 files.ipynb",
      "provenance": [],
      "collapsed_sections": []
    },
    "kernelspec": {
      "display_name": "Python 3",
      "language": "python",
      "name": "python3"
    },
    "language_info": {
      "codemirror_mode": {
        "name": "ipython",
        "version": 3
      },
      "file_extension": ".py",
      "mimetype": "text/x-python",
      "name": "python",
      "nbconvert_exporter": "python",
      "pygments_lexer": "ipython3",
      "version": "3.7.4"
    },
    "widgets": {
      "application/vnd.jupyter.widget-state+json": {
        "e9d1a27a75c1462589857732aa328fe3": {
          "model_module": "@jupyter-widgets/controls",
          "model_name": "HBoxModel",
          "model_module_version": "1.5.0",
          "state": {
            "_view_name": "HBoxView",
            "_dom_classes": [],
            "_model_name": "HBoxModel",
            "_view_module": "@jupyter-widgets/controls",
            "_model_module_version": "1.5.0",
            "_view_count": null,
            "_view_module_version": "1.5.0",
            "box_style": "",
            "layout": "IPY_MODEL_6fdf54edbbbf4543ba08c11517d3007f",
            "_model_module": "@jupyter-widgets/controls",
            "children": [
              "IPY_MODEL_df4b38985b4a4e3ea7f857ce92ea3521",
              "IPY_MODEL_76de21ed33064e38977f36983bd1a037",
              "IPY_MODEL_2481bd1051f44f659bd9358d1b9672b6"
            ]
          }
        },
        "6fdf54edbbbf4543ba08c11517d3007f": {
          "model_module": "@jupyter-widgets/base",
          "model_name": "LayoutModel",
          "model_module_version": "1.2.0",
          "state": {
            "_view_name": "LayoutView",
            "grid_template_rows": null,
            "right": null,
            "justify_content": null,
            "_view_module": "@jupyter-widgets/base",
            "overflow": null,
            "_model_module_version": "1.2.0",
            "_view_count": null,
            "flex_flow": null,
            "width": null,
            "min_width": null,
            "border": null,
            "align_items": null,
            "bottom": null,
            "_model_module": "@jupyter-widgets/base",
            "top": null,
            "grid_column": null,
            "overflow_y": null,
            "overflow_x": null,
            "grid_auto_flow": null,
            "grid_area": null,
            "grid_template_columns": null,
            "flex": null,
            "_model_name": "LayoutModel",
            "justify_items": null,
            "grid_row": null,
            "max_height": null,
            "align_content": null,
            "visibility": null,
            "align_self": null,
            "height": null,
            "min_height": null,
            "padding": null,
            "grid_auto_rows": null,
            "grid_gap": null,
            "max_width": null,
            "order": null,
            "_view_module_version": "1.2.0",
            "grid_template_areas": null,
            "object_position": null,
            "object_fit": null,
            "grid_auto_columns": null,
            "margin": null,
            "display": null,
            "left": null
          }
        },
        "df4b38985b4a4e3ea7f857ce92ea3521": {
          "model_module": "@jupyter-widgets/controls",
          "model_name": "HTMLModel",
          "model_module_version": "1.5.0",
          "state": {
            "_view_name": "HTMLView",
            "style": "IPY_MODEL_4ac61aff4a58439b8dc5b90578d7dd97",
            "_dom_classes": [],
            "description": "",
            "_model_name": "HTMLModel",
            "placeholder": "​",
            "_view_module": "@jupyter-widgets/controls",
            "_model_module_version": "1.5.0",
            "value": "Downloading: 100%",
            "_view_count": null,
            "_view_module_version": "1.5.0",
            "description_tooltip": null,
            "_model_module": "@jupyter-widgets/controls",
            "layout": "IPY_MODEL_beea5266df374cf9ac882499d8b5eac2"
          }
        },
        "76de21ed33064e38977f36983bd1a037": {
          "model_module": "@jupyter-widgets/controls",
          "model_name": "FloatProgressModel",
          "model_module_version": "1.5.0",
          "state": {
            "_view_name": "ProgressView",
            "style": "IPY_MODEL_d6abdbbdb7df4e79b9f5e038d58e444b",
            "_dom_classes": [],
            "description": "",
            "_model_name": "FloatProgressModel",
            "bar_style": "success",
            "max": 898823,
            "_view_module": "@jupyter-widgets/controls",
            "_model_module_version": "1.5.0",
            "value": 898823,
            "_view_count": null,
            "_view_module_version": "1.5.0",
            "orientation": "horizontal",
            "min": 0,
            "description_tooltip": null,
            "_model_module": "@jupyter-widgets/controls",
            "layout": "IPY_MODEL_dd9f22284fef4b21a5ff7925191c0224"
          }
        },
        "2481bd1051f44f659bd9358d1b9672b6": {
          "model_module": "@jupyter-widgets/controls",
          "model_name": "HTMLModel",
          "model_module_version": "1.5.0",
          "state": {
            "_view_name": "HTMLView",
            "style": "IPY_MODEL_6066809e16ad42898a2937a049c24871",
            "_dom_classes": [],
            "description": "",
            "_model_name": "HTMLModel",
            "placeholder": "​",
            "_view_module": "@jupyter-widgets/controls",
            "_model_module_version": "1.5.0",
            "value": " 899k/899k [00:00&lt;00:00, 11.2MB/s]",
            "_view_count": null,
            "_view_module_version": "1.5.0",
            "description_tooltip": null,
            "_model_module": "@jupyter-widgets/controls",
            "layout": "IPY_MODEL_f517fc73b44f4a108e819c0452150935"
          }
        },
        "4ac61aff4a58439b8dc5b90578d7dd97": {
          "model_module": "@jupyter-widgets/controls",
          "model_name": "DescriptionStyleModel",
          "model_module_version": "1.5.0",
          "state": {
            "_view_name": "StyleView",
            "_model_name": "DescriptionStyleModel",
            "description_width": "",
            "_view_module": "@jupyter-widgets/base",
            "_model_module_version": "1.5.0",
            "_view_count": null,
            "_view_module_version": "1.2.0",
            "_model_module": "@jupyter-widgets/controls"
          }
        },
        "beea5266df374cf9ac882499d8b5eac2": {
          "model_module": "@jupyter-widgets/base",
          "model_name": "LayoutModel",
          "model_module_version": "1.2.0",
          "state": {
            "_view_name": "LayoutView",
            "grid_template_rows": null,
            "right": null,
            "justify_content": null,
            "_view_module": "@jupyter-widgets/base",
            "overflow": null,
            "_model_module_version": "1.2.0",
            "_view_count": null,
            "flex_flow": null,
            "width": null,
            "min_width": null,
            "border": null,
            "align_items": null,
            "bottom": null,
            "_model_module": "@jupyter-widgets/base",
            "top": null,
            "grid_column": null,
            "overflow_y": null,
            "overflow_x": null,
            "grid_auto_flow": null,
            "grid_area": null,
            "grid_template_columns": null,
            "flex": null,
            "_model_name": "LayoutModel",
            "justify_items": null,
            "grid_row": null,
            "max_height": null,
            "align_content": null,
            "visibility": null,
            "align_self": null,
            "height": null,
            "min_height": null,
            "padding": null,
            "grid_auto_rows": null,
            "grid_gap": null,
            "max_width": null,
            "order": null,
            "_view_module_version": "1.2.0",
            "grid_template_areas": null,
            "object_position": null,
            "object_fit": null,
            "grid_auto_columns": null,
            "margin": null,
            "display": null,
            "left": null
          }
        },
        "d6abdbbdb7df4e79b9f5e038d58e444b": {
          "model_module": "@jupyter-widgets/controls",
          "model_name": "ProgressStyleModel",
          "model_module_version": "1.5.0",
          "state": {
            "_view_name": "StyleView",
            "_model_name": "ProgressStyleModel",
            "description_width": "",
            "_view_module": "@jupyter-widgets/base",
            "_model_module_version": "1.5.0",
            "_view_count": null,
            "_view_module_version": "1.2.0",
            "bar_color": null,
            "_model_module": "@jupyter-widgets/controls"
          }
        },
        "dd9f22284fef4b21a5ff7925191c0224": {
          "model_module": "@jupyter-widgets/base",
          "model_name": "LayoutModel",
          "model_module_version": "1.2.0",
          "state": {
            "_view_name": "LayoutView",
            "grid_template_rows": null,
            "right": null,
            "justify_content": null,
            "_view_module": "@jupyter-widgets/base",
            "overflow": null,
            "_model_module_version": "1.2.0",
            "_view_count": null,
            "flex_flow": null,
            "width": null,
            "min_width": null,
            "border": null,
            "align_items": null,
            "bottom": null,
            "_model_module": "@jupyter-widgets/base",
            "top": null,
            "grid_column": null,
            "overflow_y": null,
            "overflow_x": null,
            "grid_auto_flow": null,
            "grid_area": null,
            "grid_template_columns": null,
            "flex": null,
            "_model_name": "LayoutModel",
            "justify_items": null,
            "grid_row": null,
            "max_height": null,
            "align_content": null,
            "visibility": null,
            "align_self": null,
            "height": null,
            "min_height": null,
            "padding": null,
            "grid_auto_rows": null,
            "grid_gap": null,
            "max_width": null,
            "order": null,
            "_view_module_version": "1.2.0",
            "grid_template_areas": null,
            "object_position": null,
            "object_fit": null,
            "grid_auto_columns": null,
            "margin": null,
            "display": null,
            "left": null
          }
        },
        "6066809e16ad42898a2937a049c24871": {
          "model_module": "@jupyter-widgets/controls",
          "model_name": "DescriptionStyleModel",
          "model_module_version": "1.5.0",
          "state": {
            "_view_name": "StyleView",
            "_model_name": "DescriptionStyleModel",
            "description_width": "",
            "_view_module": "@jupyter-widgets/base",
            "_model_module_version": "1.5.0",
            "_view_count": null,
            "_view_module_version": "1.2.0",
            "_model_module": "@jupyter-widgets/controls"
          }
        },
        "f517fc73b44f4a108e819c0452150935": {
          "model_module": "@jupyter-widgets/base",
          "model_name": "LayoutModel",
          "model_module_version": "1.2.0",
          "state": {
            "_view_name": "LayoutView",
            "grid_template_rows": null,
            "right": null,
            "justify_content": null,
            "_view_module": "@jupyter-widgets/base",
            "overflow": null,
            "_model_module_version": "1.2.0",
            "_view_count": null,
            "flex_flow": null,
            "width": null,
            "min_width": null,
            "border": null,
            "align_items": null,
            "bottom": null,
            "_model_module": "@jupyter-widgets/base",
            "top": null,
            "grid_column": null,
            "overflow_y": null,
            "overflow_x": null,
            "grid_auto_flow": null,
            "grid_area": null,
            "grid_template_columns": null,
            "flex": null,
            "_model_name": "LayoutModel",
            "justify_items": null,
            "grid_row": null,
            "max_height": null,
            "align_content": null,
            "visibility": null,
            "align_self": null,
            "height": null,
            "min_height": null,
            "padding": null,
            "grid_auto_rows": null,
            "grid_gap": null,
            "max_width": null,
            "order": null,
            "_view_module_version": "1.2.0",
            "grid_template_areas": null,
            "object_position": null,
            "object_fit": null,
            "grid_auto_columns": null,
            "margin": null,
            "display": null,
            "left": null
          }
        },
        "f5573adfcb024eef94ad1fb8983185ce": {
          "model_module": "@jupyter-widgets/controls",
          "model_name": "HBoxModel",
          "model_module_version": "1.5.0",
          "state": {
            "_view_name": "HBoxView",
            "_dom_classes": [],
            "_model_name": "HBoxModel",
            "_view_module": "@jupyter-widgets/controls",
            "_model_module_version": "1.5.0",
            "_view_count": null,
            "_view_module_version": "1.5.0",
            "box_style": "",
            "layout": "IPY_MODEL_ef6b71c8d5f143eeb7cf33f110e0b2d0",
            "_model_module": "@jupyter-widgets/controls",
            "children": [
              "IPY_MODEL_45e5bbb5ed294c9d90702900a9eccbb0",
              "IPY_MODEL_5f304eb33cb0445485231c808f602074",
              "IPY_MODEL_07aae50593834e32a59a94180aa6f714"
            ]
          }
        },
        "ef6b71c8d5f143eeb7cf33f110e0b2d0": {
          "model_module": "@jupyter-widgets/base",
          "model_name": "LayoutModel",
          "model_module_version": "1.2.0",
          "state": {
            "_view_name": "LayoutView",
            "grid_template_rows": null,
            "right": null,
            "justify_content": null,
            "_view_module": "@jupyter-widgets/base",
            "overflow": null,
            "_model_module_version": "1.2.0",
            "_view_count": null,
            "flex_flow": null,
            "width": null,
            "min_width": null,
            "border": null,
            "align_items": null,
            "bottom": null,
            "_model_module": "@jupyter-widgets/base",
            "top": null,
            "grid_column": null,
            "overflow_y": null,
            "overflow_x": null,
            "grid_auto_flow": null,
            "grid_area": null,
            "grid_template_columns": null,
            "flex": null,
            "_model_name": "LayoutModel",
            "justify_items": null,
            "grid_row": null,
            "max_height": null,
            "align_content": null,
            "visibility": null,
            "align_self": null,
            "height": null,
            "min_height": null,
            "padding": null,
            "grid_auto_rows": null,
            "grid_gap": null,
            "max_width": null,
            "order": null,
            "_view_module_version": "1.2.0",
            "grid_template_areas": null,
            "object_position": null,
            "object_fit": null,
            "grid_auto_columns": null,
            "margin": null,
            "display": null,
            "left": null
          }
        },
        "45e5bbb5ed294c9d90702900a9eccbb0": {
          "model_module": "@jupyter-widgets/controls",
          "model_name": "HTMLModel",
          "model_module_version": "1.5.0",
          "state": {
            "_view_name": "HTMLView",
            "style": "IPY_MODEL_9c9f77c31015406f84747552a472c4e9",
            "_dom_classes": [],
            "description": "",
            "_model_name": "HTMLModel",
            "placeholder": "​",
            "_view_module": "@jupyter-widgets/controls",
            "_model_module_version": "1.5.0",
            "value": "Downloading: 100%",
            "_view_count": null,
            "_view_module_version": "1.5.0",
            "description_tooltip": null,
            "_model_module": "@jupyter-widgets/controls",
            "layout": "IPY_MODEL_76908a99f29b4d86b50f0ff9f8a43e1d"
          }
        },
        "5f304eb33cb0445485231c808f602074": {
          "model_module": "@jupyter-widgets/controls",
          "model_name": "FloatProgressModel",
          "model_module_version": "1.5.0",
          "state": {
            "_view_name": "ProgressView",
            "style": "IPY_MODEL_c0cbfcd20bf1464f98b5bbcb4ec2c554",
            "_dom_classes": [],
            "description": "",
            "_model_name": "FloatProgressModel",
            "bar_style": "success",
            "max": 456318,
            "_view_module": "@jupyter-widgets/controls",
            "_model_module_version": "1.5.0",
            "value": 456318,
            "_view_count": null,
            "_view_module_version": "1.5.0",
            "orientation": "horizontal",
            "min": 0,
            "description_tooltip": null,
            "_model_module": "@jupyter-widgets/controls",
            "layout": "IPY_MODEL_23998f63931743d58cc74079b0fdb877"
          }
        },
        "07aae50593834e32a59a94180aa6f714": {
          "model_module": "@jupyter-widgets/controls",
          "model_name": "HTMLModel",
          "model_module_version": "1.5.0",
          "state": {
            "_view_name": "HTMLView",
            "style": "IPY_MODEL_178ffae34459422eb41c1700507a4e78",
            "_dom_classes": [],
            "description": "",
            "_model_name": "HTMLModel",
            "placeholder": "​",
            "_view_module": "@jupyter-widgets/controls",
            "_model_module_version": "1.5.0",
            "value": " 456k/456k [00:00&lt;00:00, 7.88MB/s]",
            "_view_count": null,
            "_view_module_version": "1.5.0",
            "description_tooltip": null,
            "_model_module": "@jupyter-widgets/controls",
            "layout": "IPY_MODEL_5ee88b067687438d981ee515e29aa6c4"
          }
        },
        "9c9f77c31015406f84747552a472c4e9": {
          "model_module": "@jupyter-widgets/controls",
          "model_name": "DescriptionStyleModel",
          "model_module_version": "1.5.0",
          "state": {
            "_view_name": "StyleView",
            "_model_name": "DescriptionStyleModel",
            "description_width": "",
            "_view_module": "@jupyter-widgets/base",
            "_model_module_version": "1.5.0",
            "_view_count": null,
            "_view_module_version": "1.2.0",
            "_model_module": "@jupyter-widgets/controls"
          }
        },
        "76908a99f29b4d86b50f0ff9f8a43e1d": {
          "model_module": "@jupyter-widgets/base",
          "model_name": "LayoutModel",
          "model_module_version": "1.2.0",
          "state": {
            "_view_name": "LayoutView",
            "grid_template_rows": null,
            "right": null,
            "justify_content": null,
            "_view_module": "@jupyter-widgets/base",
            "overflow": null,
            "_model_module_version": "1.2.0",
            "_view_count": null,
            "flex_flow": null,
            "width": null,
            "min_width": null,
            "border": null,
            "align_items": null,
            "bottom": null,
            "_model_module": "@jupyter-widgets/base",
            "top": null,
            "grid_column": null,
            "overflow_y": null,
            "overflow_x": null,
            "grid_auto_flow": null,
            "grid_area": null,
            "grid_template_columns": null,
            "flex": null,
            "_model_name": "LayoutModel",
            "justify_items": null,
            "grid_row": null,
            "max_height": null,
            "align_content": null,
            "visibility": null,
            "align_self": null,
            "height": null,
            "min_height": null,
            "padding": null,
            "grid_auto_rows": null,
            "grid_gap": null,
            "max_width": null,
            "order": null,
            "_view_module_version": "1.2.0",
            "grid_template_areas": null,
            "object_position": null,
            "object_fit": null,
            "grid_auto_columns": null,
            "margin": null,
            "display": null,
            "left": null
          }
        },
        "c0cbfcd20bf1464f98b5bbcb4ec2c554": {
          "model_module": "@jupyter-widgets/controls",
          "model_name": "ProgressStyleModel",
          "model_module_version": "1.5.0",
          "state": {
            "_view_name": "StyleView",
            "_model_name": "ProgressStyleModel",
            "description_width": "",
            "_view_module": "@jupyter-widgets/base",
            "_model_module_version": "1.5.0",
            "_view_count": null,
            "_view_module_version": "1.2.0",
            "bar_color": null,
            "_model_module": "@jupyter-widgets/controls"
          }
        },
        "23998f63931743d58cc74079b0fdb877": {
          "model_module": "@jupyter-widgets/base",
          "model_name": "LayoutModel",
          "model_module_version": "1.2.0",
          "state": {
            "_view_name": "LayoutView",
            "grid_template_rows": null,
            "right": null,
            "justify_content": null,
            "_view_module": "@jupyter-widgets/base",
            "overflow": null,
            "_model_module_version": "1.2.0",
            "_view_count": null,
            "flex_flow": null,
            "width": null,
            "min_width": null,
            "border": null,
            "align_items": null,
            "bottom": null,
            "_model_module": "@jupyter-widgets/base",
            "top": null,
            "grid_column": null,
            "overflow_y": null,
            "overflow_x": null,
            "grid_auto_flow": null,
            "grid_area": null,
            "grid_template_columns": null,
            "flex": null,
            "_model_name": "LayoutModel",
            "justify_items": null,
            "grid_row": null,
            "max_height": null,
            "align_content": null,
            "visibility": null,
            "align_self": null,
            "height": null,
            "min_height": null,
            "padding": null,
            "grid_auto_rows": null,
            "grid_gap": null,
            "max_width": null,
            "order": null,
            "_view_module_version": "1.2.0",
            "grid_template_areas": null,
            "object_position": null,
            "object_fit": null,
            "grid_auto_columns": null,
            "margin": null,
            "display": null,
            "left": null
          }
        },
        "178ffae34459422eb41c1700507a4e78": {
          "model_module": "@jupyter-widgets/controls",
          "model_name": "DescriptionStyleModel",
          "model_module_version": "1.5.0",
          "state": {
            "_view_name": "StyleView",
            "_model_name": "DescriptionStyleModel",
            "description_width": "",
            "_view_module": "@jupyter-widgets/base",
            "_model_module_version": "1.5.0",
            "_view_count": null,
            "_view_module_version": "1.2.0",
            "_model_module": "@jupyter-widgets/controls"
          }
        },
        "5ee88b067687438d981ee515e29aa6c4": {
          "model_module": "@jupyter-widgets/base",
          "model_name": "LayoutModel",
          "model_module_version": "1.2.0",
          "state": {
            "_view_name": "LayoutView",
            "grid_template_rows": null,
            "right": null,
            "justify_content": null,
            "_view_module": "@jupyter-widgets/base",
            "overflow": null,
            "_model_module_version": "1.2.0",
            "_view_count": null,
            "flex_flow": null,
            "width": null,
            "min_width": null,
            "border": null,
            "align_items": null,
            "bottom": null,
            "_model_module": "@jupyter-widgets/base",
            "top": null,
            "grid_column": null,
            "overflow_y": null,
            "overflow_x": null,
            "grid_auto_flow": null,
            "grid_area": null,
            "grid_template_columns": null,
            "flex": null,
            "_model_name": "LayoutModel",
            "justify_items": null,
            "grid_row": null,
            "max_height": null,
            "align_content": null,
            "visibility": null,
            "align_self": null,
            "height": null,
            "min_height": null,
            "padding": null,
            "grid_auto_rows": null,
            "grid_gap": null,
            "max_width": null,
            "order": null,
            "_view_module_version": "1.2.0",
            "grid_template_areas": null,
            "object_position": null,
            "object_fit": null,
            "grid_auto_columns": null,
            "margin": null,
            "display": null,
            "left": null
          }
        },
        "001210da85ec44f1b031811132be9085": {
          "model_module": "@jupyter-widgets/controls",
          "model_name": "HBoxModel",
          "model_module_version": "1.5.0",
          "state": {
            "_view_name": "HBoxView",
            "_dom_classes": [],
            "_model_name": "HBoxModel",
            "_view_module": "@jupyter-widgets/controls",
            "_model_module_version": "1.5.0",
            "_view_count": null,
            "_view_module_version": "1.5.0",
            "box_style": "",
            "layout": "IPY_MODEL_25b427ea09a64c798d6c5693dbd1f3ca",
            "_model_module": "@jupyter-widgets/controls",
            "children": [
              "IPY_MODEL_0bba3d0fd1cb42f39388e0d5f8aa9b33",
              "IPY_MODEL_f301cc2a04854dffaecfc5200e3d31bb",
              "IPY_MODEL_a4ff8169eb2e4f1bbf765190f4834532"
            ]
          }
        },
        "25b427ea09a64c798d6c5693dbd1f3ca": {
          "model_module": "@jupyter-widgets/base",
          "model_name": "LayoutModel",
          "model_module_version": "1.2.0",
          "state": {
            "_view_name": "LayoutView",
            "grid_template_rows": null,
            "right": null,
            "justify_content": null,
            "_view_module": "@jupyter-widgets/base",
            "overflow": null,
            "_model_module_version": "1.2.0",
            "_view_count": null,
            "flex_flow": null,
            "width": null,
            "min_width": null,
            "border": null,
            "align_items": null,
            "bottom": null,
            "_model_module": "@jupyter-widgets/base",
            "top": null,
            "grid_column": null,
            "overflow_y": null,
            "overflow_x": null,
            "grid_auto_flow": null,
            "grid_area": null,
            "grid_template_columns": null,
            "flex": null,
            "_model_name": "LayoutModel",
            "justify_items": null,
            "grid_row": null,
            "max_height": null,
            "align_content": null,
            "visibility": null,
            "align_self": null,
            "height": null,
            "min_height": null,
            "padding": null,
            "grid_auto_rows": null,
            "grid_gap": null,
            "max_width": null,
            "order": null,
            "_view_module_version": "1.2.0",
            "grid_template_areas": null,
            "object_position": null,
            "object_fit": null,
            "grid_auto_columns": null,
            "margin": null,
            "display": null,
            "left": null
          }
        },
        "0bba3d0fd1cb42f39388e0d5f8aa9b33": {
          "model_module": "@jupyter-widgets/controls",
          "model_name": "HTMLModel",
          "model_module_version": "1.5.0",
          "state": {
            "_view_name": "HTMLView",
            "style": "IPY_MODEL_bd8c1fc298c14234913dccf2d5a8aa35",
            "_dom_classes": [],
            "description": "",
            "_model_name": "HTMLModel",
            "placeholder": "​",
            "_view_module": "@jupyter-widgets/controls",
            "_model_module_version": "1.5.0",
            "value": "Downloading: 100%",
            "_view_count": null,
            "_view_module_version": "1.5.0",
            "description_tooltip": null,
            "_model_module": "@jupyter-widgets/controls",
            "layout": "IPY_MODEL_fc73c62dce0b4ce997060058b29fffa9"
          }
        },
        "f301cc2a04854dffaecfc5200e3d31bb": {
          "model_module": "@jupyter-widgets/controls",
          "model_name": "FloatProgressModel",
          "model_module_version": "1.5.0",
          "state": {
            "_view_name": "ProgressView",
            "style": "IPY_MODEL_5427a6b2d8ed4424b50558c315f64497",
            "_dom_classes": [],
            "description": "",
            "_model_name": "FloatProgressModel",
            "bar_style": "success",
            "max": 1343,
            "_view_module": "@jupyter-widgets/controls",
            "_model_module_version": "1.5.0",
            "value": 1343,
            "_view_count": null,
            "_view_module_version": "1.5.0",
            "orientation": "horizontal",
            "min": 0,
            "description_tooltip": null,
            "_model_module": "@jupyter-widgets/controls",
            "layout": "IPY_MODEL_14a2d92929ac427d82ced4864eadbc9f"
          }
        },
        "a4ff8169eb2e4f1bbf765190f4834532": {
          "model_module": "@jupyter-widgets/controls",
          "model_name": "HTMLModel",
          "model_module_version": "1.5.0",
          "state": {
            "_view_name": "HTMLView",
            "style": "IPY_MODEL_3d5b72ed8418460184cf3765dfe9cbe9",
            "_dom_classes": [],
            "description": "",
            "_model_name": "HTMLModel",
            "placeholder": "​",
            "_view_module": "@jupyter-widgets/controls",
            "_model_module_version": "1.5.0",
            "value": " 1.34k/1.34k [00:00&lt;00:00, 25.0kB/s]",
            "_view_count": null,
            "_view_module_version": "1.5.0",
            "description_tooltip": null,
            "_model_module": "@jupyter-widgets/controls",
            "layout": "IPY_MODEL_0975770607f242399ad7215e2bf5f27f"
          }
        },
        "bd8c1fc298c14234913dccf2d5a8aa35": {
          "model_module": "@jupyter-widgets/controls",
          "model_name": "DescriptionStyleModel",
          "model_module_version": "1.5.0",
          "state": {
            "_view_name": "StyleView",
            "_model_name": "DescriptionStyleModel",
            "description_width": "",
            "_view_module": "@jupyter-widgets/base",
            "_model_module_version": "1.5.0",
            "_view_count": null,
            "_view_module_version": "1.2.0",
            "_model_module": "@jupyter-widgets/controls"
          }
        },
        "fc73c62dce0b4ce997060058b29fffa9": {
          "model_module": "@jupyter-widgets/base",
          "model_name": "LayoutModel",
          "model_module_version": "1.2.0",
          "state": {
            "_view_name": "LayoutView",
            "grid_template_rows": null,
            "right": null,
            "justify_content": null,
            "_view_module": "@jupyter-widgets/base",
            "overflow": null,
            "_model_module_version": "1.2.0",
            "_view_count": null,
            "flex_flow": null,
            "width": null,
            "min_width": null,
            "border": null,
            "align_items": null,
            "bottom": null,
            "_model_module": "@jupyter-widgets/base",
            "top": null,
            "grid_column": null,
            "overflow_y": null,
            "overflow_x": null,
            "grid_auto_flow": null,
            "grid_area": null,
            "grid_template_columns": null,
            "flex": null,
            "_model_name": "LayoutModel",
            "justify_items": null,
            "grid_row": null,
            "max_height": null,
            "align_content": null,
            "visibility": null,
            "align_self": null,
            "height": null,
            "min_height": null,
            "padding": null,
            "grid_auto_rows": null,
            "grid_gap": null,
            "max_width": null,
            "order": null,
            "_view_module_version": "1.2.0",
            "grid_template_areas": null,
            "object_position": null,
            "object_fit": null,
            "grid_auto_columns": null,
            "margin": null,
            "display": null,
            "left": null
          }
        },
        "5427a6b2d8ed4424b50558c315f64497": {
          "model_module": "@jupyter-widgets/controls",
          "model_name": "ProgressStyleModel",
          "model_module_version": "1.5.0",
          "state": {
            "_view_name": "StyleView",
            "_model_name": "ProgressStyleModel",
            "description_width": "",
            "_view_module": "@jupyter-widgets/base",
            "_model_module_version": "1.5.0",
            "_view_count": null,
            "_view_module_version": "1.2.0",
            "bar_color": null,
            "_model_module": "@jupyter-widgets/controls"
          }
        },
        "14a2d92929ac427d82ced4864eadbc9f": {
          "model_module": "@jupyter-widgets/base",
          "model_name": "LayoutModel",
          "model_module_version": "1.2.0",
          "state": {
            "_view_name": "LayoutView",
            "grid_template_rows": null,
            "right": null,
            "justify_content": null,
            "_view_module": "@jupyter-widgets/base",
            "overflow": null,
            "_model_module_version": "1.2.0",
            "_view_count": null,
            "flex_flow": null,
            "width": null,
            "min_width": null,
            "border": null,
            "align_items": null,
            "bottom": null,
            "_model_module": "@jupyter-widgets/base",
            "top": null,
            "grid_column": null,
            "overflow_y": null,
            "overflow_x": null,
            "grid_auto_flow": null,
            "grid_area": null,
            "grid_template_columns": null,
            "flex": null,
            "_model_name": "LayoutModel",
            "justify_items": null,
            "grid_row": null,
            "max_height": null,
            "align_content": null,
            "visibility": null,
            "align_self": null,
            "height": null,
            "min_height": null,
            "padding": null,
            "grid_auto_rows": null,
            "grid_gap": null,
            "max_width": null,
            "order": null,
            "_view_module_version": "1.2.0",
            "grid_template_areas": null,
            "object_position": null,
            "object_fit": null,
            "grid_auto_columns": null,
            "margin": null,
            "display": null,
            "left": null
          }
        },
        "3d5b72ed8418460184cf3765dfe9cbe9": {
          "model_module": "@jupyter-widgets/controls",
          "model_name": "DescriptionStyleModel",
          "model_module_version": "1.5.0",
          "state": {
            "_view_name": "StyleView",
            "_model_name": "DescriptionStyleModel",
            "description_width": "",
            "_view_module": "@jupyter-widgets/base",
            "_model_module_version": "1.5.0",
            "_view_count": null,
            "_view_module_version": "1.2.0",
            "_model_module": "@jupyter-widgets/controls"
          }
        },
        "0975770607f242399ad7215e2bf5f27f": {
          "model_module": "@jupyter-widgets/base",
          "model_name": "LayoutModel",
          "model_module_version": "1.2.0",
          "state": {
            "_view_name": "LayoutView",
            "grid_template_rows": null,
            "right": null,
            "justify_content": null,
            "_view_module": "@jupyter-widgets/base",
            "overflow": null,
            "_model_module_version": "1.2.0",
            "_view_count": null,
            "flex_flow": null,
            "width": null,
            "min_width": null,
            "border": null,
            "align_items": null,
            "bottom": null,
            "_model_module": "@jupyter-widgets/base",
            "top": null,
            "grid_column": null,
            "overflow_y": null,
            "overflow_x": null,
            "grid_auto_flow": null,
            "grid_area": null,
            "grid_template_columns": null,
            "flex": null,
            "_model_name": "LayoutModel",
            "justify_items": null,
            "grid_row": null,
            "max_height": null,
            "align_content": null,
            "visibility": null,
            "align_self": null,
            "height": null,
            "min_height": null,
            "padding": null,
            "grid_auto_rows": null,
            "grid_gap": null,
            "max_width": null,
            "order": null,
            "_view_module_version": "1.2.0",
            "grid_template_areas": null,
            "object_position": null,
            "object_fit": null,
            "grid_auto_columns": null,
            "margin": null,
            "display": null,
            "left": null
          }
        },
        "2ccefb373b41428689079c722d127edb": {
          "model_module": "@jupyter-widgets/controls",
          "model_name": "HBoxModel",
          "model_module_version": "1.5.0",
          "state": {
            "_view_name": "HBoxView",
            "_dom_classes": [],
            "_model_name": "HBoxModel",
            "_view_module": "@jupyter-widgets/controls",
            "_model_module_version": "1.5.0",
            "_view_count": null,
            "_view_module_version": "1.5.0",
            "box_style": "",
            "layout": "IPY_MODEL_a33385c6ab4c42f0bee7d7f14bac59ce",
            "_model_module": "@jupyter-widgets/controls",
            "children": [
              "IPY_MODEL_f977e728989441788c7587776bcfefd3",
              "IPY_MODEL_23fcd2ccbd504093a2414451b76ca45b",
              "IPY_MODEL_0c22f46c11444e8488a4c9a2547851cf"
            ]
          }
        },
        "a33385c6ab4c42f0bee7d7f14bac59ce": {
          "model_module": "@jupyter-widgets/base",
          "model_name": "LayoutModel",
          "model_module_version": "1.2.0",
          "state": {
            "_view_name": "LayoutView",
            "grid_template_rows": null,
            "right": null,
            "justify_content": null,
            "_view_module": "@jupyter-widgets/base",
            "overflow": null,
            "_model_module_version": "1.2.0",
            "_view_count": null,
            "flex_flow": null,
            "width": null,
            "min_width": null,
            "border": null,
            "align_items": null,
            "bottom": null,
            "_model_module": "@jupyter-widgets/base",
            "top": null,
            "grid_column": null,
            "overflow_y": null,
            "overflow_x": null,
            "grid_auto_flow": null,
            "grid_area": null,
            "grid_template_columns": null,
            "flex": null,
            "_model_name": "LayoutModel",
            "justify_items": null,
            "grid_row": null,
            "max_height": null,
            "align_content": null,
            "visibility": null,
            "align_self": null,
            "height": null,
            "min_height": null,
            "padding": null,
            "grid_auto_rows": null,
            "grid_gap": null,
            "max_width": null,
            "order": null,
            "_view_module_version": "1.2.0",
            "grid_template_areas": null,
            "object_position": null,
            "object_fit": null,
            "grid_auto_columns": null,
            "margin": null,
            "display": null,
            "left": null
          }
        },
        "f977e728989441788c7587776bcfefd3": {
          "model_module": "@jupyter-widgets/controls",
          "model_name": "HTMLModel",
          "model_module_version": "1.5.0",
          "state": {
            "_view_name": "HTMLView",
            "style": "IPY_MODEL_50974641b06141fabf76523b1d95049a",
            "_dom_classes": [],
            "description": "",
            "_model_name": "HTMLModel",
            "placeholder": "​",
            "_view_module": "@jupyter-widgets/controls",
            "_model_module_version": "1.5.0",
            "value": "Downloading: 100%",
            "_view_count": null,
            "_view_module_version": "1.5.0",
            "description_tooltip": null,
            "_model_module": "@jupyter-widgets/controls",
            "layout": "IPY_MODEL_ea5961a393b4455a973e7d38b3d0fd38"
          }
        },
        "23fcd2ccbd504093a2414451b76ca45b": {
          "model_module": "@jupyter-widgets/controls",
          "model_name": "FloatProgressModel",
          "model_module_version": "1.5.0",
          "state": {
            "_view_name": "ProgressView",
            "style": "IPY_MODEL_f899c21aff69461b855879282ddc716e",
            "_dom_classes": [],
            "description": "",
            "_model_name": "FloatProgressModel",
            "bar_style": "success",
            "max": 1625270765,
            "_view_module": "@jupyter-widgets/controls",
            "_model_module_version": "1.5.0",
            "value": 1625270765,
            "_view_count": null,
            "_view_module_version": "1.5.0",
            "orientation": "horizontal",
            "min": 0,
            "description_tooltip": null,
            "_model_module": "@jupyter-widgets/controls",
            "layout": "IPY_MODEL_e5c6bd4411a948b8a305b9510addf125"
          }
        },
        "0c22f46c11444e8488a4c9a2547851cf": {
          "model_module": "@jupyter-widgets/controls",
          "model_name": "HTMLModel",
          "model_module_version": "1.5.0",
          "state": {
            "_view_name": "HTMLView",
            "style": "IPY_MODEL_15f6aa85117a4380a81e4f2fb41f07b8",
            "_dom_classes": [],
            "description": "",
            "_model_name": "HTMLModel",
            "placeholder": "​",
            "_view_module": "@jupyter-widgets/controls",
            "_model_module_version": "1.5.0",
            "value": " 1.63G/1.63G [00:49&lt;00:00, 38.1MB/s]",
            "_view_count": null,
            "_view_module_version": "1.5.0",
            "description_tooltip": null,
            "_model_module": "@jupyter-widgets/controls",
            "layout": "IPY_MODEL_da4eff460ef74b0a935b07828020cd06"
          }
        },
        "50974641b06141fabf76523b1d95049a": {
          "model_module": "@jupyter-widgets/controls",
          "model_name": "DescriptionStyleModel",
          "model_module_version": "1.5.0",
          "state": {
            "_view_name": "StyleView",
            "_model_name": "DescriptionStyleModel",
            "description_width": "",
            "_view_module": "@jupyter-widgets/base",
            "_model_module_version": "1.5.0",
            "_view_count": null,
            "_view_module_version": "1.2.0",
            "_model_module": "@jupyter-widgets/controls"
          }
        },
        "ea5961a393b4455a973e7d38b3d0fd38": {
          "model_module": "@jupyter-widgets/base",
          "model_name": "LayoutModel",
          "model_module_version": "1.2.0",
          "state": {
            "_view_name": "LayoutView",
            "grid_template_rows": null,
            "right": null,
            "justify_content": null,
            "_view_module": "@jupyter-widgets/base",
            "overflow": null,
            "_model_module_version": "1.2.0",
            "_view_count": null,
            "flex_flow": null,
            "width": null,
            "min_width": null,
            "border": null,
            "align_items": null,
            "bottom": null,
            "_model_module": "@jupyter-widgets/base",
            "top": null,
            "grid_column": null,
            "overflow_y": null,
            "overflow_x": null,
            "grid_auto_flow": null,
            "grid_area": null,
            "grid_template_columns": null,
            "flex": null,
            "_model_name": "LayoutModel",
            "justify_items": null,
            "grid_row": null,
            "max_height": null,
            "align_content": null,
            "visibility": null,
            "align_self": null,
            "height": null,
            "min_height": null,
            "padding": null,
            "grid_auto_rows": null,
            "grid_gap": null,
            "max_width": null,
            "order": null,
            "_view_module_version": "1.2.0",
            "grid_template_areas": null,
            "object_position": null,
            "object_fit": null,
            "grid_auto_columns": null,
            "margin": null,
            "display": null,
            "left": null
          }
        },
        "f899c21aff69461b855879282ddc716e": {
          "model_module": "@jupyter-widgets/controls",
          "model_name": "ProgressStyleModel",
          "model_module_version": "1.5.0",
          "state": {
            "_view_name": "StyleView",
            "_model_name": "ProgressStyleModel",
            "description_width": "",
            "_view_module": "@jupyter-widgets/base",
            "_model_module_version": "1.5.0",
            "_view_count": null,
            "_view_module_version": "1.2.0",
            "bar_color": null,
            "_model_module": "@jupyter-widgets/controls"
          }
        },
        "e5c6bd4411a948b8a305b9510addf125": {
          "model_module": "@jupyter-widgets/base",
          "model_name": "LayoutModel",
          "model_module_version": "1.2.0",
          "state": {
            "_view_name": "LayoutView",
            "grid_template_rows": null,
            "right": null,
            "justify_content": null,
            "_view_module": "@jupyter-widgets/base",
            "overflow": null,
            "_model_module_version": "1.2.0",
            "_view_count": null,
            "flex_flow": null,
            "width": null,
            "min_width": null,
            "border": null,
            "align_items": null,
            "bottom": null,
            "_model_module": "@jupyter-widgets/base",
            "top": null,
            "grid_column": null,
            "overflow_y": null,
            "overflow_x": null,
            "grid_auto_flow": null,
            "grid_area": null,
            "grid_template_columns": null,
            "flex": null,
            "_model_name": "LayoutModel",
            "justify_items": null,
            "grid_row": null,
            "max_height": null,
            "align_content": null,
            "visibility": null,
            "align_self": null,
            "height": null,
            "min_height": null,
            "padding": null,
            "grid_auto_rows": null,
            "grid_gap": null,
            "max_width": null,
            "order": null,
            "_view_module_version": "1.2.0",
            "grid_template_areas": null,
            "object_position": null,
            "object_fit": null,
            "grid_auto_columns": null,
            "margin": null,
            "display": null,
            "left": null
          }
        },
        "15f6aa85117a4380a81e4f2fb41f07b8": {
          "model_module": "@jupyter-widgets/controls",
          "model_name": "DescriptionStyleModel",
          "model_module_version": "1.5.0",
          "state": {
            "_view_name": "StyleView",
            "_model_name": "DescriptionStyleModel",
            "description_width": "",
            "_view_module": "@jupyter-widgets/base",
            "_model_module_version": "1.5.0",
            "_view_count": null,
            "_view_module_version": "1.2.0",
            "_model_module": "@jupyter-widgets/controls"
          }
        },
        "da4eff460ef74b0a935b07828020cd06": {
          "model_module": "@jupyter-widgets/base",
          "model_name": "LayoutModel",
          "model_module_version": "1.2.0",
          "state": {
            "_view_name": "LayoutView",
            "grid_template_rows": null,
            "right": null,
            "justify_content": null,
            "_view_module": "@jupyter-widgets/base",
            "overflow": null,
            "_model_module_version": "1.2.0",
            "_view_count": null,
            "flex_flow": null,
            "width": null,
            "min_width": null,
            "border": null,
            "align_items": null,
            "bottom": null,
            "_model_module": "@jupyter-widgets/base",
            "top": null,
            "grid_column": null,
            "overflow_y": null,
            "overflow_x": null,
            "grid_auto_flow": null,
            "grid_area": null,
            "grid_template_columns": null,
            "flex": null,
            "_model_name": "LayoutModel",
            "justify_items": null,
            "grid_row": null,
            "max_height": null,
            "align_content": null,
            "visibility": null,
            "align_self": null,
            "height": null,
            "min_height": null,
            "padding": null,
            "grid_auto_rows": null,
            "grid_gap": null,
            "max_width": null,
            "order": null,
            "_view_module_version": "1.2.0",
            "grid_template_areas": null,
            "object_position": null,
            "object_fit": null,
            "grid_auto_columns": null,
            "margin": null,
            "display": null,
            "left": null
          }
        }
      }
    }
  },
  "cells": [
    {
      "cell_type": "code",
      "metadata": {
        "colab": {
          "base_uri": "https://localhost:8080/"
        },
        "id": "g-2dyRAD1q2E",
        "outputId": "39db70d9-8ebd-44dc-ec68-ed48f62884ac"
      },
      "source": [
        "import os\n",
        "print(os.getcwd())"
      ],
      "execution_count": 110,
      "outputs": [
        {
          "output_type": "stream",
          "name": "stdout",
          "text": [
            "/content/politics20\n"
          ]
        }
      ]
    },
    {
      "cell_type": "code",
      "metadata": {
        "colab": {
          "base_uri": "https://localhost:8080/"
        },
        "id": "yksLOQ4eJ6X5",
        "outputId": "006bbcb0-6cc1-4a68-df2f-01f3ba8a927b"
      },
      "source": [
        "ls"
      ],
      "execution_count": 111,
      "outputs": [
        {
          "output_type": "stream",
          "name": "stdout",
          "text": [
            "001.txt  004.txt  007.txt  010.txt  013.txt  016.txt  019.txt\n",
            "002.txt  005.txt  008.txt  011.txt  014.txt  017.txt  020.txt\n",
            "003.txt  006.txt  009.txt  012.txt  015.txt  018.txt\n"
          ]
        }
      ]
    },
    {
      "cell_type": "code",
      "metadata": {
        "colab": {
          "base_uri": "https://localhost:8080/",
          "height": 35
        },
        "id": "3wE_AMW8Kgfg",
        "outputId": "c821d5bc-97bc-4ba4-9e14-dfd9df20825a"
      },
      "source": [
        "pwd"
      ],
      "execution_count": 112,
      "outputs": [
        {
          "output_type": "execute_result",
          "data": {
            "application/vnd.google.colaboratory.intrinsic+json": {
              "type": "string"
            },
            "text/plain": [
              "'/content/politics20'"
            ]
          },
          "metadata": {},
          "execution_count": 112
        }
      ]
    },
    {
      "cell_type": "code",
      "metadata": {
        "colab": {
          "base_uri": "https://localhost:8080/",
          "height": 35
        },
        "id": "rMWIRdj1fXN6",
        "outputId": "8600c4d2-8083-4527-8c14-b321784d4935"
      },
      "source": [
        "#os.chdir(r\"C:\\Users\\My PC\\projects\\text summarization\\BBC News Summary\\BBC News Summary\\News Articles\\politics\")\n",
        "os.chdir(\"/content/politics20\")\n",
        "os.getcwd()\n"
      ],
      "execution_count": 113,
      "outputs": [
        {
          "output_type": "execute_result",
          "data": {
            "application/vnd.google.colaboratory.intrinsic+json": {
              "type": "string"
            },
            "text/plain": [
              "'/content/politics20'"
            ]
          },
          "metadata": {},
          "execution_count": 113
        }
      ]
    },
    {
      "cell_type": "code",
      "metadata": {
        "colab": {
          "base_uri": "https://localhost:8080/"
        },
        "id": "6Yx35cdj2xlt",
        "outputId": "7f819a77-9141-4f1f-9c54-4fcbec0be851"
      },
      "source": [
        "!rm summary006.txt\n",
        "!rm summary005.txt\n",
        "!rm summary004.txt\n",
        "!rm summary003.txt\n",
        "!rm summary002.txt\n",
        "!rm summary001.txt\n",
        "!rm summary007.txt"
      ],
      "execution_count": 114,
      "outputs": [
        {
          "output_type": "stream",
          "name": "stdout",
          "text": [
            "rm: cannot remove 'summary006.txt': No such file or directory\n",
            "rm: cannot remove 'summary005.txt': No such file or directory\n",
            "rm: cannot remove 'summary004.txt': No such file or directory\n",
            "rm: cannot remove 'summary003.txt': No such file or directory\n",
            "rm: cannot remove 'summary002.txt': No such file or directory\n",
            "rm: cannot remove 'summary001.txt': No such file or directory\n",
            "rm: cannot remove 'summary007.txt': No such file or directory\n"
          ]
        }
      ]
    },
    {
      "cell_type": "code",
      "metadata": {
        "colab": {
          "base_uri": "https://localhost:8080/"
        },
        "id": "Vznhwvq0fXN8",
        "outputId": "865d3da4-4916-4706-a234-814cfedbb767"
      },
      "source": [
        "#to get all the file names\n",
        "import os\n",
        "#os.listdir()\n",
        "file_names=[]\n",
        "for i in sorted(os.listdir()):\n",
        "  if i.endswith(\".txt\"):\n",
        "    #file_names=sorted(os.listdir())\n",
        "    file_names.append(i)\n",
        "print(\"file name\\n\",file_names)"
      ],
      "execution_count": 115,
      "outputs": [
        {
          "output_type": "stream",
          "name": "stdout",
          "text": [
            "file name\n",
            " ['001.txt', '002.txt', '003.txt', '004.txt', '005.txt', '006.txt', '007.txt', '008.txt', '009.txt', '010.txt', '011.txt', '012.txt', '013.txt', '014.txt', '015.txt', '016.txt', '017.txt', '018.txt', '019.txt', '020.txt']\n"
          ]
        }
      ]
    },
    {
      "cell_type": "code",
      "metadata": {
        "colab": {
          "base_uri": "https://localhost:8080/",
          "height": 206
        },
        "id": "ha1NHOujfXN9",
        "outputId": "f0528913-2d80-4c9e-c450-a156fc647a2c"
      },
      "source": [
        "#creating a df of all the file names\n",
        "import pandas as pd\n",
        "df=pd.DataFrame(file_names)\n",
        "df.head()"
      ],
      "execution_count": 116,
      "outputs": [
        {
          "output_type": "execute_result",
          "data": {
            "text/html": [
              "<div>\n",
              "<style scoped>\n",
              "    .dataframe tbody tr th:only-of-type {\n",
              "        vertical-align: middle;\n",
              "    }\n",
              "\n",
              "    .dataframe tbody tr th {\n",
              "        vertical-align: top;\n",
              "    }\n",
              "\n",
              "    .dataframe thead th {\n",
              "        text-align: right;\n",
              "    }\n",
              "</style>\n",
              "<table border=\"1\" class=\"dataframe\">\n",
              "  <thead>\n",
              "    <tr style=\"text-align: right;\">\n",
              "      <th></th>\n",
              "      <th>0</th>\n",
              "    </tr>\n",
              "  </thead>\n",
              "  <tbody>\n",
              "    <tr>\n",
              "      <th>0</th>\n",
              "      <td>001.txt</td>\n",
              "    </tr>\n",
              "    <tr>\n",
              "      <th>1</th>\n",
              "      <td>002.txt</td>\n",
              "    </tr>\n",
              "    <tr>\n",
              "      <th>2</th>\n",
              "      <td>003.txt</td>\n",
              "    </tr>\n",
              "    <tr>\n",
              "      <th>3</th>\n",
              "      <td>004.txt</td>\n",
              "    </tr>\n",
              "    <tr>\n",
              "      <th>4</th>\n",
              "      <td>005.txt</td>\n",
              "    </tr>\n",
              "  </tbody>\n",
              "</table>\n",
              "</div>"
            ],
            "text/plain": [
              "         0\n",
              "0  001.txt\n",
              "1  002.txt\n",
              "2  003.txt\n",
              "3  004.txt\n",
              "4  005.txt"
            ]
          },
          "metadata": {},
          "execution_count": 116
        }
      ]
    },
    {
      "cell_type": "code",
      "metadata": {
        "colab": {
          "base_uri": "https://localhost:8080/",
          "height": 206
        },
        "id": "RFHN-Vt-fXN-",
        "outputId": "1e231c7f-414d-4109-931a-cf5709fd8646"
      },
      "source": [
        "#renaming the column\n",
        "df.rename(columns={0:'File Names'},inplace=True)\n",
        "df.head()"
      ],
      "execution_count": 117,
      "outputs": [
        {
          "output_type": "execute_result",
          "data": {
            "text/html": [
              "<div>\n",
              "<style scoped>\n",
              "    .dataframe tbody tr th:only-of-type {\n",
              "        vertical-align: middle;\n",
              "    }\n",
              "\n",
              "    .dataframe tbody tr th {\n",
              "        vertical-align: top;\n",
              "    }\n",
              "\n",
              "    .dataframe thead th {\n",
              "        text-align: right;\n",
              "    }\n",
              "</style>\n",
              "<table border=\"1\" class=\"dataframe\">\n",
              "  <thead>\n",
              "    <tr style=\"text-align: right;\">\n",
              "      <th></th>\n",
              "      <th>File Names</th>\n",
              "    </tr>\n",
              "  </thead>\n",
              "  <tbody>\n",
              "    <tr>\n",
              "      <th>0</th>\n",
              "      <td>001.txt</td>\n",
              "    </tr>\n",
              "    <tr>\n",
              "      <th>1</th>\n",
              "      <td>002.txt</td>\n",
              "    </tr>\n",
              "    <tr>\n",
              "      <th>2</th>\n",
              "      <td>003.txt</td>\n",
              "    </tr>\n",
              "    <tr>\n",
              "      <th>3</th>\n",
              "      <td>004.txt</td>\n",
              "    </tr>\n",
              "    <tr>\n",
              "      <th>4</th>\n",
              "      <td>005.txt</td>\n",
              "    </tr>\n",
              "  </tbody>\n",
              "</table>\n",
              "</div>"
            ],
            "text/plain": [
              "  File Names\n",
              "0    001.txt\n",
              "1    002.txt\n",
              "2    003.txt\n",
              "3    004.txt\n",
              "4    005.txt"
            ]
          },
          "metadata": {},
          "execution_count": 117
        }
      ]
    },
    {
      "cell_type": "code",
      "metadata": {
        "id": "cgV8_DM7fXN_"
      },
      "source": [
        ""
      ],
      "execution_count": 117,
      "outputs": []
    },
    {
      "cell_type": "code",
      "metadata": {
        "colab": {
          "base_uri": "https://localhost:8080/"
        },
        "id": "_NzD5vGFfXOA",
        "outputId": "f5c624b9-8bed-447b-cd71-860457a56603"
      },
      "source": [
        "#reading the file contents from the files and appending it into the list\n",
        "contents_of_files=[]\n",
        "for i in df[\"File Names\"]:\n",
        "    with open(i, 'r') as file_name:\n",
        "        #print(file_name.read())\n",
        "        #each_file_content=file_name.read()\n",
        "        #print(each_file_content)\n",
        "        contents_of_files.append(file_name.read().replace(\"\\n\",\" \"))\n",
        "print(contents_of_files) "
      ],
      "execution_count": 118,
      "outputs": [
        {
          "output_type": "stream",
          "name": "stdout",
          "text": [
            "['Labour plans maternity pay rise  Maternity pay for new mothers is to rise by £1,400 as part of new proposals announced by the Trade and Industry Secretary Patricia Hewitt.  It would mean paid leave would be increased to nine months by 2007, Ms Hewitt told GMTV\\'s Sunday programme. Other plans include letting maternity pay be given to fathers and extending rights to parents of older children. The Tories dismissed the maternity pay plan as \"desperate\", while the Liberal Democrats said it was misdirected.  Ms Hewitt said: \"We have already doubled the length of maternity pay, it was 13 weeks when we were elected, we have already taken it up to 26 weeks. \"We are going to extend the pay to nine months by 2007 and the aim is to get it right up to the full 12 months by the end of the next Parliament.\" She said new mothers were already entitled to 12 months leave, but that many women could not take it as only six of those months were paid. \"We have made a firm commitment. We will definitely extend the maternity pay, from the six months where it now is to nine months, that\\'s the extra £1,400.\" She said ministers would consult on other proposals that could see fathers being allowed to take some of their partner\\'s maternity pay or leave period, or extending the rights of flexible working to carers or parents of older children. The Shadow Secretary of State for the Family, Theresa May, said: \"These plans were announced by Gordon Brown in his pre-budget review in December and Tony Blair is now recycling it in his desperate bid to win back women voters.\"  She said the Conservatives would announce their proposals closer to the General Election. Liberal Democrat spokeswoman for women Sandra Gidley said: \"While mothers would welcome any extra maternity pay the Liberal Democrats feel this money is being misdirected.\" She said her party would boost maternity pay in the first six months to allow more women to stay at home in that time.  Ms Hewitt also stressed the plans would be paid for by taxpayers, not employers. But David Frost, director general of the British Chambers of Commerce, warned that many small firms could be \"crippled\" by the move. \"While the majority of any salary costs may be covered by the government\\'s statutory pay, recruitment costs, advertising costs, retraining costs and the strain on the company will not be,\" he said. Further details of the government\\'s plans will be outlined on Monday. New mothers are currently entitled to 90% of average earnings for the first six weeks after giving birth, followed by £102.80 a week until the baby is six months old. ', 'Watchdog probes e-mail deletions  The information commissioner says he is urgently asking for details of Cabinet Office orders telling staff to delete e-mails more than three months old.  Richard Thomas \"totally condemned\" the deletion of e-mails to prevent their disclosure under freedom of information laws coming into force on 1 January. Government guidance said e-mails should only be deleted if they served \"no current purpose\", Mr Thomas said. The Tories and the Lib Dems have questioned the timing of the new rules.  Tory leader Michael Howard has written to Tony Blair demanding an explanation of the new rules on e-mail retention. On Monday Lib Dem constitutional affairs committee chairman Alan Beith warned that the deletion of millions of government e-mails could harm the ability of key probes like the Hutton Inquiry. The timing of the new rules just before the Freedom of Information Act comes into forces was \"too unlikely to have been a coincidence\", Mr Beith said. But a Cabinet Office spokeswoman said the move was not about the new laws or \"the destruction of important records\". Mr Beith urged the information commissioner to look at how the \"e-mail regime\" could \"support the freedom of information regime\".  Mr Thomas said: \"The new Act of Parliament makes it very clear that to destroy records in order to prevent their disclosure becomes a criminal offence.\" He said there was already clear guidance on the retention of e-mails contained in a code of practice from the lord chancellor. All e-mails are subject to the freedom of information laws, but the important thing was the content of the e-mail, said Mr Thomas.  \"If in doubt retain, that has been the long-standing principle of the civil service and public authorities. It\\'s only when you\\'ve got no further use for the particular record that it may be legitimate to destroy it. \"But any deliberate destruction to avoid the possibility of later disclosure is to be totally condemned.\" The Freedom of Information Act will cover England, Wales and Northern Ireland from next year. Similar measures are being brought in at the same time in Scotland. It provides the public with a right of access to information held by about 100,000 public bodies, subject to various exemptions. Its implementation will be monitored by the information commissioner. ', 'Hewitt decries \\'career sexism\\'  Plans to extend paid maternity leave beyond six months should be prominent in Labour\\'s election manifesto, the Trade and Industry Secretary has said.  Patricia Hewitt said the cost of the proposals was being evaluated, but it was an \"increasingly high priority\" and a \"shared goal across government\". Ms Hewitt was speaking at a gender and productivity seminar organised by the Equal Opportunities Commission (EOC). Mothers can currently take up to six months\\' paid leave - and six unpaid. Ms Hewitt told the seminar: \"Clearly, one of the things we need to do in the future is to extend the period of payment for maternity leave beyond the first six months into the second six months. \"We are looking at how quickly we can do that, because obviously there are cost implications because the taxpayer reimburses the employers for the cost of that.\"  Ms Hewitt also announced a new drive to help women who want to work in male dominated sectors, saying sexism at work was still preventing women reaching their full potential. Plans include funding for universities to help female science and engineering graduates find jobs and \"taster courses\" for men and women in non-traditional jobs. Women in full-time work earn 19% less than men, according to the Equal Opportunities Commission (EOC).  The minister told delegates that getting rid of \"career sexism\" was vital to closing the gender pay gap.  \"Career sexism limits opportunities for women of all ages and prevents them from achieving their full potential. \"It is simply wrong to assume someone cannot do a job on the grounds of their sex,\" she said. Earlier, she told BBC Radio 4\\'s Today programme: \"What we are talking about here is the fact that about six out of 20 women work in jobs that are low-paid and typically dominated by women, so we have got very segregated employment. \"Unfortunately, in some cases, this reflects very old-fashioned and stereotypical ideas about the appropriate jobs for women, or indeed for men. \"Career sexism is about saying that engineering, for instance, where only 10% of employees are women, is really a male-dominated industry. Construction is even worse. \"But it is also about saying childcare jobs are really there for women and not suitable for men. Career sexism goes both ways.\"  She added that while progress had been made, there was still a gap in pay figures. \"The average woman working full-time is being paid about 80p for every pound a man is earning. For women working part-time it is 60p.\" The Department for Trade and Industry will also provide funding to help a new pay experts panel run by the TUC.  It has been set up to advise hundreds of companies on equal wage policies. Research conducted by the EOC last year revealed that many Britons believe the pay gap between men and women is the result of \"natural differences\" between the sexes. Women hold less than 10% of the top positions in FTSE 100 companies, the police, the judiciary and trade unions, according to their figures. And retired women have just over half the income of their male counterparts on average. ', 'Labour chooses Manchester  The Labour Party will hold its 2006 autumn conference in Manchester and not Blackpool, it has been confirmed.  The much trailed decision was ratified by Labour\\'s ruling National Executive Committee in a break with the traditional choice of a seaside venue. It will be the first time since 1917 that the party has chosen Manchester to host the annual event. Blackpool will get the much smaller February spring conference instead in what will be seen as a placatory move.  For years the main political parties have rotated between Blackpool, Bournemouth and Brighton. And the news the much larger annual conference is not to gather in Blackpool will be seen as a blow in the coastal resort. In 1998 the party said it would not return to Blackpool but did so in 2002. The following year Bournemouth hosted the event before the party signed a two year deal for Brighton to host the autumn conference.  Colin Asplin, Blackpool Hotel Association said: \"We have tried very hard to make sure they come back to Blackpool. \"Obviously we have failed in that. I just hope Manchester can handle the crowds. \"It amazes me that the Labour Party, which is a working class party, doesn\\'t want to come to the main working class resort in the country.\" The exact cost to Blackpool in terms of lost revenue for hotel accommodation is not yet known but it is thought that block bookings will be taken at the major Manchester hotels after the official announcement. ', 'Brown ally rejects Budget spree  Chancellor Gordon Brown\\'s closest ally has denied suggestions there will be a Budget giveaway on 16 March.  Ed Balls, ex-chief economic adviser to the Treasury, said there would be no spending spree before polling day. But Mr Balls, a prospective Labour MP, said he was confident the chancellor would meet his fiscal rules. He was speaking as Sir Digby Jones, CBI director general, warned Mr Brown not to be tempted to use any extra cash on pre-election bribes.  Mr Balls, who stepped down from his Treasury post to stand as a Labour candidate in the election, had suggested that Mr Brown would meet his golden economic rule - \"with a margin to spare\". He said he hoped more would be done to build on current tax credit rules.  He also stressed rise in interest rates ahead of an expected May election would not affect the Labour Party\\'s chances of winning. Expectations of a rate rise have gathered pace after figures showed house prices are still rising. Consumer borrowing rose at a near-record pace in January. \"If the MPC (the Bank of England\\'s Monetary Policy Committee) were to judge that a rate rise was justified before the election because of the strength of the economy - and I\\'m not predicting that they will - I do not believe that this will be a big election issue in Britain for Labour,\" he told a Parliamentary lunch. \"This is a big change in our political culture.\"  During an interview with BBC Radio 4\\'s Today programme, Mr Balls said he was sure Mr Brown\\'s Budget would not put at risk the stability of the economy. \"I don\\'t think we\\'ll see a pre-election spending spree - we certainly did not see that before 2001,\" he said.  His assurances came after Sir Digby Jones said stability was all important and any extra cash should be spent on improving workers\\' skills. His message to the chancellor was: \"Please don\\'t give it away in any form of electioneering.\" Sir Digby added: \"I don\\'t think he will. I have to say he has been a prudent chancellor right the way through. Stability is the key word - British business needs boring stability more than anything. \"We would say to him \\'don\\'t increase your public spending, don\\'t give it away. But if you are going to anywhere, just add something to the competitiveness of Britain, put it into skilling our people\\'. \"That would be a good way to spend any excess.\"  Mr Balls refused to say whether Mr Brown would remain as chancellor after the election, amid speculation he will be offered the job of Foreign Secretary. \"I think that Gordon Brown wants to be part of the successful Labour government which delivers in the third term for the priorities of the people and sees off a Conservative Party that will take Britain backwards,\" Mr Balls told Today. Prime Minister Tony Blair has yet to name the date of the election, but most pundits are betting on 5 May. ', '\\'Errors\\' doomed first Dome sale  The initial attempt to sell the Millennium Dome failed due to a catalogue of errors, a report by the government\\'s finance watchdog says.  The report said too many parties were involved in decision-making when the attraction first went on sale after the Millennium exhibition ended. The National Audit Office said the Dome cost taxpayers £28.7m to maintain and sell in the four years after it closed. Finally, a deal to turn it into a sport and entertainment venue was struck. More than £550m could now be returned to the public sector in the wake of the deal to regenerate the site in Greenwich, London.  The NAO report said that this sale went through because it avoided many of the problems of the previous attempt to sell the Dome. Deputy Prime Minister John Prescott said a good deal had been secured. \"Delivery of the many benefits secured through this deal will continue the substantial progress already made at the Millennium Village and elsewhere on the peninsula,\" he said. But Edward Leigh, who is chairman of the Commons public accounts committee, warned the government would have to work hard to ensure taxpayers would get full benefit from the Dome deal. He said: \"This report also shows that the first attempt to sell the Dome proved a complete fiasco. Every arm of government seems to have had a finger in the pie. The process was confused and muddled.\" He added: \"Four years after the Millennium Exhibition closed, the Government finally has a deal to find a use for what has been a white elephant since it closed in a deal that, incredible as it may seem, should bring in some money and provide a benefit for the local area and the country as whole. However, it was more a question of luck that a strong bid turned up after thefirst abortive attempt.\" NAO head Sir John Bourn said: \"In difficult circumstances following the failure of the first competition, English Partnerships and the office of the deputy prime minister have worked hard to get a deal.\" ', 'Fox attacks Blair\\'s Tory \\'lies\\'  Tony Blair lied when he took the UK to war so has no qualms about lying in the election campaign, say the Tories.  Tory co-chairman Liam Fox was speaking after Mr Blair told Labour members the Tories offered a \"hard right agenda\". Dr Fox told BBC Radio: \"If you are willing to lie about the reasons for going to war, I guess you are going to lie about anything at all.\" He would not discuss reports the party repaid £500,000 to Lord Ashcroft after he predicted an election defeat.  The prime minister ratcheted up Labour\\'s pre-election campaigning at the weekend with a helicopter tour of the country and his speech at the party\\'s spring conference. He insisted he did not know the poll date, but it is widely expected to be 5 May.  In what was seen as a highly personal speech in Gateshead on Sunday, Mr Blair said: \"I have the same passion and hunger as when I first walked through the door of 10 Downing Street.\" He described his relationship with the public as starting euphoric, then struggling to live up to the expectations, and reaching the point of raised voices and \"throwing crockery\". He warned his supporters against complacency, saying: \"It\\'s a fight for the future of our country, it\\'s a fight that for Britain and the people of Britain we have to win.\"  Mr Blair said that whether the public chose Michael Howard or Mr Kennedy, it would result in \"a Tory government not a Labour government and a country that goes back and does not move forward\". Dr Fox accused Mr Blair and other Cabinet ministers of telling lies about their opponents\\' policies and then attacking the lies. \"What we learned at the weekend is what Labour tactics are going to be and it\\'s going to be fear and smear,\" he told BBC News. The Tory co-chairman attacked Labour\\'s six new pledges as \"vacuous\" and said Mr Blair was very worried voters would take revenge for his failure to deliver. Dr Fox refused to discuss weekend newspaper reports that the party had repaid £500,000 to former Tory Treasurer Lord Ashcroft after he said the party could not win the election. \"We repay loans when they are due but do not comment to individual financial matters,\" he said, insisting he enjoyed a \"warm and constructive\" relationship to Lord Ashcroft.  Meanwhile Lib Dem leader Charles Kennedy is expected to attack Mr Blair\\'s words as he begins a nationwide tour on Monday. Mr Kennedy is accelerating Lib Dem election preparations this week as he visits Manchester, Liverpool, Leicester, Somerset, Basingstoke, Shrewsbury, Dorset and Torbay. He said: \"This is three-party politics. In the northern cities, the contest is between Labour and the Liberal Democrats. \"In southern and rural seats - especially in the South West - the principal contenders are the Liberal Democrats and the Conservatives, who are out of the running in Scotland and Wales.\" The Lib Dems accuse Mr Blair of making a \"touchy-feely\" speech to Labour delegates which will not help him regain public trust. ', 'Women MPs reveal sexist taunts  Women MPs endure \"shocking\" levels of sexist abuse at the hands of their male counterparts, a new study shows.  Male MPs pretended to juggle imaginary breasts and jeered \"melons\" as women made Commons speeches, researchers from Birkbeck College were told. Labour\\'s Yvette Cooper said she found it hard to persuade Commons officials she was a minister and not a secretary. Some 83 MPs gave their answers in 100 hours of taped interviews for the study \"Whose Secretary are You, minister\".  The research team, under Professor Joni Lovenduski, had set out to look at the achievements and experiences of women at Westminster. But what emerged was complaints from MPs of all parties of sexist barracking in the Chamber, sexist insults and patronising assumptions about their abilities. Barbara Follet, one of the so-called \"Blair Babes\" elected in 1997, told researchers: \"I remember some Conservatives - whenever a Labour woman got up to speak they would take their breasts - imaginary breasts - in their hands and wiggle them and say \\'melons\\' as we spoke.\" Former Liberal Democrat MP Jackie Ballard recalled a stream of remarks from a leading MP on topics such as women\\'s legs or their sexual persuasion. And ex-Tory education secretary Gillian Shepherd remembered how one of her male colleagues called all women \"Betty\".  \"When I said, \\'Look you know my name isn\\'t Betty\\', he said, \\'ah but you\\'re all the same, so I call you all Betty\\'.\" Harriet Harman told researchers of the sheer hostility prompted by her advancement to the Cabinet: \"Well, you\\'ve only succeeded because you\\'re a woman.\" Another current member of the Cabinet says she was told: \"Oh, you\\'ve had a very fast rise, who have you been sleeping with?\" Even after the great influx of women MPs at the 1997 general election, and greater numbers of women in the Cabinet, female MPs often say they feel stuck on the edge of a male world.  Liberal Democrat Sarah Teather, the most recent female MP to be elected, told researchers: \"Lots of people say it\\'s like an old boys club. \"I\\'ve always said to me it feels more like a teenage public school - you know a public school full of teenagers.\" Prof Joni Lovenduski, who conducted the study with the help of Margaret Moran MP and a team of journalists, said she was shocked at the findings. \"We expected a bit of this but nothing like this extent. We expected to find a couple of shocking episodes.\" But she said there was a difference between the experiences of women before the 1997 intake and afterwards. This was mainly because there were more women present in Parliament who were not prepared to \"put up with\" the sexist attitudes they came across, Prof Lovenduski said. But she added: \"Some women, including the women who came in 1997, received extraordinary treatment and I am not convinced that if the number of women changed back to what it was before 1997 that things would not change back. \"What I think is shocking to the general public is that these things go on in the House of Commons.\" The interviews are to be placed in the British Library as a historical record. ', 'Campbell: E-mail row \\'silly fuss\\'  Ex-No 10 media chief Alastair Campbell is at the centre of a new political row over an e-mail containing a four-letter outburst aimed at BBC journalists.  Mr Campbell sent the missive by mistake to BBC2\\'s Newsnight after it sought to question his role in Labour\\'s controversial poster campaign. He later contacted the show saying the original e-mail had been sent in error and that it was all a \"silly fuss\". Mr Campbell has recently re-joined Labour\\'s election campaign.  The e-mail was revealed the day after Peter Mandelson, former Labour minister and now a European Commissioner, warned the BBC to steer away from \"demonising\" Mr Campbell. Mr Campbell messaged Newsnight after the programme investigated claims that Labour\\'s advertising agency TBWA was blaming him for controversy over its campaign posters. The images, including one of flying pigs and another of what critics claim depicted Tory leader Michael Howard as Fagin, prompted accusations of anti-Semitism, claims denied by Labour.  Mr Campbell\\'s e-mail, which was apparently intended for a party official, suggested they should get Trevor Beattie, TBWA\\'s boss, to issue a statement. In it, he said: \"Just spoke to trev. think tbwa shd give statement to newsnight saying party and agency work together well and nobody here has spoken to standard. Posters done by by tbwa according to political brief. Now fuck off and cover something important you twats!\" The e-mail was sent by mistake to Newsnight journalist Andrew McFadyen. Realising his error, Mr Campbell then e-mailed Mr McFadyen pointing out the mistake, but suggesting presenter Jeremy Paxman would have seen the funny side.  He said: \"Not very good at this e-mail Blackberry malarkey. Just looked at log of sent messages, have realised e-mail meant for colleagues at TBWA has gone to you. For the record, first three sentences of email spot on. No row between me and trevor. \"Posters done by them according to our brief. I dreamt up flying pigs. Pigs not great but okay in the circs of Tories promising tax cuts and spending rises with the same money. TBWA made production. \"Campbell swears shock. Final sentence of earlier e-mail probably a bit colourful and personal considering we have never actually met but I\\'m sure you share the same sense of humour as your star presenter Mr P. \"Never known such a silly fuss since the last silly fuss but there we go. Must look forward not back.\"  Later the prime minister\\'s spokesman was asked by journalists about his view on Mr Campbell\\'s use of abusive language. The spokesman said: \"The person you are referring to is capable of speaking for himself and he no longer works in government.\" Foreign Secretary Jack Straw said he had always had \"very good and polite relations\" with Mr Campbell, who he described as \"very talented\". But on the former spin doctor\\'s use of language, Mr Straw said: \"I do know the odd journalist who has occasionally used the odd word that would probably be inappropriate in some circumstances. Maybe I mix with the wrong kind of journalists.\" Liam Fox, Tory co-chairman, said the return of Mr Campbell was a sign of new \"sinister and underhand tactics\" by Labour. ', 'Crucial decision on super-casinos  A decision on whether to allow Westminster to legislate on super-casinos is set to be made by the Scottish Parliament.  The government has plans for up to eight Las Vegas style resorts in the UK, one of which is likely to be in Glasgow. Scottish ministers insist they will still have the final say on whether a super-casino will be built in Scotland. But opposition parties say that will not happen in practice. The vote is due to be taken on Wednesday and is expected to be close.  The Scottish Executive believes that the legislation should be handled by Westminster. The new law will control internet gambling for the first time and is aimed at preventing children from becoming involved. A super-casino in Glasgow could be located at Ibrox or the Scottish Exhibition and Conference Centre. The new gambling bill going through Westminster will allow casino complexes to open to the public, have live entertainment and large numbers of fruit machines with unlimited prizes. But the Scottish National Party and the Tories say the issue of super-casinos should be decided in Scotland and believe the executive is shirking its responsibility. ', 'Mrs Howard gets key election role  Michael Howard\\'s ex-model wife, Sandra, is to play a leading role in the Conservative election campaign.  Mrs Howard will make solo visits to target seats as well as accompanying her husband on his helicopter campaign trail criss-crossing the country. Mr Howard will host a news conference at the party\\'s London HQ every morning, Tory co-chairman Liam Fox said. \"We want Michael to be as accessible as possible,\" Mr Fox said, adding that the party was not afraid of scrutiny.  The Tory leader wanted to meet as many ordinary members of the public, Mr Fox said. Tony Blair has also said he is intending to get out and talk to as many people as possible during the election campaign. But Labour campaign chiefs say there are no plans for Mr Blair to hold a daily news conference.  Mr Fox responded by accusing the prime minister of \"hiding away from the scrutiny of London\\'s media\". The Liberal Democrats also say they are planning to hold daily news conferences with Charles Kennedy. On Mrs Howard\\'s role, Mr Fox said: \"Sandra has already been campaigning with Michael on a number of visits and has been undertaking short visits herself. \"That pattern will continue. It\\'s worked very well up until now.\" Mrs Howard made her debut speech at the Conservative Party Conference in Bournemouth last October. She used her speech on the fringe to highlight the work of a drugs charity, Addaction, which she supports. Mrs Howard has also appeared along side her husband on TV chat shows. During an interview on ITV1\\'s This Morning she said she often criticised her husband for not showing the side of him that she knows. ', 'PM apology over jailings  Tony Blair has apologised to two families who suffered one of the UK\\'s biggest miscarriages of justice.  The prime minister was commenting on the wrongful jailing of 11 people for IRA bomb attacks on pubs in Guildford and Woolwich in 1974. Mr Blair said: \"I am very sorry that they were subject to such an ordeal and injustice.\" He made the apology to members of the Conlon and Maguire families in his private room at Westminster. In a statement recorded for television, Mr Blair said the families deserved \"to be completely and publicly exonerated\".  The families had hoped the apology would be made during Prime Minister\\'s Questions in the House of Commons. However, one of the so-called Guildford Four, Gerry Conlon - who was wrongly convicted of planting the bombs - said the families were delighted with the apology. He said Mr Blair had spoken with \"such sincerity\", adding: \"He went beyond what we thought he would, he took time to listen to everyone. \"You could see he was moved by what people were saying. \"Tony Blair has healed rifts, he is helping to heal wounds. It\\'s a day I never thought would come.\" The move followed a huge campaign in Ireland for a public apology after eleven people were wrongly convicted of making and planting the IRA bombs which killed seven people. Mr Blair\\'s official spokesman said no-one present at the meeting would \"ever forget the strength of feeling of relief that the prime minister\\'s statement brought to them\".  Most of those convicted were either members or friends of the two families. All were arrested because of a family connection to Gerry Conlon. Mr Conlon\\'s father Giuseppe was arrested when travelling to London from Belfast to help his son. He died while serving his sentence. Also arrested were Anne Maguire and members of her family. Mrs Maguire was the relative with whom Giuseppe planned to stay in London, as well as two family friends. She said it was a \"wonderful feeling\" to have had the apology and that a weight had been lifted off her shoulders.  \"The people who were still doubting us should now believe that we were totally innocent,\" she said. They were all jailed for handling explosives, based on scientific evidence which was later entirely discredited. In October 1989 the Court of Appeal quashed the sentences of the Guildford Four, and in June 1991 it overturned the sentences on the Maguire Seven. Mr Conlon\\'s case was highlighted in the Oscar-nominated film In The Name Of The Father, starring Daniel Day-Lewis. ', 'Howard rebuts asylum criticisms  Tory leader Michael Howard has gone on the offensive in response to people questioning how a son of immigrants can propose asylum quotas.  Mr Howard, whose parents fled the Nazi threat to come to the UK, says the claim would mean no-one from an immigrant family could become premier. His comments come in a BBC documentary called \\'No More Mr Nasty\\'. TV presenter Anne Robinson said as home secretary he gave the impression he would \"like to kick your cat\". Ms Robinson, a friend of the Tory leader, also revealed that as a Cambridge student Mr Howard was \"much loved by women and he was a courteous and kind and rather dashing lover\" - although she denied having personal experience. \"I wasn\\'t at Cambridge - and it\\'s not personal experience - but I know people who were.\"  Documentary maker Michael Cockerell was given behind-the-scenes access to Mr Howard for his film portrait. The Tory leader was asked about to respond to people who said that if there had there been a quota on immigration and asylum in the 1930s, his parents might not have been allowed into the country.  He replies: \"What is the inference of that? \"That if you reach the view that you need to control immigration in the interests of the country you\\'re not allowed to put a view forward if you happen to be descended from immigrants? \"That seems to me an absolutely extraordinary proposition? It would certainly mean no one from immigrant parents could be prime minister.\"  Ms Robinson, who presents The Weakest Link tells Cockerell that she despaired at his hardline image when he was home secretary in John Major\\'s government. \"I used to have to sit on my hands because he\\'d get on television and give a passable impression of someone who\\'d like to kick your cat or would put your baby in prison if he cried. I mean it was very, very Draconian.\" The film shows Mr Howard laughing at Rory Bremner\\'s impression of him as Dracula, which he calls \"good fun\", apart from the serious falsehood of a comment suggesting he wants fewer black people in the UK. The film shows the private side of the Tory leader watching television at home or playing table tennis with his wife, ex-model Sandra. Asked if she enjoys a game of ping pong she confesses: \"Yeah, it would be more enjoyable if I could win occasionally too, but otherwise it\\'s quite fun.\"  Former Downing Street communications chief Alastair Campbell, now working on Labour\\'s election campaign, says a \"touchy-feely\" image does not fit Mr Howard. He says Tony Blair was not worried by his opponents\\' early performance in their Commons clashes because Mr Howard lacked a \"big strategy\", including on issues like Iraq. The Tory leader brands such criticisms as \"absolutely rubbish\", arguing that he has been consistent on his support for the war but critical of Mr Blair\\'s failure to tell the truth on intelligence. Former Tory chancellor Ken Clarke says Mr Howard has a bigger problem changing perceptions of the Tory party than his personal image. Mr Clarke says the party is improving and it is \"conceivable\" it could win the next election. But he adds: \"It has got to change itself a bit and broaden its appeal.\"  - Michael Howard: No More Mr Nasty is being shown on BBC2 on Saturday 12 February at 2005 GMT. ', 'Blair rejects Tory terror offer  Tony Blair has rejected a Conservative compromise offer that could have eased the passage of anti-terror legislation.  The Tories wanted a sunset clause inserted in the Anti-Terrorism Bill that would have forced ministers to revisit it in November. Mr Blair said the bill, which brings in house arrest for terror suspects, had time limiting safeguards already. The Tories say they will vote against it unless changes they want are agreed. The Lib Dems also oppose the plans.  The government has already given way over the role of judges in house arrest cases.  Mr Blair\\'s refusal to accept the Tories\\' sunset clause proposals means that the government faces concerted opposition from all sides in the Lords. Peers begin three days of detailed deliberation on the bill on Thursday. The bill proposes \"control orders\", which as well as placing terrorism suspects under house arrest could mean curfews, tagging or bans on telephone and internet use. These would replace current powers to detain foreign terror suspects without trial, which the law lords have ruled against as a breach of human rights.  The Tories want judicial oversight of all control orders, not just house arrest. Shadow Home Secretary David Davis told BBC Radio Four\\'s the World at One his primary concern was potential miscarriages of justice. He said if someone was wrongly given a control order it would act as a \"recruiting sergeant\" for terrorists. He went on to say: \"If we don\\'t get the amendments we regard as essential, including the sunset clause, we will vote against the bill.\" In the Commons, Mr Howard said it would be \"far better if the whole of the legislation was subject to a sunset clause so Parliament could consider it all in a proper way instead of it being ramrodded through\". Mr Blair said the house arrest powers were already going to be subject to a sunset clause because it was annually renewable.  The second, less stringent, type of control orders would be subject to a court appeal within 14 days and there would be a three-monthly report on their use by \"an eminent and independent person\". \"I believe (the new powers) are a proper balance between the civil liberties of the subject and the necessary national security of this country that I will not put at risk,\" said Mr Blair. The Lib Dems plan to oppose the Bill in the Lords on Thursday. Lib Dem home affairs spokesman Mark Oaten said: \"There\\'s a lot of talking left. I would be uneasy about supporting a very bad bill even if it was just for eight months.\" A spokeswoman for Human Rights Watch said it was a \"basic principle\" that people should only be punished after a fair trial. She added: \"Having a judge impose those punishments without a trial does not sanitise them either.\" ', \"Talks held on Gibraltar's future  Two days of talks on the future of Gibraltar begin at Jack Straw's country residence later on Wednesday.  Officials at the two-day summit at the foreign secretary's official Kent house, Chevening, will plan a new forum on the Rock's future. In October, Mr Straw and his Spanish counterpart Miguel Moratinos agreed to establish a body that would give Gibraltarians a voice in their future. Most Gibraltarians said in a referendum they wanted to remain British.  Gibraltar's Chief Minister Peter Caruana will represent the British citizens living on the Rock, while Britain's Europe Director Dominick Chilcott will represent the UK. Madrid is being represented by Spain's director general for Europe, Jose Maria Pons. The initiative follows Spain's socialist government's decision to put its long-standing sovereignty ambitions on hold. Gibraltarians rejected plans for the Rock's sovereignty to be shared between Britain and Spain in a referendum organised by Gibraltar government. \", 'Crisis \\'ahead in social sciences\\'  A national body designed to tackle skills shortages in key subjects should be set up, a committee of MPs has said.  There was an \"absolute crisis\" in the recruitment of statisticians and other social science experts, the Commons science and technology committee added. \"Major problems\" are expected over the next 10 years as the social science workforce continues to age, it said. The committee was reporting on the work, strategy and spending plans of the Economic Social Research Council.  The council aims to promote and support strategic research for social science postgraduates and provide social scientists to meet the needs of the country. It also liaises with the government and industry over their social science needs. In its report on the council\\'s work the committee said: \"We are deeply concerned by the skills shortages afflicting, in particular, the qualitative branches of social sciences. This mirrored previous concerns the committee had expressed on shortages in the fields of maths and chemistry, it said. \"It is hard to see how significant progress towards rectifying these shortages can be made through the deployment of Economic and Social Research Council\\'s limited resources. \"If the government is serious about addressing skills shortages in key subjects it needs to find a more effective mechanism to achieve this.\" A national \"strategic capabilities fund\" to address shortages in key areas should be set up in response, the committee added. ', 'Tsunami debt deal to be announced  Chancellor Gordon Brown has said he hopes to announce a deal to suspend debt interest repayments by tsunami-hit nations later on Friday.  The agreement by the G8 group of wealthy nations would save affected countries £3bn pounds a year, he said. The deal is thought to have been hammered out on Thursday night after Japan, one of the biggest creditor nations, finally signed up to it. Mr Brown first proposed the idea earlier this week.  G8 ministers are also believed to have agreed to instruct the World Bank and the International Monetary Fund to complete a country by country analysis of the reconstruction problems faced by all states hit by the disaster. Mr Brown has been locked in talks with finance ministers of the G8, which Britain now chairs. Germany also proposed a freeze and Canada has begun its own moratorium. The expected deal comes as Foreign Secretary Jack Straw said the number of Britons dead or missing in the disaster have reached 440. ', 'Straw to attend Auschwitz service  Foreign Secretary Jack Straw will visit Auschwitz for the 60th anniversary of the former Nazi concentration camp\\'s liberation, it has been announced.  Prince Edward will also join the UK delegation in Poland for National Holocaust Memorial Day on 27 January. Between 1.1 and 1.5 million people, mainly Jews, were killed at Auschwitz. The Tories said they were glad Mr Straw had been \"shamed\" into going, having earlier criticised the decision to send a lower-ranking official. Shadow Foreign Secretary Michael Ancram said: \"I am glad the foreign secretary has finally been shamed into representing Britain at this important act of commemoration. \"Once again this government has shown crass insensitivity until it has been forced by public opinion into doing what it should have done in the first place.\"  In Britain, the Queen and Prince Philip will lead the nation\\'s commemoration at a service in Westminster Hall, London. The Queen will also host a reception for holocaust survivors at St James\\'s Palace. Altogether, some six million people, mainly Jews, perished in the Holocaust. The Queen\\'s grandson, Prince Harry, sparked outrage earlier this week after photographs of him wearing a Nazi uniform at a costume party emerged. The prince, 20, apologised, but critics have called for him to go to Auschwitz for the commemoration of the Soviets\\' 1945 liberation of the camp. Prince Harry should see for himself \"the results of the hated symbol he so foolishly and brazenly chose to wear\", Rabbi Marvin Hier, founder of Jewish human rights group the Simon Wiesenthal Center said. ', 'Drink remark \\'acts as diversion\\'  The first minister\\'s statement that it was okay to get drunk \"once in a while\" has diverted attention from the real issues, it has been claimed.  Jack Law, chief executive of Alcohol Focus Scotland, said Jack McConnell\\'s comment was \"ill-advised\". The media attention had helped to move the focus from Scotland\\'s binge drinking problems, Mr Law said. Scotsman journalist Hamish MacDonell said he believed the bigger picture had been \"obscured\" by the remark. Mr McConnell was speaking on Monday to more than 100 secondary pupils from schools in the Highlands about the problems of binge drinking and drink promotions.  The one-sentence comment was immediately criticised by the Scottish National Party which accused him of encouraging young people to get drunk. But the Scottish Executive has insisted Mr McConnell was speaking about adults and his comments were \"a recognition that people will get drunk\". Mr MacDonell, political editor of The Scotsman, said: \"I think we have to say right at the outset that this was a very stupid and ill-advised remark by the first minister. \"If you come out with something like this, saying that by all means get drunk, then you will be pilloried for it.\" However, he added that \"perhaps Mr McConnell could feel rightly aggrieved about the coverage\".  Mr MacDonell said: \"I think the problem here is that he did say a lot more things about binge drinking and under age drinking. \"But that whole side of things has been lost in the furore over one sentence. I understand why, but I think there is a much bigger message here that has been obscured.\" Mr Law, from voluntary body Alcohol Focus Scotland, believed damage had been done to Scotland\\'s fight against binge drinking. He said he accepted that young people drank and they did have problems with drink. Mr Law added: \"I think the remark was ill-advised - but these remarks are blown out of all proportion and they so easily misrepresent what we are trying to do in Scotland.  \"We don\\'t want to preach to young people, but we need to acknowledge that they do drink problematically. \"This diverts us from the real issues which are about promoting responsibility and reducing harm and indeed tackling our drinking culture which is a culture about binge drinking and drunkenness.\" He said it was vital that young people were properly informed about the risks incurred to themselves and others when they got drunk. Mr MacDonell said that the first minister should know by now that if he said things which were \"off the mark\", they were bound to \"come back and bite him\". He added: \"Here, Mr McConnell was talking in the Highlands to 100 teenagers and every word he said was put out on a webcast by the Scottish Executive and then looked at by other politicians and reporters. \"I think in this instance he has done a lot of really good things and he will be regretting this remark.\"  The Scottish National Party\\'s Holyrood leader Nicola Sturgeon wrote to Mr McConnell on Tuesday accusing him of an error of judgement and calling for him to apologise for his \"ill-judged comment\" and withdraw it immediately. In a furious response, the first minister said his comments had been distorted and taken out of context. He told Ms Sturgeon: \"It is disappointing that you have contributed to this distortion by saying it is staggering that I \\'should encourage young people to get drunk\\'. \"That is completely untrue. Perhaps it would have been wiser for you to find out what was actually said before you rushed to represent my position, undermine the convener of education at Highland Council and insult the intelligence of the young people I spoke with - all for the sake of a simple soundbite.\" ', 'Concerns at school diploma plan  Final appeals are being made for the government not to ditch the reform plan for England\\'s secondary schools put forward by the Tomlinson report.  The government\\'s response to the plan for a four-tier diploma to replace all existing 14-19 qualifications is expected next week. Some are worried it could be scuppered if, as Tony Blair and Ruth Kelly have suggested, GCSEs and A-levels stay. Sir Mike Tomlinson himself was briefed only this week. He is said to be feeling more comfortable about what the government is likely to say than if he had read only what was in newspapers in the earlier part of the week. But the government was said to be still rewriting its response on Friday. \"It will be a tragedy if the government comes through with a half-hearted response,\" said the chairman of the Commons education select committee, Labour MP Barry Sheerman.  His main concern was the reports that there would be a diploma - but only to replace existing vocational qualifications. \"We must tackle head-on the structural mess that is our secondary education system,\" he wrote in the Times Educational Supplement. \"It is not the case that the academic stream in secondary is fine while the vocational route is desperately weak.\" The Qualifications and Curriculum Authority (QCA) has also told the government not to \"compromise\". The QCA said the potential \"step-change in participation and attainment\" lay in the integrity of the whole diploma. \"Any partial implementation of the proposals would, in our view, compromise that integrity,\" said its chairman, Sir Anthony Greener. It is a sign of the QCA\\'s concern that its advice went to ministers last December but was publicised only recently. But people understand that a White Paper response is government policy and has to command wider ministerial support than if it were coming only from the Department for Education and Skills. They may be content if it does not \"close too many doors\" in writing - whatever spin is put on it.  The chief inspector of schools, David Bell, also said recently that GCSEs and A-levels should go. \"One of the reasons why I\\'m so strongly in favour of these terms disappearing over time is that it\\'s good for the symbols of change to be seen right across the system,\" he said. \"If we don\\'t say this is a sea-change in education, we will miss a great opportunity.\" Universities and head teachers in both the independent and state sectors have also backed the Tomlinson proposals, which include having higher grades at advanced level to differentiate between the brightest students. A note of concern has been expressed repeatedly by the employers\\' organisation, the CBI, which complains of a lack of skills. In an attempt to address this, the Tomlinson plan is for tests in \"functional\" maths and literacy - decidedly not GCSEs. It has been suggested the government will take steps of some sort to meet firms\\' concerns on this score. Another dissenter is Sir Mike Tomlinson\\'s predecessor as chief schools inspector, Professor Chris Woodhead, who has said there is no need for such a \"massive upheaval\". The Conservative Party has put forward plans to revert to a system of having only the brightest percentage of students each year getting the top A-level grade, no matter how well the others have done. ']\n"
          ]
        }
      ]
    },
    {
      "cell_type": "code",
      "metadata": {
        "id": "QxU1Ion3fXOC",
        "colab": {
          "base_uri": "https://localhost:8080/",
          "height": 70
        },
        "outputId": "1044454b-db44-42e2-e6c1-109734c36747"
      },
      "source": [
        "\"\"\"#to read the contents of the file and appending it into the list\n",
        "contents_of_files=[]\n",
        "for i in df.index:\n",
        "    print(df['File Names'][i])\n",
        "    file_name=df['File Names'][i]\n",
        "    #print(i)\n",
        "    f =file_name.open()\n",
        "    #print(f.read())\n",
        "    #each_file_content=f.read().replace(\"\\n\",\"\")\n",
        "    #contents_of_files.append(each_file_content)\n",
        "    #f.close()\n",
        "#print(contents_of_files)\"\"\"    "
      ],
      "execution_count": 119,
      "outputs": [
        {
          "output_type": "execute_result",
          "data": {
            "application/vnd.google.colaboratory.intrinsic+json": {
              "type": "string"
            },
            "text/plain": [
              "'#to read the contents of the file and appending it into the list\\ncontents_of_files=[]\\nfor i in df.index:\\n    print(df[\\'File Names\\'][i])\\n    file_name=df[\\'File Names\\'][i]\\n    #print(i)\\n    f =file_name.open()\\n    #print(f.read())\\n    #each_file_content=f.read().replace(\"\\n\",\"\")\\n    #contents_of_files.append(each_file_content)\\n    #f.close()\\n#print(contents_of_files)'"
            ]
          },
          "metadata": {},
          "execution_count": 119
        }
      ]
    },
    {
      "cell_type": "code",
      "metadata": {
        "colab": {
          "base_uri": "https://localhost:8080/"
        },
        "id": "4AlaJc-vfXOE",
        "outputId": "35c13a8f-90e6-4e58-a8be-11c458529c58"
      },
      "source": [
        "print(len(contents_of_files)) "
      ],
      "execution_count": 120,
      "outputs": [
        {
          "output_type": "stream",
          "name": "stdout",
          "text": [
            "20\n"
          ]
        }
      ]
    },
    {
      "cell_type": "code",
      "metadata": {
        "colab": {
          "base_uri": "https://localhost:8080/"
        },
        "id": "u6JRZp3ZfXOF",
        "outputId": "7507b4a2-1366-495d-ae3d-64827d9f2420"
      },
      "source": [
        "print(contents_of_files[0]) "
      ],
      "execution_count": 121,
      "outputs": [
        {
          "output_type": "stream",
          "name": "stdout",
          "text": [
            "Labour plans maternity pay rise  Maternity pay for new mothers is to rise by £1,400 as part of new proposals announced by the Trade and Industry Secretary Patricia Hewitt.  It would mean paid leave would be increased to nine months by 2007, Ms Hewitt told GMTV's Sunday programme. Other plans include letting maternity pay be given to fathers and extending rights to parents of older children. The Tories dismissed the maternity pay plan as \"desperate\", while the Liberal Democrats said it was misdirected.  Ms Hewitt said: \"We have already doubled the length of maternity pay, it was 13 weeks when we were elected, we have already taken it up to 26 weeks. \"We are going to extend the pay to nine months by 2007 and the aim is to get it right up to the full 12 months by the end of the next Parliament.\" She said new mothers were already entitled to 12 months leave, but that many women could not take it as only six of those months were paid. \"We have made a firm commitment. We will definitely extend the maternity pay, from the six months where it now is to nine months, that's the extra £1,400.\" She said ministers would consult on other proposals that could see fathers being allowed to take some of their partner's maternity pay or leave period, or extending the rights of flexible working to carers or parents of older children. The Shadow Secretary of State for the Family, Theresa May, said: \"These plans were announced by Gordon Brown in his pre-budget review in December and Tony Blair is now recycling it in his desperate bid to win back women voters.\"  She said the Conservatives would announce their proposals closer to the General Election. Liberal Democrat spokeswoman for women Sandra Gidley said: \"While mothers would welcome any extra maternity pay the Liberal Democrats feel this money is being misdirected.\" She said her party would boost maternity pay in the first six months to allow more women to stay at home in that time.  Ms Hewitt also stressed the plans would be paid for by taxpayers, not employers. But David Frost, director general of the British Chambers of Commerce, warned that many small firms could be \"crippled\" by the move. \"While the majority of any salary costs may be covered by the government's statutory pay, recruitment costs, advertising costs, retraining costs and the strain on the company will not be,\" he said. Further details of the government's plans will be outlined on Monday. New mothers are currently entitled to 90% of average earnings for the first six weeks after giving birth, followed by £102.80 a week until the baby is six months old. \n"
          ]
        }
      ]
    },
    {
      "cell_type": "code",
      "metadata": {
        "colab": {
          "base_uri": "https://localhost:8080/"
        },
        "id": "5uY0mmJafXOI",
        "outputId": "8973c13f-eea1-45ac-d15c-7e13a8ee6281"
      },
      "source": [
        "print(contents_of_files[1]) "
      ],
      "execution_count": 122,
      "outputs": [
        {
          "output_type": "stream",
          "name": "stdout",
          "text": [
            "Watchdog probes e-mail deletions  The information commissioner says he is urgently asking for details of Cabinet Office orders telling staff to delete e-mails more than three months old.  Richard Thomas \"totally condemned\" the deletion of e-mails to prevent their disclosure under freedom of information laws coming into force on 1 January. Government guidance said e-mails should only be deleted if they served \"no current purpose\", Mr Thomas said. The Tories and the Lib Dems have questioned the timing of the new rules.  Tory leader Michael Howard has written to Tony Blair demanding an explanation of the new rules on e-mail retention. On Monday Lib Dem constitutional affairs committee chairman Alan Beith warned that the deletion of millions of government e-mails could harm the ability of key probes like the Hutton Inquiry. The timing of the new rules just before the Freedom of Information Act comes into forces was \"too unlikely to have been a coincidence\", Mr Beith said. But a Cabinet Office spokeswoman said the move was not about the new laws or \"the destruction of important records\". Mr Beith urged the information commissioner to look at how the \"e-mail regime\" could \"support the freedom of information regime\".  Mr Thomas said: \"The new Act of Parliament makes it very clear that to destroy records in order to prevent their disclosure becomes a criminal offence.\" He said there was already clear guidance on the retention of e-mails contained in a code of practice from the lord chancellor. All e-mails are subject to the freedom of information laws, but the important thing was the content of the e-mail, said Mr Thomas.  \"If in doubt retain, that has been the long-standing principle of the civil service and public authorities. It's only when you've got no further use for the particular record that it may be legitimate to destroy it. \"But any deliberate destruction to avoid the possibility of later disclosure is to be totally condemned.\" The Freedom of Information Act will cover England, Wales and Northern Ireland from next year. Similar measures are being brought in at the same time in Scotland. It provides the public with a right of access to information held by about 100,000 public bodies, subject to various exemptions. Its implementation will be monitored by the information commissioner. \n"
          ]
        }
      ]
    },
    {
      "cell_type": "code",
      "metadata": {
        "id": "OpAtAhuIfXOJ"
      },
      "source": [
        "contractions = { \n",
        "\"ain't\": \"are not\",\n",
        "\"aren't\": \"are not\",\n",
        "\"can't\": \"cannot\",\n",
        "\"can't've\": \"cannot have\",\n",
        "\"'cause\": \"because\",\n",
        "\"could've\": \"could have\",\n",
        "\"couldn't\": \"could not\",\n",
        "\"couldn't've\": \"could not have\",\n",
        "\"didn't\": \"did not\",\n",
        "\"doesn't\": \"does not\",\n",
        "\"don't\": \"do not\",\n",
        "\"hadn't\": \"had not\",\n",
        "\"hadn't've\": \"had not have\",\n",
        "\"hasn't\": \"has not\",\n",
        "\"haven't\": \"have not\",\n",
        "\"he'd\": \"he had\",\n",
        "\"he'd've\": \"he would have\",\n",
        "\"he'll\": \"he will\",\n",
        "\"he'll've\": \"he will have\",\n",
        "\"he's\": \"he is\",\n",
        "\"how'd\": \"how did\",\n",
        "\"how'd'y\": \"how do you\",\n",
        "\"how'll\": \"how will\",\n",
        "\"how's\": \"how is\",\n",
        "\"I'd\": \"I had\",\n",
        "\"I'd've\": \"I would have\",\n",
        "\"I'll\": \"I will\",\n",
        "\"I'll've\": \"I will have\",\n",
        "\"I'm\": \"I am\",\n",
        "\"I've\": \"I have\",\n",
        "\"isn't\": \"is not\",\n",
        "\"it'd\": \"it had\",\n",
        "\"it'd've\": \"it would have\",\n",
        "\"it'll\": \"it will\",\n",
        "\"it'll've\": \"it will have\",\n",
        "\"it's\": \"it is\",\n",
        "\"let's\": \"let us\",\n",
        "\"ma'am\": \"madam\",\n",
        "\"mayn't\": \"may not\",\n",
        "\"might've\": \"might have\",\n",
        "\"mightn't\": \"might not\",\n",
        "\"mightn't've\": \"might not have\",\n",
        "\"must've\": \"must have\",\n",
        "\"mustn't\": \"must not\",\n",
        "\"mustn't've\": \"must not have\",\n",
        "\"needn't\": \"need not\",\n",
        "\"needn't've\": \"need not have\",\n",
        "\"o'clock\": \"of the clock\",\n",
        "\"oughtn't\": \"ought not\",\n",
        "\"oughtn't've\": \"ought not have\",\n",
        "\"shan't\": \"shall not\",\n",
        "\"sha'n't\": \"shall not\",\n",
        "\"shan't've\": \"shall not have\",\n",
        "\"she'd\": \"she had\",\n",
        "\"she'd've\": \"she would have\",\n",
        "\"she'll\": \"she will\",\n",
        "\"she'll've\": \"she will have\",\n",
        "\"she's\": \"she is\",\n",
        "\"should've\": \"should have\",\n",
        "\"shouldn't\": \"should not\",\n",
        "\"shouldn't've\": \"should not have\",\n",
        "\"so've\": \"so have\",\n",
        "\"so's\": \"so as\",\n",
        "\"that'd\": \"that would\",\n",
        "\"that'd've\": \"that would have\",\n",
        "\"that's\": \"that is\",\n",
        "\"there'd\": \"there had\",\n",
        "\"there'd've\": \"there would have\",\n",
        "\"there's\": \"there is\",\n",
        "\"they'd\": \"they would\",\n",
        "\"they'd've\": \"they would have\",\n",
        "\"they'll\": \"they will\",\n",
        "\"they'll've\": \"they will have\",\n",
        "\"they're\": \"they are\",\n",
        "\"they've\": \"they have\",\n",
        "\"to've\": \"to have\",\n",
        "\"wasn't\": \"was not\",\n",
        "\"we'd\": \"we had\",\n",
        "\"we'd've\": \"we would have\",\n",
        "\"we'll\": \"we will\",\n",
        "\"we'll've\": \"we will have\",\n",
        "\"we're\": \"we are\",\n",
        "\"we've\": \"we have\",\n",
        "\"weren't\": \"were not\",\n",
        "\"what'll\": \"what will\",\n",
        "\"what'll've\": \"what will have\",\n",
        "\"what're\": \"what are\",\n",
        "\"what's\": \"what is\",\n",
        "\"what've\": \"what have\",\n",
        "\"when's\": \"when is\",\n",
        "\"when've\": \"when have\",\n",
        "\"where'd\": \"where did\",\n",
        "\"where's\": \"where is\",\n",
        "\"where've\": \"where have\",\n",
        "\"who'll\": \"who will\",\n",
        "\"who'll've\": \"who will have\",\n",
        "\"who's\": \"who has\",\n",
        "\"who've\": \"who have\",\n",
        "\"why's\": \"why is\",\n",
        "\"why've\": \"why have\",\n",
        "\"will've\": \"will have\",\n",
        "\"won't\": \"will not\",\n",
        "\"won't've\": \"will not have\",\n",
        "\"would've\": \"would have\",\n",
        "\"wouldn't\": \"would not\",\n",
        "\"wouldn't've\": \"would not have\",\n",
        "\"y'all\": \"you all\",\n",
        "\"y'all'd\": \"you all would\",\n",
        "\"y'all'd've\": \"you all would have\",\n",
        "\"y'all're\": \"you all are\",\n",
        "\"y'all've\": \"you all have\",\n",
        "\"you'd\": \"you would\",\n",
        "\"you'd've\": \"you would have\",\n",
        "\"you'll\": \"you will\",\n",
        "\"you'll've\": \"you will have\",\n",
        "\"you're\": \"you are\",\n",
        "\"you've\": \"you have\"\n",
        "}"
      ],
      "execution_count": 123,
      "outputs": []
    },
    {
      "cell_type": "code",
      "metadata": {
        "colab": {
          "base_uri": "https://localhost:8080/"
        },
        "id": "v_a1MRX4MfPW",
        "outputId": "4a2837b2-bd69-4000-9fd5-c4435b2b01f2"
      },
      "source": [
        "!nltk.download(\"stopwords\")"
      ],
      "execution_count": 124,
      "outputs": [
        {
          "output_type": "stream",
          "name": "stdout",
          "text": [
            "/bin/bash: -c: line 0: syntax error near unexpected token `\"stopwords\"'\n",
            "/bin/bash: -c: line 0: `nltk.download(\"stopwords\")'\n"
          ]
        }
      ]
    },
    {
      "cell_type": "code",
      "metadata": {
        "colab": {
          "base_uri": "https://localhost:8080/"
        },
        "id": "IVfP5EKINN9j",
        "outputId": "c3d4fa2b-89ec-4638-a4bc-f228b1fd34e1"
      },
      "source": [
        "!nltk.download(\"wordnet\")"
      ],
      "execution_count": 125,
      "outputs": [
        {
          "output_type": "stream",
          "name": "stdout",
          "text": [
            "/bin/bash: -c: line 0: syntax error near unexpected token `\"wordnet\"'\n",
            "/bin/bash: -c: line 0: `nltk.download(\"wordnet\")'\n"
          ]
        }
      ]
    },
    {
      "cell_type": "code",
      "metadata": {
        "colab": {
          "base_uri": "https://localhost:8080/"
        },
        "id": "1r0z8pyLfXOM",
        "outputId": "d2b84fec-8a5f-4897-f299-7b11c056f13b"
      },
      "source": [
        "import re\n",
        "import nltk\n",
        "from nltk.corpus import stopwords\n",
        "stop_words=stopwords.words('english')\n",
        "from nltk.stem import WordNetLemmatizer\n",
        "list_of_all_clean_para_words=[]\n",
        "def clean_text(text):\n",
        "    #to convert it into lower case\n",
        "    text=text.lower()\n",
        "    print(\"text\\n\",text)\n",
        "    words_list1=text.split()\n",
        "    #print(\"\\nwords list\\n\",words_list)\n",
        "    clean_tokens_temp=[]\n",
        "    tokens=[]\n",
        "    clean_para_words=[]\n",
        "    words_list=[]\n",
        "    \n",
        "    #to convert all those words with apostophies to the expanded version of it eg:you've=you have\n",
        "    for j in words_list1:\n",
        "        if j in contractions:\n",
        "            words_list.append(contractions[j])\n",
        "        else:\n",
        "            words_list.append(j)\n",
        "    #print(words_list)\n",
        "    for i in words_list:\n",
        "        \n",
        "        #to remove all the puctuations leaving inverted, %;^==>except this everything else must be removed\n",
        "        re.sub('[^A-Za-z0-9\\%\\']+',' ', i)\n",
        "        \n",
        "        \n",
        "        #to remove the commas and fullstop... thats just at the end of the word eg:end,=end\n",
        "        temp=i.strip(\".,:\\\"\")\n",
        "        #print(\"old\\n\",temp)\n",
        "        \n",
        "            \n",
        "        \n",
        "        #applying lemmetization i.e converting similar words to 1 word eg: sadly=sad\n",
        "        lemmatiser = WordNetLemmatizer()\n",
        "        #pos='v'=>applying lemetization on verbs eg:rocks=rock\n",
        "        temp = lemmatiser.lemmatize(temp,'v')\n",
        "        #print(temp)\n",
        "        \n",
        "        \n",
        "        #to remove stop words\n",
        "        if temp not in stop_words:\n",
        "            tokens.append(temp)\n",
        "        \n",
        "       \n",
        "        #clean_sentence=''.join(temp)\n",
        "    #print(tokens)\n",
        "    clean_para_words.append(tokens)\n",
        "    list_of_all_clean_para_words.append(clean_para_words)\n",
        "    #print(clean_para_words)\n",
        "        \n",
        "#print(list_of_all_clean_para_words)\n",
        "        \n",
        "        \n",
        "cleaned_contents_of_files=[]\n",
        "for i in contents_of_files:\n",
        "    #print(i)\n",
        "    cleaned_contents_of_files.append(clean_text(i))\n",
        "#print(cleaned_contents_of_files)"
      ],
      "execution_count": 126,
      "outputs": [
        {
          "output_type": "stream",
          "name": "stdout",
          "text": [
            "text\n",
            " labour plans maternity pay rise  maternity pay for new mothers is to rise by £1,400 as part of new proposals announced by the trade and industry secretary patricia hewitt.  it would mean paid leave would be increased to nine months by 2007, ms hewitt told gmtv's sunday programme. other plans include letting maternity pay be given to fathers and extending rights to parents of older children. the tories dismissed the maternity pay plan as \"desperate\", while the liberal democrats said it was misdirected.  ms hewitt said: \"we have already doubled the length of maternity pay, it was 13 weeks when we were elected, we have already taken it up to 26 weeks. \"we are going to extend the pay to nine months by 2007 and the aim is to get it right up to the full 12 months by the end of the next parliament.\" she said new mothers were already entitled to 12 months leave, but that many women could not take it as only six of those months were paid. \"we have made a firm commitment. we will definitely extend the maternity pay, from the six months where it now is to nine months, that's the extra £1,400.\" she said ministers would consult on other proposals that could see fathers being allowed to take some of their partner's maternity pay or leave period, or extending the rights of flexible working to carers or parents of older children. the shadow secretary of state for the family, theresa may, said: \"these plans were announced by gordon brown in his pre-budget review in december and tony blair is now recycling it in his desperate bid to win back women voters.\"  she said the conservatives would announce their proposals closer to the general election. liberal democrat spokeswoman for women sandra gidley said: \"while mothers would welcome any extra maternity pay the liberal democrats feel this money is being misdirected.\" she said her party would boost maternity pay in the first six months to allow more women to stay at home in that time.  ms hewitt also stressed the plans would be paid for by taxpayers, not employers. but david frost, director general of the british chambers of commerce, warned that many small firms could be \"crippled\" by the move. \"while the majority of any salary costs may be covered by the government's statutory pay, recruitment costs, advertising costs, retraining costs and the strain on the company will not be,\" he said. further details of the government's plans will be outlined on monday. new mothers are currently entitled to 90% of average earnings for the first six weeks after giving birth, followed by £102.80 a week until the baby is six months old. \n",
            "text\n",
            " watchdog probes e-mail deletions  the information commissioner says he is urgently asking for details of cabinet office orders telling staff to delete e-mails more than three months old.  richard thomas \"totally condemned\" the deletion of e-mails to prevent their disclosure under freedom of information laws coming into force on 1 january. government guidance said e-mails should only be deleted if they served \"no current purpose\", mr thomas said. the tories and the lib dems have questioned the timing of the new rules.  tory leader michael howard has written to tony blair demanding an explanation of the new rules on e-mail retention. on monday lib dem constitutional affairs committee chairman alan beith warned that the deletion of millions of government e-mails could harm the ability of key probes like the hutton inquiry. the timing of the new rules just before the freedom of information act comes into forces was \"too unlikely to have been a coincidence\", mr beith said. but a cabinet office spokeswoman said the move was not about the new laws or \"the destruction of important records\". mr beith urged the information commissioner to look at how the \"e-mail regime\" could \"support the freedom of information regime\".  mr thomas said: \"the new act of parliament makes it very clear that to destroy records in order to prevent their disclosure becomes a criminal offence.\" he said there was already clear guidance on the retention of e-mails contained in a code of practice from the lord chancellor. all e-mails are subject to the freedom of information laws, but the important thing was the content of the e-mail, said mr thomas.  \"if in doubt retain, that has been the long-standing principle of the civil service and public authorities. it's only when you've got no further use for the particular record that it may be legitimate to destroy it. \"but any deliberate destruction to avoid the possibility of later disclosure is to be totally condemned.\" the freedom of information act will cover england, wales and northern ireland from next year. similar measures are being brought in at the same time in scotland. it provides the public with a right of access to information held by about 100,000 public bodies, subject to various exemptions. its implementation will be monitored by the information commissioner. \n",
            "text\n",
            " hewitt decries 'career sexism'  plans to extend paid maternity leave beyond six months should be prominent in labour's election manifesto, the trade and industry secretary has said.  patricia hewitt said the cost of the proposals was being evaluated, but it was an \"increasingly high priority\" and a \"shared goal across government\". ms hewitt was speaking at a gender and productivity seminar organised by the equal opportunities commission (eoc). mothers can currently take up to six months' paid leave - and six unpaid. ms hewitt told the seminar: \"clearly, one of the things we need to do in the future is to extend the period of payment for maternity leave beyond the first six months into the second six months. \"we are looking at how quickly we can do that, because obviously there are cost implications because the taxpayer reimburses the employers for the cost of that.\"  ms hewitt also announced a new drive to help women who want to work in male dominated sectors, saying sexism at work was still preventing women reaching their full potential. plans include funding for universities to help female science and engineering graduates find jobs and \"taster courses\" for men and women in non-traditional jobs. women in full-time work earn 19% less than men, according to the equal opportunities commission (eoc).  the minister told delegates that getting rid of \"career sexism\" was vital to closing the gender pay gap.  \"career sexism limits opportunities for women of all ages and prevents them from achieving their full potential. \"it is simply wrong to assume someone cannot do a job on the grounds of their sex,\" she said. earlier, she told bbc radio 4's today programme: \"what we are talking about here is the fact that about six out of 20 women work in jobs that are low-paid and typically dominated by women, so we have got very segregated employment. \"unfortunately, in some cases, this reflects very old-fashioned and stereotypical ideas about the appropriate jobs for women, or indeed for men. \"career sexism is about saying that engineering, for instance, where only 10% of employees are women, is really a male-dominated industry. construction is even worse. \"but it is also about saying childcare jobs are really there for women and not suitable for men. career sexism goes both ways.\"  she added that while progress had been made, there was still a gap in pay figures. \"the average woman working full-time is being paid about 80p for every pound a man is earning. for women working part-time it is 60p.\" the department for trade and industry will also provide funding to help a new pay experts panel run by the tuc.  it has been set up to advise hundreds of companies on equal wage policies. research conducted by the eoc last year revealed that many britons believe the pay gap between men and women is the result of \"natural differences\" between the sexes. women hold less than 10% of the top positions in ftse 100 companies, the police, the judiciary and trade unions, according to their figures. and retired women have just over half the income of their male counterparts on average. \n",
            "text\n",
            " labour chooses manchester  the labour party will hold its 2006 autumn conference in manchester and not blackpool, it has been confirmed.  the much trailed decision was ratified by labour's ruling national executive committee in a break with the traditional choice of a seaside venue. it will be the first time since 1917 that the party has chosen manchester to host the annual event. blackpool will get the much smaller february spring conference instead in what will be seen as a placatory move.  for years the main political parties have rotated between blackpool, bournemouth and brighton. and the news the much larger annual conference is not to gather in blackpool will be seen as a blow in the coastal resort. in 1998 the party said it would not return to blackpool but did so in 2002. the following year bournemouth hosted the event before the party signed a two year deal for brighton to host the autumn conference.  colin asplin, blackpool hotel association said: \"we have tried very hard to make sure they come back to blackpool. \"obviously we have failed in that. i just hope manchester can handle the crowds. \"it amazes me that the labour party, which is a working class party, doesn't want to come to the main working class resort in the country.\" the exact cost to blackpool in terms of lost revenue for hotel accommodation is not yet known but it is thought that block bookings will be taken at the major manchester hotels after the official announcement. \n",
            "text\n",
            " brown ally rejects budget spree  chancellor gordon brown's closest ally has denied suggestions there will be a budget giveaway on 16 march.  ed balls, ex-chief economic adviser to the treasury, said there would be no spending spree before polling day. but mr balls, a prospective labour mp, said he was confident the chancellor would meet his fiscal rules. he was speaking as sir digby jones, cbi director general, warned mr brown not to be tempted to use any extra cash on pre-election bribes.  mr balls, who stepped down from his treasury post to stand as a labour candidate in the election, had suggested that mr brown would meet his golden economic rule - \"with a margin to spare\". he said he hoped more would be done to build on current tax credit rules.  he also stressed rise in interest rates ahead of an expected may election would not affect the labour party's chances of winning. expectations of a rate rise have gathered pace after figures showed house prices are still rising. consumer borrowing rose at a near-record pace in january. \"if the mpc (the bank of england's monetary policy committee) were to judge that a rate rise was justified before the election because of the strength of the economy - and i'm not predicting that they will - i do not believe that this will be a big election issue in britain for labour,\" he told a parliamentary lunch. \"this is a big change in our political culture.\"  during an interview with bbc radio 4's today programme, mr balls said he was sure mr brown's budget would not put at risk the stability of the economy. \"i don't think we'll see a pre-election spending spree - we certainly did not see that before 2001,\" he said.  his assurances came after sir digby jones said stability was all important and any extra cash should be spent on improving workers' skills. his message to the chancellor was: \"please don't give it away in any form of electioneering.\" sir digby added: \"i don't think he will. i have to say he has been a prudent chancellor right the way through. stability is the key word - british business needs boring stability more than anything. \"we would say to him 'don't increase your public spending, don't give it away. but if you are going to anywhere, just add something to the competitiveness of britain, put it into skilling our people'. \"that would be a good way to spend any excess.\"  mr balls refused to say whether mr brown would remain as chancellor after the election, amid speculation he will be offered the job of foreign secretary. \"i think that gordon brown wants to be part of the successful labour government which delivers in the third term for the priorities of the people and sees off a conservative party that will take britain backwards,\" mr balls told today. prime minister tony blair has yet to name the date of the election, but most pundits are betting on 5 may. \n",
            "text\n",
            " 'errors' doomed first dome sale  the initial attempt to sell the millennium dome failed due to a catalogue of errors, a report by the government's finance watchdog says.  the report said too many parties were involved in decision-making when the attraction first went on sale after the millennium exhibition ended. the national audit office said the dome cost taxpayers £28.7m to maintain and sell in the four years after it closed. finally, a deal to turn it into a sport and entertainment venue was struck. more than £550m could now be returned to the public sector in the wake of the deal to regenerate the site in greenwich, london.  the nao report said that this sale went through because it avoided many of the problems of the previous attempt to sell the dome. deputy prime minister john prescott said a good deal had been secured. \"delivery of the many benefits secured through this deal will continue the substantial progress already made at the millennium village and elsewhere on the peninsula,\" he said. but edward leigh, who is chairman of the commons public accounts committee, warned the government would have to work hard to ensure taxpayers would get full benefit from the dome deal. he said: \"this report also shows that the first attempt to sell the dome proved a complete fiasco. every arm of government seems to have had a finger in the pie. the process was confused and muddled.\" he added: \"four years after the millennium exhibition closed, the government finally has a deal to find a use for what has been a white elephant since it closed in a deal that, incredible as it may seem, should bring in some money and provide a benefit for the local area and the country as whole. however, it was more a question of luck that a strong bid turned up after thefirst abortive attempt.\" nao head sir john bourn said: \"in difficult circumstances following the failure of the first competition, english partnerships and the office of the deputy prime minister have worked hard to get a deal.\" \n",
            "text\n",
            " fox attacks blair's tory 'lies'  tony blair lied when he took the uk to war so has no qualms about lying in the election campaign, say the tories.  tory co-chairman liam fox was speaking after mr blair told labour members the tories offered a \"hard right agenda\". dr fox told bbc radio: \"if you are willing to lie about the reasons for going to war, i guess you are going to lie about anything at all.\" he would not discuss reports the party repaid £500,000 to lord ashcroft after he predicted an election defeat.  the prime minister ratcheted up labour's pre-election campaigning at the weekend with a helicopter tour of the country and his speech at the party's spring conference. he insisted he did not know the poll date, but it is widely expected to be 5 may.  in what was seen as a highly personal speech in gateshead on sunday, mr blair said: \"i have the same passion and hunger as when i first walked through the door of 10 downing street.\" he described his relationship with the public as starting euphoric, then struggling to live up to the expectations, and reaching the point of raised voices and \"throwing crockery\". he warned his supporters against complacency, saying: \"it's a fight for the future of our country, it's a fight that for britain and the people of britain we have to win.\"  mr blair said that whether the public chose michael howard or mr kennedy, it would result in \"a tory government not a labour government and a country that goes back and does not move forward\". dr fox accused mr blair and other cabinet ministers of telling lies about their opponents' policies and then attacking the lies. \"what we learned at the weekend is what labour tactics are going to be and it's going to be fear and smear,\" he told bbc news. the tory co-chairman attacked labour's six new pledges as \"vacuous\" and said mr blair was very worried voters would take revenge for his failure to deliver. dr fox refused to discuss weekend newspaper reports that the party had repaid £500,000 to former tory treasurer lord ashcroft after he said the party could not win the election. \"we repay loans when they are due but do not comment to individual financial matters,\" he said, insisting he enjoyed a \"warm and constructive\" relationship to lord ashcroft.  meanwhile lib dem leader charles kennedy is expected to attack mr blair's words as he begins a nationwide tour on monday. mr kennedy is accelerating lib dem election preparations this week as he visits manchester, liverpool, leicester, somerset, basingstoke, shrewsbury, dorset and torbay. he said: \"this is three-party politics. in the northern cities, the contest is between labour and the liberal democrats. \"in southern and rural seats - especially in the south west - the principal contenders are the liberal democrats and the conservatives, who are out of the running in scotland and wales.\" the lib dems accuse mr blair of making a \"touchy-feely\" speech to labour delegates which will not help him regain public trust. \n",
            "text\n",
            " women mps reveal sexist taunts  women mps endure \"shocking\" levels of sexist abuse at the hands of their male counterparts, a new study shows.  male mps pretended to juggle imaginary breasts and jeered \"melons\" as women made commons speeches, researchers from birkbeck college were told. labour's yvette cooper said she found it hard to persuade commons officials she was a minister and not a secretary. some 83 mps gave their answers in 100 hours of taped interviews for the study \"whose secretary are you, minister\".  the research team, under professor joni lovenduski, had set out to look at the achievements and experiences of women at westminster. but what emerged was complaints from mps of all parties of sexist barracking in the chamber, sexist insults and patronising assumptions about their abilities. barbara follet, one of the so-called \"blair babes\" elected in 1997, told researchers: \"i remember some conservatives - whenever a labour woman got up to speak they would take their breasts - imaginary breasts - in their hands and wiggle them and say 'melons' as we spoke.\" former liberal democrat mp jackie ballard recalled a stream of remarks from a leading mp on topics such as women's legs or their sexual persuasion. and ex-tory education secretary gillian shepherd remembered how one of her male colleagues called all women \"betty\".  \"when i said, 'look you know my name isn't betty', he said, 'ah but you're all the same, so i call you all betty'.\" harriet harman told researchers of the sheer hostility prompted by her advancement to the cabinet: \"well, you've only succeeded because you're a woman.\" another current member of the cabinet says she was told: \"oh, you've had a very fast rise, who have you been sleeping with?\" even after the great influx of women mps at the 1997 general election, and greater numbers of women in the cabinet, female mps often say they feel stuck on the edge of a male world.  liberal democrat sarah teather, the most recent female mp to be elected, told researchers: \"lots of people say it's like an old boys club. \"i've always said to me it feels more like a teenage public school - you know a public school full of teenagers.\" prof joni lovenduski, who conducted the study with the help of margaret moran mp and a team of journalists, said she was shocked at the findings. \"we expected a bit of this but nothing like this extent. we expected to find a couple of shocking episodes.\" but she said there was a difference between the experiences of women before the 1997 intake and afterwards. this was mainly because there were more women present in parliament who were not prepared to \"put up with\" the sexist attitudes they came across, prof lovenduski said. but she added: \"some women, including the women who came in 1997, received extraordinary treatment and i am not convinced that if the number of women changed back to what it was before 1997 that things would not change back. \"what i think is shocking to the general public is that these things go on in the house of commons.\" the interviews are to be placed in the british library as a historical record. \n",
            "text\n",
            " campbell: e-mail row 'silly fuss'  ex-no 10 media chief alastair campbell is at the centre of a new political row over an e-mail containing a four-letter outburst aimed at bbc journalists.  mr campbell sent the missive by mistake to bbc2's newsnight after it sought to question his role in labour's controversial poster campaign. he later contacted the show saying the original e-mail had been sent in error and that it was all a \"silly fuss\". mr campbell has recently re-joined labour's election campaign.  the e-mail was revealed the day after peter mandelson, former labour minister and now a european commissioner, warned the bbc to steer away from \"demonising\" mr campbell. mr campbell messaged newsnight after the programme investigated claims that labour's advertising agency tbwa was blaming him for controversy over its campaign posters. the images, including one of flying pigs and another of what critics claim depicted tory leader michael howard as fagin, prompted accusations of anti-semitism, claims denied by labour.  mr campbell's e-mail, which was apparently intended for a party official, suggested they should get trevor beattie, tbwa's boss, to issue a statement. in it, he said: \"just spoke to trev. think tbwa shd give statement to newsnight saying party and agency work together well and nobody here has spoken to standard. posters done by by tbwa according to political brief. now fuck off and cover something important you twats!\" the e-mail was sent by mistake to newsnight journalist andrew mcfadyen. realising his error, mr campbell then e-mailed mr mcfadyen pointing out the mistake, but suggesting presenter jeremy paxman would have seen the funny side.  he said: \"not very good at this e-mail blackberry malarkey. just looked at log of sent messages, have realised e-mail meant for colleagues at tbwa has gone to you. for the record, first three sentences of email spot on. no row between me and trevor. \"posters done by them according to our brief. i dreamt up flying pigs. pigs not great but okay in the circs of tories promising tax cuts and spending rises with the same money. tbwa made production. \"campbell swears shock. final sentence of earlier e-mail probably a bit colourful and personal considering we have never actually met but i'm sure you share the same sense of humour as your star presenter mr p. \"never known such a silly fuss since the last silly fuss but there we go. must look forward not back.\"  later the prime minister's spokesman was asked by journalists about his view on mr campbell's use of abusive language. the spokesman said: \"the person you are referring to is capable of speaking for himself and he no longer works in government.\" foreign secretary jack straw said he had always had \"very good and polite relations\" with mr campbell, who he described as \"very talented\". but on the former spin doctor's use of language, mr straw said: \"i do know the odd journalist who has occasionally used the odd word that would probably be inappropriate in some circumstances. maybe i mix with the wrong kind of journalists.\" liam fox, tory co-chairman, said the return of mr campbell was a sign of new \"sinister and underhand tactics\" by labour. \n",
            "text\n",
            " crucial decision on super-casinos  a decision on whether to allow westminster to legislate on super-casinos is set to be made by the scottish parliament.  the government has plans for up to eight las vegas style resorts in the uk, one of which is likely to be in glasgow. scottish ministers insist they will still have the final say on whether a super-casino will be built in scotland. but opposition parties say that will not happen in practice. the vote is due to be taken on wednesday and is expected to be close.  the scottish executive believes that the legislation should be handled by westminster. the new law will control internet gambling for the first time and is aimed at preventing children from becoming involved. a super-casino in glasgow could be located at ibrox or the scottish exhibition and conference centre. the new gambling bill going through westminster will allow casino complexes to open to the public, have live entertainment and large numbers of fruit machines with unlimited prizes. but the scottish national party and the tories say the issue of super-casinos should be decided in scotland and believe the executive is shirking its responsibility. \n",
            "text\n",
            " mrs howard gets key election role  michael howard's ex-model wife, sandra, is to play a leading role in the conservative election campaign.  mrs howard will make solo visits to target seats as well as accompanying her husband on his helicopter campaign trail criss-crossing the country. mr howard will host a news conference at the party's london hq every morning, tory co-chairman liam fox said. \"we want michael to be as accessible as possible,\" mr fox said, adding that the party was not afraid of scrutiny.  the tory leader wanted to meet as many ordinary members of the public, mr fox said. tony blair has also said he is intending to get out and talk to as many people as possible during the election campaign. but labour campaign chiefs say there are no plans for mr blair to hold a daily news conference.  mr fox responded by accusing the prime minister of \"hiding away from the scrutiny of london's media\". the liberal democrats also say they are planning to hold daily news conferences with charles kennedy. on mrs howard's role, mr fox said: \"sandra has already been campaigning with michael on a number of visits and has been undertaking short visits herself. \"that pattern will continue. it's worked very well up until now.\" mrs howard made her debut speech at the conservative party conference in bournemouth last october. she used her speech on the fringe to highlight the work of a drugs charity, addaction, which she supports. mrs howard has also appeared along side her husband on tv chat shows. during an interview on itv1's this morning she said she often criticised her husband for not showing the side of him that she knows. \n",
            "text\n",
            " pm apology over jailings  tony blair has apologised to two families who suffered one of the uk's biggest miscarriages of justice.  the prime minister was commenting on the wrongful jailing of 11 people for ira bomb attacks on pubs in guildford and woolwich in 1974. mr blair said: \"i am very sorry that they were subject to such an ordeal and injustice.\" he made the apology to members of the conlon and maguire families in his private room at westminster. in a statement recorded for television, mr blair said the families deserved \"to be completely and publicly exonerated\".  the families had hoped the apology would be made during prime minister's questions in the house of commons. however, one of the so-called guildford four, gerry conlon - who was wrongly convicted of planting the bombs - said the families were delighted with the apology. he said mr blair had spoken with \"such sincerity\", adding: \"he went beyond what we thought he would, he took time to listen to everyone. \"you could see he was moved by what people were saying. \"tony blair has healed rifts, he is helping to heal wounds. it's a day i never thought would come.\" the move followed a huge campaign in ireland for a public apology after eleven people were wrongly convicted of making and planting the ira bombs which killed seven people. mr blair's official spokesman said no-one present at the meeting would \"ever forget the strength of feeling of relief that the prime minister's statement brought to them\".  most of those convicted were either members or friends of the two families. all were arrested because of a family connection to gerry conlon. mr conlon's father giuseppe was arrested when travelling to london from belfast to help his son. he died while serving his sentence. also arrested were anne maguire and members of her family. mrs maguire was the relative with whom giuseppe planned to stay in london, as well as two family friends. she said it was a \"wonderful feeling\" to have had the apology and that a weight had been lifted off her shoulders.  \"the people who were still doubting us should now believe that we were totally innocent,\" she said. they were all jailed for handling explosives, based on scientific evidence which was later entirely discredited. in october 1989 the court of appeal quashed the sentences of the guildford four, and in june 1991 it overturned the sentences on the maguire seven. mr conlon's case was highlighted in the oscar-nominated film in the name of the father, starring daniel day-lewis. \n",
            "text\n",
            " howard rebuts asylum criticisms  tory leader michael howard has gone on the offensive in response to people questioning how a son of immigrants can propose asylum quotas.  mr howard, whose parents fled the nazi threat to come to the uk, says the claim would mean no-one from an immigrant family could become premier. his comments come in a bbc documentary called 'no more mr nasty'. tv presenter anne robinson said as home secretary he gave the impression he would \"like to kick your cat\". ms robinson, a friend of the tory leader, also revealed that as a cambridge student mr howard was \"much loved by women and he was a courteous and kind and rather dashing lover\" - although she denied having personal experience. \"i wasn't at cambridge - and it's not personal experience - but i know people who were.\"  documentary maker michael cockerell was given behind-the-scenes access to mr howard for his film portrait. the tory leader was asked about to respond to people who said that if there had there been a quota on immigration and asylum in the 1930s, his parents might not have been allowed into the country.  he replies: \"what is the inference of that? \"that if you reach the view that you need to control immigration in the interests of the country you're not allowed to put a view forward if you happen to be descended from immigrants? \"that seems to me an absolutely extraordinary proposition? it would certainly mean no one from immigrant parents could be prime minister.\"  ms robinson, who presents the weakest link tells cockerell that she despaired at his hardline image when he was home secretary in john major's government. \"i used to have to sit on my hands because he'd get on television and give a passable impression of someone who'd like to kick your cat or would put your baby in prison if he cried. i mean it was very, very draconian.\" the film shows mr howard laughing at rory bremner's impression of him as dracula, which he calls \"good fun\", apart from the serious falsehood of a comment suggesting he wants fewer black people in the uk. the film shows the private side of the tory leader watching television at home or playing table tennis with his wife, ex-model sandra. asked if she enjoys a game of ping pong she confesses: \"yeah, it would be more enjoyable if i could win occasionally too, but otherwise it's quite fun.\"  former downing street communications chief alastair campbell, now working on labour's election campaign, says a \"touchy-feely\" image does not fit mr howard. he says tony blair was not worried by his opponents' early performance in their commons clashes because mr howard lacked a \"big strategy\", including on issues like iraq. the tory leader brands such criticisms as \"absolutely rubbish\", arguing that he has been consistent on his support for the war but critical of mr blair's failure to tell the truth on intelligence. former tory chancellor ken clarke says mr howard has a bigger problem changing perceptions of the tory party than his personal image. mr clarke says the party is improving and it is \"conceivable\" it could win the next election. but he adds: \"it has got to change itself a bit and broaden its appeal.\"  - michael howard: no more mr nasty is being shown on bbc2 on saturday 12 february at 2005 gmt. \n",
            "text\n",
            " blair rejects tory terror offer  tony blair has rejected a conservative compromise offer that could have eased the passage of anti-terror legislation.  the tories wanted a sunset clause inserted in the anti-terrorism bill that would have forced ministers to revisit it in november. mr blair said the bill, which brings in house arrest for terror suspects, had time limiting safeguards already. the tories say they will vote against it unless changes they want are agreed. the lib dems also oppose the plans.  the government has already given way over the role of judges in house arrest cases.  mr blair's refusal to accept the tories' sunset clause proposals means that the government faces concerted opposition from all sides in the lords. peers begin three days of detailed deliberation on the bill on thursday. the bill proposes \"control orders\", which as well as placing terrorism suspects under house arrest could mean curfews, tagging or bans on telephone and internet use. these would replace current powers to detain foreign terror suspects without trial, which the law lords have ruled against as a breach of human rights.  the tories want judicial oversight of all control orders, not just house arrest. shadow home secretary david davis told bbc radio four's the world at one his primary concern was potential miscarriages of justice. he said if someone was wrongly given a control order it would act as a \"recruiting sergeant\" for terrorists. he went on to say: \"if we don't get the amendments we regard as essential, including the sunset clause, we will vote against the bill.\" in the commons, mr howard said it would be \"far better if the whole of the legislation was subject to a sunset clause so parliament could consider it all in a proper way instead of it being ramrodded through\". mr blair said the house arrest powers were already going to be subject to a sunset clause because it was annually renewable.  the second, less stringent, type of control orders would be subject to a court appeal within 14 days and there would be a three-monthly report on their use by \"an eminent and independent person\". \"i believe (the new powers) are a proper balance between the civil liberties of the subject and the necessary national security of this country that i will not put at risk,\" said mr blair. the lib dems plan to oppose the bill in the lords on thursday. lib dem home affairs spokesman mark oaten said: \"there's a lot of talking left. i would be uneasy about supporting a very bad bill even if it was just for eight months.\" a spokeswoman for human rights watch said it was a \"basic principle\" that people should only be punished after a fair trial. she added: \"having a judge impose those punishments without a trial does not sanitise them either.\" \n",
            "text\n",
            " talks held on gibraltar's future  two days of talks on the future of gibraltar begin at jack straw's country residence later on wednesday.  officials at the two-day summit at the foreign secretary's official kent house, chevening, will plan a new forum on the rock's future. in october, mr straw and his spanish counterpart miguel moratinos agreed to establish a body that would give gibraltarians a voice in their future. most gibraltarians said in a referendum they wanted to remain british.  gibraltar's chief minister peter caruana will represent the british citizens living on the rock, while britain's europe director dominick chilcott will represent the uk. madrid is being represented by spain's director general for europe, jose maria pons. the initiative follows spain's socialist government's decision to put its long-standing sovereignty ambitions on hold. gibraltarians rejected plans for the rock's sovereignty to be shared between britain and spain in a referendum organised by gibraltar government. \n",
            "text\n",
            " crisis 'ahead in social sciences'  a national body designed to tackle skills shortages in key subjects should be set up, a committee of mps has said.  there was an \"absolute crisis\" in the recruitment of statisticians and other social science experts, the commons science and technology committee added. \"major problems\" are expected over the next 10 years as the social science workforce continues to age, it said. the committee was reporting on the work, strategy and spending plans of the economic social research council.  the council aims to promote and support strategic research for social science postgraduates and provide social scientists to meet the needs of the country. it also liaises with the government and industry over their social science needs. in its report on the council's work the committee said: \"we are deeply concerned by the skills shortages afflicting, in particular, the qualitative branches of social sciences. this mirrored previous concerns the committee had expressed on shortages in the fields of maths and chemistry, it said. \"it is hard to see how significant progress towards rectifying these shortages can be made through the deployment of economic and social research council's limited resources. \"if the government is serious about addressing skills shortages in key subjects it needs to find a more effective mechanism to achieve this.\" a national \"strategic capabilities fund\" to address shortages in key areas should be set up in response, the committee added. \n",
            "text\n",
            " tsunami debt deal to be announced  chancellor gordon brown has said he hopes to announce a deal to suspend debt interest repayments by tsunami-hit nations later on friday.  the agreement by the g8 group of wealthy nations would save affected countries £3bn pounds a year, he said. the deal is thought to have been hammered out on thursday night after japan, one of the biggest creditor nations, finally signed up to it. mr brown first proposed the idea earlier this week.  g8 ministers are also believed to have agreed to instruct the world bank and the international monetary fund to complete a country by country analysis of the reconstruction problems faced by all states hit by the disaster. mr brown has been locked in talks with finance ministers of the g8, which britain now chairs. germany also proposed a freeze and canada has begun its own moratorium. the expected deal comes as foreign secretary jack straw said the number of britons dead or missing in the disaster have reached 440. \n",
            "text\n",
            " straw to attend auschwitz service  foreign secretary jack straw will visit auschwitz for the 60th anniversary of the former nazi concentration camp's liberation, it has been announced.  prince edward will also join the uk delegation in poland for national holocaust memorial day on 27 january. between 1.1 and 1.5 million people, mainly jews, were killed at auschwitz. the tories said they were glad mr straw had been \"shamed\" into going, having earlier criticised the decision to send a lower-ranking official. shadow foreign secretary michael ancram said: \"i am glad the foreign secretary has finally been shamed into representing britain at this important act of commemoration. \"once again this government has shown crass insensitivity until it has been forced by public opinion into doing what it should have done in the first place.\"  in britain, the queen and prince philip will lead the nation's commemoration at a service in westminster hall, london. the queen will also host a reception for holocaust survivors at st james's palace. altogether, some six million people, mainly jews, perished in the holocaust. the queen's grandson, prince harry, sparked outrage earlier this week after photographs of him wearing a nazi uniform at a costume party emerged. the prince, 20, apologised, but critics have called for him to go to auschwitz for the commemoration of the soviets' 1945 liberation of the camp. prince harry should see for himself \"the results of the hated symbol he so foolishly and brazenly chose to wear\", rabbi marvin hier, founder of jewish human rights group the simon wiesenthal center said. \n",
            "text\n",
            " drink remark 'acts as diversion'  the first minister's statement that it was okay to get drunk \"once in a while\" has diverted attention from the real issues, it has been claimed.  jack law, chief executive of alcohol focus scotland, said jack mcconnell's comment was \"ill-advised\". the media attention had helped to move the focus from scotland's binge drinking problems, mr law said. scotsman journalist hamish macdonell said he believed the bigger picture had been \"obscured\" by the remark. mr mcconnell was speaking on monday to more than 100 secondary pupils from schools in the highlands about the problems of binge drinking and drink promotions.  the one-sentence comment was immediately criticised by the scottish national party which accused him of encouraging young people to get drunk. but the scottish executive has insisted mr mcconnell was speaking about adults and his comments were \"a recognition that people will get drunk\". mr macdonell, political editor of the scotsman, said: \"i think we have to say right at the outset that this was a very stupid and ill-advised remark by the first minister. \"if you come out with something like this, saying that by all means get drunk, then you will be pilloried for it.\" however, he added that \"perhaps mr mcconnell could feel rightly aggrieved about the coverage\".  mr macdonell said: \"i think the problem here is that he did say a lot more things about binge drinking and under age drinking. \"but that whole side of things has been lost in the furore over one sentence. i understand why, but i think there is a much bigger message here that has been obscured.\" mr law, from voluntary body alcohol focus scotland, believed damage had been done to scotland's fight against binge drinking. he said he accepted that young people drank and they did have problems with drink. mr law added: \"i think the remark was ill-advised - but these remarks are blown out of all proportion and they so easily misrepresent what we are trying to do in scotland.  \"we don't want to preach to young people, but we need to acknowledge that they do drink problematically. \"this diverts us from the real issues which are about promoting responsibility and reducing harm and indeed tackling our drinking culture which is a culture about binge drinking and drunkenness.\" he said it was vital that young people were properly informed about the risks incurred to themselves and others when they got drunk. mr macdonell said that the first minister should know by now that if he said things which were \"off the mark\", they were bound to \"come back and bite him\". he added: \"here, mr mcconnell was talking in the highlands to 100 teenagers and every word he said was put out on a webcast by the scottish executive and then looked at by other politicians and reporters. \"i think in this instance he has done a lot of really good things and he will be regretting this remark.\"  the scottish national party's holyrood leader nicola sturgeon wrote to mr mcconnell on tuesday accusing him of an error of judgement and calling for him to apologise for his \"ill-judged comment\" and withdraw it immediately. in a furious response, the first minister said his comments had been distorted and taken out of context. he told ms sturgeon: \"it is disappointing that you have contributed to this distortion by saying it is staggering that i 'should encourage young people to get drunk'. \"that is completely untrue. perhaps it would have been wiser for you to find out what was actually said before you rushed to represent my position, undermine the convener of education at highland council and insult the intelligence of the young people i spoke with - all for the sake of a simple soundbite.\" \n",
            "text\n",
            " concerns at school diploma plan  final appeals are being made for the government not to ditch the reform plan for england's secondary schools put forward by the tomlinson report.  the government's response to the plan for a four-tier diploma to replace all existing 14-19 qualifications is expected next week. some are worried it could be scuppered if, as tony blair and ruth kelly have suggested, gcses and a-levels stay. sir mike tomlinson himself was briefed only this week. he is said to be feeling more comfortable about what the government is likely to say than if he had read only what was in newspapers in the earlier part of the week. but the government was said to be still rewriting its response on friday. \"it will be a tragedy if the government comes through with a half-hearted response,\" said the chairman of the commons education select committee, labour mp barry sheerman.  his main concern was the reports that there would be a diploma - but only to replace existing vocational qualifications. \"we must tackle head-on the structural mess that is our secondary education system,\" he wrote in the times educational supplement. \"it is not the case that the academic stream in secondary is fine while the vocational route is desperately weak.\" the qualifications and curriculum authority (qca) has also told the government not to \"compromise\". the qca said the potential \"step-change in participation and attainment\" lay in the integrity of the whole diploma. \"any partial implementation of the proposals would, in our view, compromise that integrity,\" said its chairman, sir anthony greener. it is a sign of the qca's concern that its advice went to ministers last december but was publicised only recently. but people understand that a white paper response is government policy and has to command wider ministerial support than if it were coming only from the department for education and skills. they may be content if it does not \"close too many doors\" in writing - whatever spin is put on it.  the chief inspector of schools, david bell, also said recently that gcses and a-levels should go. \"one of the reasons why i'm so strongly in favour of these terms disappearing over time is that it's good for the symbols of change to be seen right across the system,\" he said. \"if we don't say this is a sea-change in education, we will miss a great opportunity.\" universities and head teachers in both the independent and state sectors have also backed the tomlinson proposals, which include having higher grades at advanced level to differentiate between the brightest students. a note of concern has been expressed repeatedly by the employers' organisation, the cbi, which complains of a lack of skills. in an attempt to address this, the tomlinson plan is for tests in \"functional\" maths and literacy - decidedly not gcses. it has been suggested the government will take steps of some sort to meet firms' concerns on this score. another dissenter is sir mike tomlinson's predecessor as chief schools inspector, professor chris woodhead, who has said there is no need for such a \"massive upheaval\". the conservative party has put forward plans to revert to a system of having only the brightest percentage of students each year getting the top a-level grade, no matter how well the others have done. \n"
          ]
        }
      ]
    },
    {
      "cell_type": "code",
      "metadata": {
        "id": "DHKKcNflfXON",
        "scrolled": true
      },
      "source": [
        "#contains tokens of all the text files\n",
        "list_of_all_clean_para_words"
      ],
      "execution_count": null,
      "outputs": []
    },
    {
      "cell_type": "code",
      "metadata": {
        "colab": {
          "base_uri": "https://localhost:8080/"
        },
        "id": "nIBIj-VCfXOO",
        "outputId": "f8d58499-14a5-481c-bd9b-56541b4c2060"
      },
      "source": [
        "#to convert the tokens into 1 paragrphs which is cleaned text\n",
        "list_of_all_clean_para_sen=[]\n",
        "for i in range(0,len(list_of_all_clean_para_words)):\n",
        "    for j in range(0,len(list_of_all_clean_para_words[i])):\n",
        "        #print(list_of_all_clean_para_words[i][j])\n",
        "        clean_para_sentences=' '.join(list_of_all_clean_para_words[i][j])\n",
        "        #print(clean_para_sentences)\n",
        "        list_of_all_clean_para_sen.append(clean_para_sentences)\n",
        "print(list_of_all_clean_para_sen)"
      ],
      "execution_count": 128,
      "outputs": [
        {
          "output_type": "stream",
          "name": "stdout",
          "text": [
            "[\"labour plan maternity pay rise maternity pay new mother rise £1,400 part new proposals announce trade industry secretary patricia hewitt would mean pay leave would increase nine months 2007 ms hewitt tell gmtv's sunday programme plan include let maternity pay give father extend right parent older children tories dismiss maternity pay plan desperate liberal democrats say misdirect ms hewitt say already double length maternity pay 13 weeks elect already take 26 weeks go extend pay nine months 2007 aim get right full 12 months end next parliament say new mother already entitle 12 months leave many women could take six months pay make firm commitment definitely extend maternity pay six months nine months that is extra £1,400 say minister would consult proposals could see father allow take partner's maternity pay leave period extend right flexible work carers parent older children shadow secretary state family theresa may say plan announce gordon brown pre-budget review december tony blair recycle desperate bid win back women voters say conservatives would announce proposals closer general election liberal democrat spokeswoman women sandra gidley say mother would welcome extra maternity pay liberal democrats feel money misdirect say party would boost maternity pay first six months allow women stay home time ms hewitt also stress plan would pay taxpayers employers david frost director general british chamber commerce warn many small firm could cripple move majority salary cost may cover government's statutory pay recruitment cost advertise cost retrain cost strain company say detail government's plan outline monday new mother currently entitle 90% average earn first six weeks give birth follow £102.80 week baby six months old\", 'watchdog probe e-mail deletions information commissioner say urgently ask detail cabinet office order tell staff delete e-mail three months old richard thomas totally condemn deletion e-mail prevent disclosure freedom information laws come force 1 january government guidance say e-mail delete serve current purpose mr thomas say tories lib dems question time new rule tory leader michael howard write tony blair demand explanation new rule e-mail retention monday lib dem constitutional affairs committee chairman alan beith warn deletion millions government e-mail could harm ability key probe like hutton inquiry time new rule freedom information act come force unlikely coincidence mr beith say cabinet office spokeswoman say move new laws destruction important record mr beith urge information commissioner look e-mail regime could support freedom information regime mr thomas say new act parliament make clear destroy record order prevent disclosure become criminal offence say already clear guidance retention e-mail contain code practice lord chancellor e-mail subject freedom information laws important thing content e-mail say mr thomas doubt retain long-standing principle civil service public authorities it is you have get use particular record may legitimate destroy deliberate destruction avoid possibility later disclosure totally condemn freedom information act cover england wales northern ireland next year similar measure bring time scotland provide public right access information hold 100,000 public body subject various exemptions implementation monitor information commissioner', \"hewitt decry 'career sexism' plan extend pay maternity leave beyond six months prominent labour's election manifesto trade industry secretary say patricia hewitt say cost proposals evaluate increasingly high priority share goal across government ms hewitt speak gender productivity seminar organise equal opportunities commission (eoc) mother currently take six months' pay leave - six unpaid ms hewitt tell seminar clearly one things need future extend period payment maternity leave beyond first six months second six months look quickly obviously cost implications taxpayer reimburse employers cost ms hewitt also announce new drive help women want work male dominate sectors say sexism work still prevent women reach full potential plan include fund universities help female science engineer graduate find job taster course men women non-traditional job women full-time work earn 19% less men accord equal opportunities commission (eoc) minister tell delegate get rid career sexism vital close gender pay gap career sexism limit opportunities women age prevent achieve full potential simply wrong assume someone cannot job ground sex say earlier tell bbc radio 4's today programme talk fact six 20 women work job low-paid typically dominate women get segregate employment unfortunately case reflect old-fashioned stereotypical ideas appropriate job women indeed men career sexism say engineer instance 10% employees women really male-dominated industry construction even worse also say childcare job really women suitable men career sexism go ways add progress make still gap pay figure average woman work full-time pay 80p every pound man earn women work part-time 60p department trade industry also provide fund help new pay experts panel run tuc set advise hundreds company equal wage policies research conduct eoc last year reveal many britons believe pay gap men women result natural differences sex women hold less 10% top position ftse 100 company police judiciary trade unions accord figure retire women half income male counterparts average\", \"labour choose manchester labour party hold 2006 autumn conference manchester blackpool confirm much trail decision ratify labour's rule national executive committee break traditional choice seaside venue first time since 1917 party choose manchester host annual event blackpool get much smaller february spring conference instead see placatory move years main political party rotate blackpool bournemouth brighton news much larger annual conference gather blackpool see blow coastal resort 1998 party say would return blackpool 2002 follow year bournemouth host event party sign two year deal brighton host autumn conference colin asplin blackpool hotel association say try hard make sure come back blackpool obviously fail hope manchester handle crowd amaze labour party work class party does not want come main work class resort country exact cost blackpool term lose revenue hotel accommodation yet know think block book take major manchester hotels official announcement\", \"brown ally reject budget spree chancellor gordon brown's closest ally deny suggestions budget giveaway 16 march ed ball ex-chief economic adviser treasury say would spend spree poll day mr ball prospective labour mp say confident chancellor would meet fiscal rule speak sir digby jones cbi director general warn mr brown tempt use extra cash pre-election bribe mr ball step treasury post stand labour candidate election suggest mr brown would meet golden economic rule - margin spare say hop would build current tax credit rule also stress rise interest rat ahead expect may election would affect labour party's chance win expectations rate rise gather pace figure show house price still rise consumer borrow rise near-record pace january mpc (the bank england's monetary policy committee) judge rate rise justify election strength economy - i'm predict - believe big election issue britain labour tell parliamentary lunch big change political culture interview bbc radio 4's today programme mr ball say sure mr brown's budget would put risk stability economy do not think we will see pre-election spend spree - certainly see 2001 say assurances come sir digby jones say stability important extra cash spend improve workers' skills message chancellor please do not give away form electioneer sir digby add do not think say prudent chancellor right way stability key word - british business need bore stability anything would say 'don't increase public spend do not give away go anywhere add something competitiveness britain put skilling people' would good way spend excess mr ball refuse say whether mr brown would remain chancellor election amid speculation offer job foreign secretary think gordon brown want part successful labour government deliver third term priorities people see conservative party take britain backwards mr ball tell today prime minister tony blair yet name date election pundits bet 5 may\", \"'errors' doom first dome sale initial attempt sell millennium dome fail due catalogue errors report government's finance watchdog say report say many party involve decision-making attraction first go sale millennium exhibition end national audit office say dome cost taxpayers £28.7m maintain sell four years close finally deal turn sport entertainment venue strike £550m could return public sector wake deal regenerate site greenwich london nao report say sale go avoid many problems previous attempt sell dome deputy prime minister john prescott say good deal secure delivery many benefit secure deal continue substantial progress already make millennium village elsewhere peninsula say edward leigh chairman commons public account committee warn government would work hard ensure taxpayers would get full benefit dome deal say report also show first attempt sell dome prove complete fiasco every arm government seem finger pie process confuse muddle add four years millennium exhibition close government finally deal find use white elephant since close deal incredible may seem bring money provide benefit local area country whole however question luck strong bid turn thefirst abortive attempt nao head sir john bourn say difficult circumstances follow failure first competition english partnerships office deputy prime minister work hard get deal\", \"fox attack blair's tory 'lies' tony blair lie take uk war qualms lie election campaign say tories tory co-chairman liam fox speak mr blair tell labour members tories offer hard right agenda dr fox tell bbc radio lie reason go war guess go lie anything would discuss report party repay £500,000 lord ashcroft predict election defeat prime minister ratchet labour's pre-election campaign weekend helicopter tour country speech party's spring conference insist know poll date widely expect 5 may see highly personal speech gateshead sunday mr blair say passion hunger first walk door 10 street describe relationship public start euphoric struggle live expectations reach point raise voice throw crockery warn supporters complacency say fight future country it is fight britain people britain win mr blair say whether public choose michael howard mr kennedy would result tory government labour government country go back move forward dr fox accuse mr blair cabinet minister tell lie opponents' policies attack lie learn weekend labour tactics go it is go fear smear tell bbc news tory co-chairman attack labour's six new pledge vacuous say mr blair worry voters would take revenge failure deliver dr fox refuse discuss weekend newspaper report party repay £500,000 former tory treasurer lord ashcroft say party could win election repay loan due comment individual financial matter say insist enjoy warm constructive relationship lord ashcroft meanwhile lib dem leader charles kennedy expect attack mr blair's word begin nationwide tour monday mr kennedy accelerate lib dem election preparations week visit manchester liverpool leicester somerset basingstoke shrewsbury dorset torbay say three-party politics northern cities contest labour liberal democrats southern rural seat - especially south west - principal contenders liberal democrats conservatives run scotland wales lib dems accuse mr blair make touchy-feely speech labour delegate help regain public trust\", \"women mps reveal sexist taunt women mps endure shock level sexist abuse hand male counterparts new study show male mps pretend juggle imaginary breast jeer melons women make commons speeches researchers birkbeck college tell labour's yvette cooper say find hard persuade commons officials minister secretary 83 mps give answer 100 hours tap interview study whose secretary minister research team professor joni lovenduski set look achievements experience women westminster emerge complaints mps party sexist barrack chamber sexist insult patronise assumptions abilities barbara follet one so-called blair babes elect 1997 tell researchers remember conservatives - whenever labour woman get speak would take breast - imaginary breast - hand wiggle say 'melons' speak former liberal democrat mp jackie ballard recall stream remark lead mp topics women's legs sexual persuasion ex-tory education secretary gillian shepherd remember one male colleagues call women betty say 'look know name is not betty' say 'ah you are call betty' harriet harman tell researchers sheer hostility prompt advancement cabinet well you have succeed you are woman another current member cabinet say tell oh you have fast rise sleep with? even great influx women mps 1997 general election greater number women cabinet female mps often say feel stick edge male world liberal democrat sarah teather recent female mp elect tell researchers lot people say it is like old boys club i've always say feel like teenage public school - know public school full teenagers prof joni lovenduski conduct study help margaret moran mp team journalists say shock find expect bite nothing like extent expect find couple shock episodes say difference experience women 1997 intake afterwards mainly women present parliament prepare put sexist attitudes come across prof lovenduski say add women include women come 1997 receive extraordinary treatment convince number women change back 1997 things would change back think shock general public things go house commons interview place british library historical record\", \"campbell e-mail row 'silly fuss' ex-no 10 media chief alastair campbell centre new political row e-mail contain four-letter outburst aim bbc journalists mr campbell send missive mistake bbc2's newsnight seek question role labour's controversial poster campaign later contact show say original e-mail send error silly fuss mr campbell recently re-joined labour's election campaign e-mail reveal day peter mandelson former labour minister european commissioner warn bbc steer away demonise mr campbell mr campbell message newsnight programme investigate claim labour's advertise agency tbwa blame controversy campaign posters image include one fly pig another critics claim depict tory leader michael howard fagin prompt accusations anti-semitism claim deny labour mr campbell's e-mail apparently intend party official suggest get trevor beattie tbwa's boss issue statement say speak trev think tbwa shd give statement newsnight say party agency work together well nobody speak standard posters tbwa accord political brief fuck cover something important twats! e-mail send mistake newsnight journalist andrew mcfadyen realise error mr campbell e-mail mr mcfadyen point mistake suggest presenter jeremy paxman would see funny side say good e-mail blackberry malarkey look log send message realise e-mail mean colleagues tbwa go record first three sentence email spot row trevor posters accord brief dream fly pig pig great okay circs tories promise tax cut spend rise money tbwa make production campbell swear shock final sentence earlier e-mail probably bite colourful personal consider never actually meet i'm sure share sense humour star presenter mr p never know silly fuss since last silly fuss go must look forward back later prime minister's spokesman ask journalists view mr campbell's use abusive language spokesman say person refer capable speak longer work government foreign secretary jack straw say always good polite relations mr campbell describe talented former spin doctor's use language mr straw say know odd journalist occasionally use odd word would probably inappropriate circumstances maybe mix wrong kind journalists liam fox tory co-chairman say return mr campbell sign new sinister underhand tactics labour\", 'crucial decision super-casinos decision whether allow westminster legislate super-casinos set make scottish parliament government plan eight las vegas style resort uk one likely glasgow scottish minister insist still final say whether super-casino build scotland opposition party say happen practice vote due take wednesday expect close scottish executive believe legislation handle westminster new law control internet gamble first time aim prevent children become involve super-casino glasgow could locate ibrox scottish exhibition conference centre new gamble bill go westminster allow casino complexes open public live entertainment large number fruit machine unlimited prize scottish national party tories say issue super-casinos decide scotland believe executive shirk responsibility', \"mrs howard get key election role michael howard's ex-model wife sandra play lead role conservative election campaign mrs howard make solo visit target seat well accompany husband helicopter campaign trail criss-crossing country mr howard host news conference party's london hq every morning tory co-chairman liam fox say want michael accessible possible mr fox say add party afraid scrutiny tory leader want meet many ordinary members public mr fox say tony blair also say intend get talk many people possible election campaign labour campaign chiefs say plan mr blair hold daily news conference mr fox respond accuse prime minister hide away scrutiny london's media liberal democrats also say plan hold daily news conferences charles kennedy mrs howard's role mr fox say sandra already campaign michael number visit undertake short visit pattern continue it is work well mrs howard make debut speech conservative party conference bournemouth last october use speech fringe highlight work drug charity addaction support mrs howard also appear along side husband tv chat show interview itv1's morning say often criticise husband show side know\", \"pm apology jail tony blair apologise two families suffer one uk's biggest miscarriages justice prime minister comment wrongful jail 11 people ira bomb attack pubs guildford woolwich 1974 mr blair say sorry subject ordeal injustice make apology members conlon maguire families private room westminster statement record television mr blair say families deserve completely publicly exonerate families hop apology would make prime minister's question house commons however one so-called guildford four gerry conlon - wrongly convict plant bomb - say families delight apology say mr blair speak sincerity add go beyond think would take time listen everyone could see move people say tony blair heal rifts help heal wound it is day never think would come move follow huge campaign ireland public apology eleven people wrongly convict make plant ira bomb kill seven people mr blair's official spokesman say no-one present meet would ever forget strength feel relief prime minister's statement bring convict either members friends two families arrest family connection gerry conlon mr conlon's father giuseppe arrest travel london belfast help son die serve sentence also arrest anne maguire members family mrs maguire relative giuseppe plan stay london well two family friends say wonderful feel apology weight lift shoulder people still doubt us believe totally innocent say jail handle explosives base scientific evidence later entirely discredit october 1989 court appeal quash sentence guildford four june 1991 overturn sentence maguire seven mr conlon's case highlight oscar-nominated film name father star daniel day-lewis\", \"howard rebut asylum criticisms tory leader michael howard go offensive response people question son immigrants propose asylum quotas mr howard whose parent flee nazi threat come uk say claim would mean no-one immigrant family could become premier comment come bbc documentary call 'no mr nasty' tv presenter anne robinson say home secretary give impression would like kick cat ms robinson friend tory leader also reveal cambridge student mr howard much love women courteous kind rather dash lover - although deny personal experience was not cambridge - it is personal experience - know people documentary maker michael cockerell give behind-the-scenes access mr howard film portrait tory leader ask respond people say quota immigration asylum 1930s parent might allow country reply inference that? reach view need control immigration interest country you are allow put view forward happen descend immigrants? seem absolutely extraordinary proposition? would certainly mean one immigrant parent could prime minister ms robinson present weakest link tell cockerell despair hardline image home secretary john major's government use sit hand he had get television give passable impression someone who'd like kick cat would put baby prison cry mean draconian film show mr howard laugh rory bremner's impression dracula call good fun apart serious falsehood comment suggest want fewer black people uk film show private side tory leader watch television home play table tennis wife ex-model sandra ask enjoy game ping pong confess yeah would enjoyable could win occasionally otherwise it is quite fun former street communications chief alastair campbell work labour's election campaign say touchy-feely image fit mr howard say tony blair worry opponents' early performance commons clash mr howard lack big strategy include issue like iraq tory leader brand criticisms absolutely rubbish argue consistent support war critical mr blair's failure tell truth intelligence former tory chancellor ken clarke say mr howard bigger problem change perceptions tory party personal image mr clarke say party improve conceivable could win next election add get change bite broaden appeal - michael howard mr nasty show bbc2 saturday 12 february 2005 gmt\", \"blair reject tory terror offer tony blair reject conservative compromise offer could ease passage anti-terror legislation tories want sunset clause insert anti-terrorism bill would force minister revisit november mr blair say bill bring house arrest terror suspect time limit safeguard already tories say vote unless change want agree lib dems also oppose plan government already give way role judge house arrest case mr blair's refusal accept tories' sunset clause proposals mean government face concert opposition side lord peer begin three days detail deliberation bill thursday bill propose control order well place terrorism suspect house arrest could mean curfews tag ban telephone internet use would replace current power detain foreign terror suspect without trial law lord rule breach human right tories want judicial oversight control order house arrest shadow home secretary david davis tell bbc radio four's world one primary concern potential miscarriages justice say someone wrongly give control order would act recruit sergeant terrorists go say do not get amendments regard essential include sunset clause vote bill commons mr howard say would far better whole legislation subject sunset clause parliament could consider proper way instead ramrodded mr blair say house arrest power already go subject sunset clause annually renewable second less stringent type control order would subject court appeal within 14 days would three-monthly report use eminent independent person believe (the new powers) proper balance civil liberties subject necessary national security country put risk say mr blair lib dems plan oppose bill lord thursday lib dem home affairs spokesman mark oaten say there's lot talk leave would uneasy support bad bill even eight months spokeswoman human right watch say basic principle people punish fair trial add judge impose punishments without trial sanitise either\", \"talk hold gibraltar's future two days talk future gibraltar begin jack straw's country residence later wednesday officials two-day summit foreign secretary's official kent house chevening plan new forum rock's future october mr straw spanish counterpart miguel moratinos agree establish body would give gibraltarians voice future gibraltarians say referendum want remain british gibraltar's chief minister peter caruana represent british citizens live rock britain's europe director dominick chilcott represent uk madrid represent spain's director general europe jose maria pons initiative follow spain's socialist government's decision put long-standing sovereignty ambition hold gibraltarians reject plan rock's sovereignty share britain spain referendum organise gibraltar government\", \"crisis 'ahead social sciences' national body design tackle skills shortages key subject set committee mps say absolute crisis recruitment statisticians social science experts commons science technology committee add major problems expect next 10 years social science workforce continue age say committee report work strategy spend plan economic social research council council aim promote support strategic research social science postgraduates provide social scientists meet need country also liaise government industry social science need report council's work committee say deeply concern skills shortages afflict particular qualitative branch social sciences mirror previous concern committee express shortages field maths chemistry say hard see significant progress towards rectify shortages make deployment economic social research council's limit resources government serious address skills shortages key subject need find effective mechanism achieve national strategic capabilities fund address shortages key areas set response committee add\", 'tsunami debt deal announce chancellor gordon brown say hop announce deal suspend debt interest repayments tsunami-hit nations later friday agreement g8 group wealthy nations would save affect countries £3bn pound year say deal think hammer thursday night japan one biggest creditor nations finally sign mr brown first propose idea earlier week g8 minister also believe agree instruct world bank international monetary fund complete country country analysis reconstruction problems face state hit disaster mr brown lock talk finance minister g8 britain chair germany also propose freeze canada begin moratorium expect deal come foreign secretary jack straw say number britons dead miss disaster reach 440', \"straw attend auschwitz service foreign secretary jack straw visit auschwitz 60th anniversary former nazi concentration camp's liberation announce prince edward also join uk delegation poland national holocaust memorial day 27 january 1.1 1.5 million people mainly jews kill auschwitz tories say glad mr straw sham go earlier criticise decision send lower-ranking official shadow foreign secretary michael ancram say glad foreign secretary finally sham represent britain important act commemoration government show crass insensitivity force public opinion first place britain queen prince philip lead nation's commemoration service westminster hall london queen also host reception holocaust survivors st james's palace altogether six million people mainly jews perish holocaust queen's grandson prince harry spark outrage earlier week photograph wear nazi uniform costume party emerge prince 20 apologise critics call go auschwitz commemoration soviets' 1945 liberation camp prince harry see result hat symbol foolishly brazenly choose wear rabbi marvin hier founder jewish human right group simon wiesenthal center say\", \"drink remark 'acts diversion' first minister's statement okay get drink divert attention real issue claim jack law chief executive alcohol focus scotland say jack mcconnell's comment ill-advised media attention help move focus scotland's binge drink problems mr law say scotsman journalist hamish macdonell say believe bigger picture obscure remark mr mcconnell speak monday 100 secondary pupils school highlands problems binge drink drink promotions one-sentence comment immediately criticise scottish national party accuse encourage young people get drink scottish executive insist mr mcconnell speak adults comment recognition people get drink mr macdonell political editor scotsman say think say right outset stupid ill-advised remark first minister come something like say mean get drink pillory however add perhaps mr mcconnell could feel rightly aggrieve coverage mr macdonell say think problem say lot things binge drink age drink whole side things lose furore one sentence understand think much bigger message obscure mr law voluntary body alcohol focus scotland believe damage scotland's fight binge drink say accept young people drink problems drink mr law add think remark ill-advised - remark blow proportion easily misrepresent try scotland do not want preach young people need acknowledge drink problematically divert us real issue promote responsibility reduce harm indeed tackle drink culture culture binge drink drunkenness say vital young people properly inform risk incur others get drink mr macdonell say first minister know say things mark bind come back bite add mr mcconnell talk highlands 100 teenagers every word say put webcast scottish executive look politicians reporters think instance lot really good things regret remark scottish national party's holyrood leader nicola sturgeon write mr mcconnell tuesday accuse error judgement call apologise ill-judged comment withdraw immediately furious response first minister say comment distort take context tell ms sturgeon disappoint contribute distortion say stagger 'should encourage young people get drunk' completely untrue perhaps would wiser find actually say rush represent position undermine convener education highland council insult intelligence young people speak - sake simple soundbite\", \"concern school diploma plan final appeal make government ditch reform plan england's secondary school put forward tomlinson report government's response plan four-tier diploma replace exist 14-19 qualifications expect next week worry could scupper tony blair ruth kelly suggest gcses a-levels stay sir mike tomlinson brief week say feel comfortable government likely say read newspapers earlier part week government say still rewrite response friday tragedy government come half-hearted response say chairman commons education select committee labour mp barry sheerman main concern report would diploma - replace exist vocational qualifications must tackle head-on structural mess secondary education system write time educational supplement case academic stream secondary fine vocational route desperately weak qualifications curriculum authority (qca) also tell government compromise qca say potential step-change participation attainment lay integrity whole diploma partial implementation proposals would view compromise integrity say chairman sir anthony greener sign qca's concern advice go minister last december publicise recently people understand white paper response government policy command wider ministerial support come department education skills may content close many doors write - whatever spin put chief inspector school david bell also say recently gcses a-levels go one reason i'm strongly favour term disappear time it is good symbols change see right across system say do not say sea-change education miss great opportunity universities head teachers independent state sectors also back tomlinson proposals include higher grade advance level differentiate brightest students note concern express repeatedly employers' organisation cbi complain lack skills attempt address tomlinson plan test functional maths literacy - decidedly gcses suggest government take step sort meet firms' concern score another dissenter sir mike tomlinson's predecessor chief school inspector professor chris woodhead say need massive upheaval conservative party put forward plan revert system brightest percentage students year get top a-level grade matter well others\"]\n"
          ]
        }
      ]
    },
    {
      "cell_type": "code",
      "metadata": {
        "colab": {
          "base_uri": "https://localhost:8080/"
        },
        "id": "pKcJ8x-MfXOP",
        "outputId": "33dae54b-c480-4907-8704-0d06901bd96b"
      },
      "source": [
        "!pip install sentencepiece"
      ],
      "execution_count": 129,
      "outputs": [
        {
          "output_type": "stream",
          "name": "stdout",
          "text": [
            "Requirement already satisfied: sentencepiece in /usr/local/lib/python3.7/dist-packages (0.1.96)\n"
          ]
        }
      ]
    },
    {
      "cell_type": "code",
      "metadata": {
        "colab": {
          "base_uri": "https://localhost:8080/"
        },
        "id": "9bedQmXffXOQ",
        "outputId": "958720d9-2d6f-4bde-e1d4-be78beba0d35"
      },
      "source": [
        "!pip install transformers==2.8.0"
      ],
      "execution_count": 130,
      "outputs": [
        {
          "output_type": "stream",
          "name": "stdout",
          "text": [
            "Requirement already satisfied: transformers==2.8.0 in /usr/local/lib/python3.7/dist-packages (2.8.0)\n",
            "Requirement already satisfied: regex!=2019.12.17 in /usr/local/lib/python3.7/dist-packages (from transformers==2.8.0) (2019.12.20)\n",
            "Requirement already satisfied: tqdm>=4.27 in /usr/local/lib/python3.7/dist-packages (from transformers==2.8.0) (4.62.3)\n",
            "Requirement already satisfied: numpy in /usr/local/lib/python3.7/dist-packages (from transformers==2.8.0) (1.19.5)\n",
            "Requirement already satisfied: sentencepiece in /usr/local/lib/python3.7/dist-packages (from transformers==2.8.0) (0.1.96)\n",
            "Requirement already satisfied: requests in /usr/local/lib/python3.7/dist-packages (from transformers==2.8.0) (2.23.0)\n",
            "Requirement already satisfied: filelock in /usr/local/lib/python3.7/dist-packages (from transformers==2.8.0) (3.4.0)\n",
            "Requirement already satisfied: tokenizers==0.5.2 in /usr/local/lib/python3.7/dist-packages (from transformers==2.8.0) (0.5.2)\n",
            "Requirement already satisfied: sacremoses in /usr/local/lib/python3.7/dist-packages (from transformers==2.8.0) (0.0.46)\n",
            "Requirement already satisfied: boto3 in /usr/local/lib/python3.7/dist-packages (from transformers==2.8.0) (1.20.20)\n",
            "Requirement already satisfied: jmespath<1.0.0,>=0.7.1 in /usr/local/lib/python3.7/dist-packages (from boto3->transformers==2.8.0) (0.10.0)\n",
            "Requirement already satisfied: botocore<1.24.0,>=1.23.20 in /usr/local/lib/python3.7/dist-packages (from boto3->transformers==2.8.0) (1.23.20)\n",
            "Requirement already satisfied: s3transfer<0.6.0,>=0.5.0 in /usr/local/lib/python3.7/dist-packages (from boto3->transformers==2.8.0) (0.5.0)\n",
            "Requirement already satisfied: urllib3<1.27,>=1.25.4 in /usr/local/lib/python3.7/dist-packages (from botocore<1.24.0,>=1.23.20->boto3->transformers==2.8.0) (1.25.11)\n",
            "Requirement already satisfied: python-dateutil<3.0.0,>=2.1 in /usr/local/lib/python3.7/dist-packages (from botocore<1.24.0,>=1.23.20->boto3->transformers==2.8.0) (2.8.2)\n",
            "Requirement already satisfied: six>=1.5 in /usr/local/lib/python3.7/dist-packages (from python-dateutil<3.0.0,>=2.1->botocore<1.24.0,>=1.23.20->boto3->transformers==2.8.0) (1.15.0)\n",
            "Requirement already satisfied: chardet<4,>=3.0.2 in /usr/local/lib/python3.7/dist-packages (from requests->transformers==2.8.0) (3.0.4)\n",
            "Requirement already satisfied: certifi>=2017.4.17 in /usr/local/lib/python3.7/dist-packages (from requests->transformers==2.8.0) (2021.10.8)\n",
            "Requirement already satisfied: idna<3,>=2.5 in /usr/local/lib/python3.7/dist-packages (from requests->transformers==2.8.0) (2.10)\n",
            "Requirement already satisfied: click in /usr/local/lib/python3.7/dist-packages (from sacremoses->transformers==2.8.0) (7.1.2)\n",
            "Requirement already satisfied: joblib in /usr/local/lib/python3.7/dist-packages (from sacremoses->transformers==2.8.0) (1.1.0)\n"
          ]
        }
      ]
    },
    {
      "cell_type": "code",
      "metadata": {
        "colab": {
          "base_uri": "https://localhost:8080/"
        },
        "id": "l1ZM7BngfXOR",
        "outputId": "2dcc5b18-d472-4d42-f059-d373c14ff5b0"
      },
      "source": [
        "!pip install torch==1.4.0"
      ],
      "execution_count": 131,
      "outputs": [
        {
          "output_type": "stream",
          "name": "stdout",
          "text": [
            "Requirement already satisfied: torch==1.4.0 in /usr/local/lib/python3.7/dist-packages (1.4.0)\n"
          ]
        }
      ]
    },
    {
      "cell_type": "code",
      "metadata": {
        "id": "CiKgYDgOfXOS"
      },
      "source": [
        "import torch\n",
        "import json \n",
        "from transformers import T5Tokenizer, T5ForConditionalGeneration, T5Config"
      ],
      "execution_count": 132,
      "outputs": []
    },
    {
      "cell_type": "code",
      "metadata": {
        "id": "hCHaCSlbfXOT"
      },
      "source": [
        "model = T5ForConditionalGeneration.from_pretrained('t5-small')\n",
        "tokenizer = T5Tokenizer.from_pretrained('t5-small')\n",
        "device = torch.device('cpu')\n"
      ],
      "execution_count": 133,
      "outputs": []
    },
    {
      "cell_type": "code",
      "metadata": {
        "colab": {
          "base_uri": "https://localhost:8080/"
        },
        "id": "c7FtJoPdfXOT",
        "outputId": "9660248c-d97f-43bb-c1dd-22c6a4bb9ebb"
      },
      "source": [
        "list_summary_via_t5=[]\n",
        "for i in list_of_all_clean_para_sen:\n",
        "    t5_prepared_Text = \"summarize: \"+i\n",
        "    tokenizer.encode(t5_prepared_Text, return_tensors=\"pt\").to(device)\n",
        "    tokenized_text = tokenizer.encode(t5_prepared_Text, return_tensors=\"pt\").to(device)\n",
        "\n",
        "    \n",
        "    # summmarize \n",
        "    summary_ids = model.generate(tokenized_text,\n",
        "                                num_beams=4,\n",
        "                                no_repeat_ngram_size=2,\n",
        "                                min_length=30,\n",
        "                                max_length=1000,\n",
        "                                early_stopping=True)\n",
        "    output = tokenizer.decode(summary_ids[0], skip_special_tokens=True)\n",
        "    list_summary_via_t5.append(output)\n",
        "    \n",
        "    #list_t5_prepared_Text.append(t5_prepared_Text)\n",
        "#print (\"original text preprocessed: \\n\", list_t5_prepared_Text)\n",
        "print (\"\\nSummarized text: \\n\",list_summary_via_t5)"
      ],
      "execution_count": 134,
      "outputs": [
        {
          "metadata": {
            "tags": null
          },
          "name": "stderr",
          "output_type": "stream",
          "text": [
            "Token indices sequence length is longer than the specified maximum sequence length for this model (560 > 512). Running this sequence through the model will result in indexing errors\n",
            "Token indices sequence length is longer than the specified maximum sequence length for this model (560 > 512). Running this sequence through the model will result in indexing errors\n",
            "Token indices sequence length is longer than the specified maximum sequence length for this model (530 > 512). Running this sequence through the model will result in indexing errors\n",
            "Token indices sequence length is longer than the specified maximum sequence length for this model (530 > 512). Running this sequence through the model will result in indexing errors\n",
            "Token indices sequence length is longer than the specified maximum sequence length for this model (548 > 512). Running this sequence through the model will result in indexing errors\n",
            "Token indices sequence length is longer than the specified maximum sequence length for this model (548 > 512). Running this sequence through the model will result in indexing errors\n"
          ]
        },
        {
          "output_type": "stream",
          "name": "stdout",
          "text": [
            "\n",
            "Summarized text: \n",
            " [\"labour plan maternity pay rise new mother rise £1,400 part new proposals announce trade industry secretary patricia hewitt would mean pay leave would increase nine months 2007. new mum currently entitles 90% average earn first six weeks give birth follow £102.80 week baby six months old 6 month old sandra gidley says plan would pay taxpayers employers david frost director general british chamber commerce warn many small firm could cripple move majority salary cost cover government's statutory pay recruitment cost advertise cost\", 'new act parliament make clear destroy record order prevent disclosure become criminal offence. mr thomas doubt retain long-standing principle civil service public authorities it is you have get use particular record may legitimate destroy deliberate destruction avoid possibility later disclosure totally condemn freedom information act cover england wales northern irelands next year similar measure bring time scottand provide public right access information hold 100,000 public body subject various exemptions implementation monitor information commissioner say already clear guidance retention e-mail contain code practice lord chancellor ', \"hewitt decry 'career sexism' plan extend pay maternity leave beyond six months prominent labour's election manifesto trade industry secretary say patricia. cost proposals evaluate increasingly high priority share goal across government ms hvvt speak gender productivity seminar organise equal opportunities commission (eoc) mother currently take six month' pay leave - six unpaid mps say cost implications taxpayer reimburse employers cost. a new drive help women want work male dominate sectors say eex\", \"labour ratify labour's rule national executive committee break traditional choice seaside venue first time since 1917 party choose manchester host annual event blackpool get much smaller february spring conference instead see placatory move years main political party rotate. a vote on the decision to the labour vote vote in the vote for the st vote of the new parliamentary vote - if the party vote is voted overwhelmingly. the move is the result of much trail decision by labour’s ruling ns vote to vote the majority vote.\", \"gordon brown's closest ally deny suggestions budget giveaway 16 march ed ball ex-chief economic adviser treasury say would spend spree poll day mr ball prospective labour mp say confident chancellor would meet fiscal rule speak sir digby jones cbi director general warn brown tempt use extra cash pre-election bribe. margin spare say hop would build current tax credit rule also stress rise interest rat ahead expect may election would affect labour party' s chance win\", \"'errors' doom first dome sale initial attempt sell millennium dome fail due catalogue errors report government's finance watchdog say dome cost taxpayers £28.7m maintain sell four years close finally deal turn sport entertainment venue strike £550m could return public sector wake deal regenerate site greenwich london.\", \"tories tory co-chairman liam fox refuse discuss weekend newspaper report party repay £500,000 lord ashcroft say party could win election repay loan due comment individual financial matter say insist enjoy warm constructive relationship. lib dem leader charles kennedy expect attack mr blair's word begin nationwide tour monday - visit manchester liverpool leicester basingstoke shrewsbury dorset torbay say three-party politics northern cities contest labour\", \"yvette cooper say find hard persuade commons officials minister secretary 83 mps give answer 100 hours tap interview study. harriet harman tell researchers sheer hostility prompt advancement cabinet well you have succeed you are woman another current member cabinet say tell oh you've fast rise sleep with?\", \"ex-no 10 media chief alastair campbell centre new political row e-mail contain four-letter outburst aim bbc2's newsnight seek question role labour mps campaign. 'i'm sure share sense humour star presenter mr p never know stupid fuss since last silly fuss go must look forward back later prime minister jack straw say always good polite relations'\", 'decision super-casinos decide scotland believe executive shirk responsibility over decision. glasgow minister insists still final say if super uk parliament plan eight las vegas style resort b one likely british minister says still deciding whether to vote due take wednesday expect close agg executive believe legislation handle westminster new law control internet gamble first time aim prevent children become involve supercasino could locate ibrox exhibition conference centre new gamble bill go westmster', \"mrs howard host news conference party's london hq every morning tory co-chairman fox say want michael accessible possible possible. tony blair also say plan hold daily news conferences charles kennedy and sandra a key election role for the conservative election campaign - but he is also on the side of husband tv chat show interview itv1 'day say often criticise husband show side know often critique husband\", \"pm apology jail tony blair apologise two families suffer one uk's biggest miscarriages justice prime minister comment wrongful jail 11 people. he says families deserve completely publicly exonerate families hop apology would make pm’s question house commons however one so-called guildford four gerry conlon - wrongly convict plant bomb kill seven people\", \"tory leader michael howard rebuts asylum criticisms. tv presenter anne robinson says home secretary give impression would like kick cat ms. go offensive response people say quota immigration asylum 1930s parent might allow country reply inference that? reach view need control immigration interest country you are allow put view forward happen descend immigrants? seem absolutely extraordinary proposition? would certainly mean one immigrant parent could prime minister john major's government use sit hand he had get television give passable\", 'tony blair rejects tory terror offer could ease passage anti-terror legislation tories want sunset clause insert bill. bill proposes control order well place terrorism suspect house arrest could mean curfews tag ban telephone internet use would replace current power detain foreign terror suspect without trial law lord rule breach human rights eminent independent person believe (the new powers) proper balance civil liberties subject necessary national security country put risk say lib dem home affairs spokesman mark oaten', \"talk hold gibraltar's future two days jack straw will begin his country residence later wednesday officials two-day summit. mr straw spanish counterparts agree establish body would give gibrraltarians voice future britain referendum want remain british 'live rock' uk madrid represent spain europe jose maria pons initiative follow spanisian socialist government decision put long-standing sovereignty ambitions hold ag - if he is not able to\", 'mps say absolute crisis recruitment statisticians social sciences experts commons science technology committee add major problems expect next 10 years social science workforce continue age say committee report work strategy spend plan economic social research council council.', 'tsunami debt deal announce chancellor gordon brown say hop announce deal suspend debt interest repayments tsunami-hit nations later friday agreement. g8 group wealthy nations would save affect countries £3bn pound year say deal think hammer thursday night japan one biggest creditor nations finally sign mr brown first propose idea earlier week agree agree instruct world bank international monetary fund complete country country analysis reconstruction problems face state hit disaster - jack straw say number britons dead miss disaster reach 440 brita', \"straw attend auschwitz service foreign secretary jack straw join uk delegation poland national holocaust memorial day 27 january 1.1 1.5 million people mainly jews kill auchwitz tories say glad mr straw sham go earlier criticise decision send lower-ranking official shadow foreign minister michael ancram. britain queen prince philip lead nation's commemoration service westminster hall london queen also host reception hls \", \"drink remark 'acts diversion' first minister's statement okay get drink divert attention real issue claim jack law chief executive alcohol focus scotland. hamish macdonell say believe bigger picture obscure advised media attention help move focus on binge drink problems mr law say he thinks more... i don't know what to do if you're going to be drinking'\", \"gcses suggest government take step sort meet firms' concern score another dissenter sir mike tomlinson's predecessor chief school inspector professor chris woodhead say need massive upheaval conservative party put forward plan revert system brightest percentage students year get top a-level grade matter well well others.\"]\n"
          ]
        }
      ]
    },
    {
      "cell_type": "code",
      "metadata": {
        "id": "Y7jzhVu9fXOT",
        "colab": {
          "base_uri": "https://localhost:8080/"
        },
        "outputId": "e504886d-b3e7-4396-8c9c-3f073a59dbee"
      },
      "source": [
        "print(list_summary_via_t5)"
      ],
      "execution_count": 135,
      "outputs": [
        {
          "output_type": "stream",
          "name": "stdout",
          "text": [
            "[\"labour plan maternity pay rise new mother rise £1,400 part new proposals announce trade industry secretary patricia hewitt would mean pay leave would increase nine months 2007. new mum currently entitles 90% average earn first six weeks give birth follow £102.80 week baby six months old 6 month old sandra gidley says plan would pay taxpayers employers david frost director general british chamber commerce warn many small firm could cripple move majority salary cost cover government's statutory pay recruitment cost advertise cost\", 'new act parliament make clear destroy record order prevent disclosure become criminal offence. mr thomas doubt retain long-standing principle civil service public authorities it is you have get use particular record may legitimate destroy deliberate destruction avoid possibility later disclosure totally condemn freedom information act cover england wales northern irelands next year similar measure bring time scottand provide public right access information hold 100,000 public body subject various exemptions implementation monitor information commissioner say already clear guidance retention e-mail contain code practice lord chancellor ', \"hewitt decry 'career sexism' plan extend pay maternity leave beyond six months prominent labour's election manifesto trade industry secretary say patricia. cost proposals evaluate increasingly high priority share goal across government ms hvvt speak gender productivity seminar organise equal opportunities commission (eoc) mother currently take six month' pay leave - six unpaid mps say cost implications taxpayer reimburse employers cost. a new drive help women want work male dominate sectors say eex\", \"labour ratify labour's rule national executive committee break traditional choice seaside venue first time since 1917 party choose manchester host annual event blackpool get much smaller february spring conference instead see placatory move years main political party rotate. a vote on the decision to the labour vote vote in the vote for the st vote of the new parliamentary vote - if the party vote is voted overwhelmingly. the move is the result of much trail decision by labour’s ruling ns vote to vote the majority vote.\", \"gordon brown's closest ally deny suggestions budget giveaway 16 march ed ball ex-chief economic adviser treasury say would spend spree poll day mr ball prospective labour mp say confident chancellor would meet fiscal rule speak sir digby jones cbi director general warn brown tempt use extra cash pre-election bribe. margin spare say hop would build current tax credit rule also stress rise interest rat ahead expect may election would affect labour party' s chance win\", \"'errors' doom first dome sale initial attempt sell millennium dome fail due catalogue errors report government's finance watchdog say dome cost taxpayers £28.7m maintain sell four years close finally deal turn sport entertainment venue strike £550m could return public sector wake deal regenerate site greenwich london.\", \"tories tory co-chairman liam fox refuse discuss weekend newspaper report party repay £500,000 lord ashcroft say party could win election repay loan due comment individual financial matter say insist enjoy warm constructive relationship. lib dem leader charles kennedy expect attack mr blair's word begin nationwide tour monday - visit manchester liverpool leicester basingstoke shrewsbury dorset torbay say three-party politics northern cities contest labour\", \"yvette cooper say find hard persuade commons officials minister secretary 83 mps give answer 100 hours tap interview study. harriet harman tell researchers sheer hostility prompt advancement cabinet well you have succeed you are woman another current member cabinet say tell oh you've fast rise sleep with?\", \"ex-no 10 media chief alastair campbell centre new political row e-mail contain four-letter outburst aim bbc2's newsnight seek question role labour mps campaign. 'i'm sure share sense humour star presenter mr p never know stupid fuss since last silly fuss go must look forward back later prime minister jack straw say always good polite relations'\", 'decision super-casinos decide scotland believe executive shirk responsibility over decision. glasgow minister insists still final say if super uk parliament plan eight las vegas style resort b one likely british minister says still deciding whether to vote due take wednesday expect close agg executive believe legislation handle westminster new law control internet gamble first time aim prevent children become involve supercasino could locate ibrox exhibition conference centre new gamble bill go westmster', \"mrs howard host news conference party's london hq every morning tory co-chairman fox say want michael accessible possible possible. tony blair also say plan hold daily news conferences charles kennedy and sandra a key election role for the conservative election campaign - but he is also on the side of husband tv chat show interview itv1 'day say often criticise husband show side know often critique husband\", \"pm apology jail tony blair apologise two families suffer one uk's biggest miscarriages justice prime minister comment wrongful jail 11 people. he says families deserve completely publicly exonerate families hop apology would make pm’s question house commons however one so-called guildford four gerry conlon - wrongly convict plant bomb kill seven people\", \"tory leader michael howard rebuts asylum criticisms. tv presenter anne robinson says home secretary give impression would like kick cat ms. go offensive response people say quota immigration asylum 1930s parent might allow country reply inference that? reach view need control immigration interest country you are allow put view forward happen descend immigrants? seem absolutely extraordinary proposition? would certainly mean one immigrant parent could prime minister john major's government use sit hand he had get television give passable\", 'tony blair rejects tory terror offer could ease passage anti-terror legislation tories want sunset clause insert bill. bill proposes control order well place terrorism suspect house arrest could mean curfews tag ban telephone internet use would replace current power detain foreign terror suspect without trial law lord rule breach human rights eminent independent person believe (the new powers) proper balance civil liberties subject necessary national security country put risk say lib dem home affairs spokesman mark oaten', \"talk hold gibraltar's future two days jack straw will begin his country residence later wednesday officials two-day summit. mr straw spanish counterparts agree establish body would give gibrraltarians voice future britain referendum want remain british 'live rock' uk madrid represent spain europe jose maria pons initiative follow spanisian socialist government decision put long-standing sovereignty ambitions hold ag - if he is not able to\", 'mps say absolute crisis recruitment statisticians social sciences experts commons science technology committee add major problems expect next 10 years social science workforce continue age say committee report work strategy spend plan economic social research council council.', 'tsunami debt deal announce chancellor gordon brown say hop announce deal suspend debt interest repayments tsunami-hit nations later friday agreement. g8 group wealthy nations would save affect countries £3bn pound year say deal think hammer thursday night japan one biggest creditor nations finally sign mr brown first propose idea earlier week agree agree instruct world bank international monetary fund complete country country analysis reconstruction problems face state hit disaster - jack straw say number britons dead miss disaster reach 440 brita', \"straw attend auschwitz service foreign secretary jack straw join uk delegation poland national holocaust memorial day 27 january 1.1 1.5 million people mainly jews kill auchwitz tories say glad mr straw sham go earlier criticise decision send lower-ranking official shadow foreign minister michael ancram. britain queen prince philip lead nation's commemoration service westminster hall london queen also host reception hls \", \"drink remark 'acts diversion' first minister's statement okay get drink divert attention real issue claim jack law chief executive alcohol focus scotland. hamish macdonell say believe bigger picture obscure advised media attention help move focus on binge drink problems mr law say he thinks more... i don't know what to do if you're going to be drinking'\", \"gcses suggest government take step sort meet firms' concern score another dissenter sir mike tomlinson's predecessor chief school inspector professor chris woodhead say need massive upheaval conservative party put forward plan revert system brightest percentage students year get top a-level grade matter well well others.\"]\n"
          ]
        }
      ]
    },
    {
      "cell_type": "code",
      "metadata": {
        "colab": {
          "base_uri": "https://localhost:8080/",
          "height": 105
        },
        "id": "FmrQ11OgpflJ",
        "outputId": "80f239a0-d45d-4e0d-a1be-e219473314ab"
      },
      "source": [
        "list_summary_via_t5[0]"
      ],
      "execution_count": 136,
      "outputs": [
        {
          "output_type": "execute_result",
          "data": {
            "application/vnd.google.colaboratory.intrinsic+json": {
              "type": "string"
            },
            "text/plain": [
              "\"labour plan maternity pay rise new mother rise £1,400 part new proposals announce trade industry secretary patricia hewitt would mean pay leave would increase nine months 2007. new mum currently entitles 90% average earn first six weeks give birth follow £102.80 week baby six months old 6 month old sandra gidley says plan would pay taxpayers employers david frost director general british chamber commerce warn many small firm could cripple move majority salary cost cover government's statutory pay recruitment cost advertise cost\""
            ]
          },
          "metadata": {},
          "execution_count": 136
        }
      ]
    },
    {
      "cell_type": "code",
      "metadata": {
        "colab": {
          "base_uri": "https://localhost:8080/",
          "height": 105
        },
        "id": "mvnZNOlcBT37",
        "outputId": "ae3f28d9-fe25-4270-8e6e-8449f0ad7872"
      },
      "source": [
        "list_summary_via_t5[1]"
      ],
      "execution_count": 137,
      "outputs": [
        {
          "output_type": "execute_result",
          "data": {
            "application/vnd.google.colaboratory.intrinsic+json": {
              "type": "string"
            },
            "text/plain": [
              "'new act parliament make clear destroy record order prevent disclosure become criminal offence. mr thomas doubt retain long-standing principle civil service public authorities it is you have get use particular record may legitimate destroy deliberate destruction avoid possibility later disclosure totally condemn freedom information act cover england wales northern irelands next year similar measure bring time scottand provide public right access information hold 100,000 public body subject various exemptions implementation monitor information commissioner say already clear guidance retention e-mail contain code practice lord chancellor '"
            ]
          },
          "metadata": {},
          "execution_count": 137
        }
      ]
    },
    {
      "cell_type": "code",
      "metadata": {
        "colab": {
          "base_uri": "https://localhost:8080/"
        },
        "id": "7TVRKAhhrPFU",
        "outputId": "a807e2c3-9fc2-4ea5-e9d8-423ca00beed1"
      },
      "source": [
        "len(df)"
      ],
      "execution_count": 138,
      "outputs": [
        {
          "output_type": "execute_result",
          "data": {
            "text/plain": [
              "20"
            ]
          },
          "metadata": {},
          "execution_count": 138
        }
      ]
    },
    {
      "cell_type": "code",
      "metadata": {
        "colab": {
          "base_uri": "https://localhost:8080/"
        },
        "id": "OhhH5MtUvn6d",
        "outputId": "bb528e1b-f09f-4dd1-ae3b-2849de2ab9be"
      },
      "source": [
        "for i in range(0,len(df)):\n",
        "  print(df[\"File Names\"][i])"
      ],
      "execution_count": 139,
      "outputs": [
        {
          "output_type": "stream",
          "name": "stdout",
          "text": [
            "001.txt\n",
            "002.txt\n",
            "003.txt\n",
            "004.txt\n",
            "005.txt\n",
            "006.txt\n",
            "007.txt\n",
            "008.txt\n",
            "009.txt\n",
            "010.txt\n",
            "011.txt\n",
            "012.txt\n",
            "013.txt\n",
            "014.txt\n",
            "015.txt\n",
            "016.txt\n",
            "017.txt\n",
            "018.txt\n",
            "019.txt\n",
            "020.txt\n"
          ]
        }
      ]
    },
    {
      "cell_type": "code",
      "metadata": {
        "id": "-JrEDvaSwN0D"
      },
      "source": [
        "#to create files for summary\n",
        "for i in range(0,len(df)):\n",
        "  with open(r\"summary{0}\".format(df[\"File Names\"][i]), \"w\") as politics_summary20:\n",
        "      politics_summary20.write(list_summary_via_t5[i])\n",
        "      politics_summary20.close()"
      ],
      "execution_count": 140,
      "outputs": []
    },
    {
      "cell_type": "code",
      "metadata": {
        "id": "Ww11dezvxNy-"
      },
      "source": [
        "#!rm summary10.txt"
      ],
      "execution_count": 141,
      "outputs": []
    },
    {
      "cell_type": "code",
      "metadata": {
        "id": "OhPjWUxlydzf"
      },
      "source": [
        "summary_file_names=[]\n",
        "for dirname, dirnames, filenames in os.walk(\"/content/politics20\"):\n",
        "  for filename in filenames:\n",
        "    if filename.startswith('summary'):\n",
        "       summary_file_names.append(filename)"
      ],
      "execution_count": 142,
      "outputs": []
    },
    {
      "cell_type": "code",
      "metadata": {
        "id": "7clqq15ty_pW"
      },
      "source": [
        "sorted_summary_file_names=sorted(summary_file_names)"
      ],
      "execution_count": 143,
      "outputs": []
    },
    {
      "cell_type": "code",
      "metadata": {
        "colab": {
          "base_uri": "https://localhost:8080/"
        },
        "id": "Ivr3biaqzrV2",
        "outputId": "a92ba345-0fb4-4d10-937e-22e5949b4f55"
      },
      "source": [
        "len(sorted_summary_file_names)"
      ],
      "execution_count": 144,
      "outputs": [
        {
          "output_type": "execute_result",
          "data": {
            "text/plain": [
              "20"
            ]
          },
          "metadata": {},
          "execution_count": 144
        }
      ]
    },
    {
      "cell_type": "code",
      "metadata": {
        "colab": {
          "base_uri": "https://localhost:8080/",
          "height": 677
        },
        "id": "DROFAY64zCF9",
        "outputId": "379caa60-8653-4873-aa53-fdc3e752e9eb"
      },
      "source": [
        "df.insert(1,\"Summary Files Names\",sorted_summary_file_names,True)\n",
        "df"
      ],
      "execution_count": 145,
      "outputs": [
        {
          "output_type": "execute_result",
          "data": {
            "text/html": [
              "<div>\n",
              "<style scoped>\n",
              "    .dataframe tbody tr th:only-of-type {\n",
              "        vertical-align: middle;\n",
              "    }\n",
              "\n",
              "    .dataframe tbody tr th {\n",
              "        vertical-align: top;\n",
              "    }\n",
              "\n",
              "    .dataframe thead th {\n",
              "        text-align: right;\n",
              "    }\n",
              "</style>\n",
              "<table border=\"1\" class=\"dataframe\">\n",
              "  <thead>\n",
              "    <tr style=\"text-align: right;\">\n",
              "      <th></th>\n",
              "      <th>File Names</th>\n",
              "      <th>Summary Files Names</th>\n",
              "    </tr>\n",
              "  </thead>\n",
              "  <tbody>\n",
              "    <tr>\n",
              "      <th>0</th>\n",
              "      <td>001.txt</td>\n",
              "      <td>summary001.txt</td>\n",
              "    </tr>\n",
              "    <tr>\n",
              "      <th>1</th>\n",
              "      <td>002.txt</td>\n",
              "      <td>summary002.txt</td>\n",
              "    </tr>\n",
              "    <tr>\n",
              "      <th>2</th>\n",
              "      <td>003.txt</td>\n",
              "      <td>summary003.txt</td>\n",
              "    </tr>\n",
              "    <tr>\n",
              "      <th>3</th>\n",
              "      <td>004.txt</td>\n",
              "      <td>summary004.txt</td>\n",
              "    </tr>\n",
              "    <tr>\n",
              "      <th>4</th>\n",
              "      <td>005.txt</td>\n",
              "      <td>summary005.txt</td>\n",
              "    </tr>\n",
              "    <tr>\n",
              "      <th>5</th>\n",
              "      <td>006.txt</td>\n",
              "      <td>summary006.txt</td>\n",
              "    </tr>\n",
              "    <tr>\n",
              "      <th>6</th>\n",
              "      <td>007.txt</td>\n",
              "      <td>summary007.txt</td>\n",
              "    </tr>\n",
              "    <tr>\n",
              "      <th>7</th>\n",
              "      <td>008.txt</td>\n",
              "      <td>summary008.txt</td>\n",
              "    </tr>\n",
              "    <tr>\n",
              "      <th>8</th>\n",
              "      <td>009.txt</td>\n",
              "      <td>summary009.txt</td>\n",
              "    </tr>\n",
              "    <tr>\n",
              "      <th>9</th>\n",
              "      <td>010.txt</td>\n",
              "      <td>summary010.txt</td>\n",
              "    </tr>\n",
              "    <tr>\n",
              "      <th>10</th>\n",
              "      <td>011.txt</td>\n",
              "      <td>summary011.txt</td>\n",
              "    </tr>\n",
              "    <tr>\n",
              "      <th>11</th>\n",
              "      <td>012.txt</td>\n",
              "      <td>summary012.txt</td>\n",
              "    </tr>\n",
              "    <tr>\n",
              "      <th>12</th>\n",
              "      <td>013.txt</td>\n",
              "      <td>summary013.txt</td>\n",
              "    </tr>\n",
              "    <tr>\n",
              "      <th>13</th>\n",
              "      <td>014.txt</td>\n",
              "      <td>summary014.txt</td>\n",
              "    </tr>\n",
              "    <tr>\n",
              "      <th>14</th>\n",
              "      <td>015.txt</td>\n",
              "      <td>summary015.txt</td>\n",
              "    </tr>\n",
              "    <tr>\n",
              "      <th>15</th>\n",
              "      <td>016.txt</td>\n",
              "      <td>summary016.txt</td>\n",
              "    </tr>\n",
              "    <tr>\n",
              "      <th>16</th>\n",
              "      <td>017.txt</td>\n",
              "      <td>summary017.txt</td>\n",
              "    </tr>\n",
              "    <tr>\n",
              "      <th>17</th>\n",
              "      <td>018.txt</td>\n",
              "      <td>summary018.txt</td>\n",
              "    </tr>\n",
              "    <tr>\n",
              "      <th>18</th>\n",
              "      <td>019.txt</td>\n",
              "      <td>summary019.txt</td>\n",
              "    </tr>\n",
              "    <tr>\n",
              "      <th>19</th>\n",
              "      <td>020.txt</td>\n",
              "      <td>summary020.txt</td>\n",
              "    </tr>\n",
              "  </tbody>\n",
              "</table>\n",
              "</div>"
            ],
            "text/plain": [
              "   File Names Summary Files Names\n",
              "0     001.txt      summary001.txt\n",
              "1     002.txt      summary002.txt\n",
              "2     003.txt      summary003.txt\n",
              "3     004.txt      summary004.txt\n",
              "4     005.txt      summary005.txt\n",
              "5     006.txt      summary006.txt\n",
              "6     007.txt      summary007.txt\n",
              "7     008.txt      summary008.txt\n",
              "8     009.txt      summary009.txt\n",
              "9     010.txt      summary010.txt\n",
              "10    011.txt      summary011.txt\n",
              "11    012.txt      summary012.txt\n",
              "12    013.txt      summary013.txt\n",
              "13    014.txt      summary014.txt\n",
              "14    015.txt      summary015.txt\n",
              "15    016.txt      summary016.txt\n",
              "16    017.txt      summary017.txt\n",
              "17    018.txt      summary018.txt\n",
              "18    019.txt      summary019.txt\n",
              "19    020.txt      summary020.txt"
            ]
          },
          "metadata": {},
          "execution_count": 145
        }
      ]
    },
    {
      "cell_type": "code",
      "metadata": {
        "id": "9skCHaWxzkXs"
      },
      "source": [
        "import torch\n",
        "from transformers import T5Tokenizer, T5ForConditionalGeneration, T5Config"
      ],
      "execution_count": 146,
      "outputs": []
    },
    {
      "cell_type": "code",
      "metadata": {
        "colab": {
          "base_uri": "https://localhost:8080/",
          "height": 145,
          "referenced_widgets": [
            "e9d1a27a75c1462589857732aa328fe3",
            "6fdf54edbbbf4543ba08c11517d3007f",
            "df4b38985b4a4e3ea7f857ce92ea3521",
            "76de21ed33064e38977f36983bd1a037",
            "2481bd1051f44f659bd9358d1b9672b6",
            "4ac61aff4a58439b8dc5b90578d7dd97",
            "beea5266df374cf9ac882499d8b5eac2",
            "d6abdbbdb7df4e79b9f5e038d58e444b",
            "dd9f22284fef4b21a5ff7925191c0224",
            "6066809e16ad42898a2937a049c24871",
            "f517fc73b44f4a108e819c0452150935",
            "f5573adfcb024eef94ad1fb8983185ce",
            "ef6b71c8d5f143eeb7cf33f110e0b2d0",
            "45e5bbb5ed294c9d90702900a9eccbb0",
            "5f304eb33cb0445485231c808f602074",
            "07aae50593834e32a59a94180aa6f714",
            "9c9f77c31015406f84747552a472c4e9",
            "76908a99f29b4d86b50f0ff9f8a43e1d",
            "c0cbfcd20bf1464f98b5bbcb4ec2c554",
            "23998f63931743d58cc74079b0fdb877",
            "178ffae34459422eb41c1700507a4e78",
            "5ee88b067687438d981ee515e29aa6c4",
            "001210da85ec44f1b031811132be9085",
            "25b427ea09a64c798d6c5693dbd1f3ca",
            "0bba3d0fd1cb42f39388e0d5f8aa9b33",
            "f301cc2a04854dffaecfc5200e3d31bb",
            "a4ff8169eb2e4f1bbf765190f4834532",
            "bd8c1fc298c14234913dccf2d5a8aa35",
            "fc73c62dce0b4ce997060058b29fffa9",
            "5427a6b2d8ed4424b50558c315f64497",
            "14a2d92929ac427d82ced4864eadbc9f",
            "3d5b72ed8418460184cf3765dfe9cbe9",
            "0975770607f242399ad7215e2bf5f27f",
            "2ccefb373b41428689079c722d127edb",
            "a33385c6ab4c42f0bee7d7f14bac59ce",
            "f977e728989441788c7587776bcfefd3",
            "23fcd2ccbd504093a2414451b76ca45b",
            "0c22f46c11444e8488a4c9a2547851cf",
            "50974641b06141fabf76523b1d95049a",
            "ea5961a393b4455a973e7d38b3d0fd38",
            "f899c21aff69461b855879282ddc716e",
            "e5c6bd4411a948b8a305b9510addf125",
            "15f6aa85117a4380a81e4f2fb41f07b8",
            "da4eff460ef74b0a935b07828020cd06"
          ]
        },
        "id": "eOMy9nbfQYoA",
        "outputId": "35f677d9-6718-412b-cbb1-d8ed1a526f34"
      },
      "source": [
        "from transformers import BartForConditionalGeneration, BartTokenizer, BartConfig\n",
        "tokenizer1=BartTokenizer.from_pretrained('facebook/bart-large-cnn')\n",
        "model1=BartForConditionalGeneration.from_pretrained('facebook/bart-large-cnn')"
      ],
      "execution_count": 147,
      "outputs": [
        {
          "output_type": "display_data",
          "data": {
            "application/vnd.jupyter.widget-view+json": {
              "model_id": "e9d1a27a75c1462589857732aa328fe3",
              "version_minor": 0,
              "version_major": 2
            },
            "text/plain": [
              "Downloading:   0%|          | 0.00/899k [00:00<?, ?B/s]"
            ]
          },
          "metadata": {}
        },
        {
          "output_type": "display_data",
          "data": {
            "application/vnd.jupyter.widget-view+json": {
              "model_id": "f5573adfcb024eef94ad1fb8983185ce",
              "version_minor": 0,
              "version_major": 2
            },
            "text/plain": [
              "Downloading:   0%|          | 0.00/456k [00:00<?, ?B/s]"
            ]
          },
          "metadata": {}
        },
        {
          "output_type": "display_data",
          "data": {
            "application/vnd.jupyter.widget-view+json": {
              "model_id": "001210da85ec44f1b031811132be9085",
              "version_minor": 0,
              "version_major": 2
            },
            "text/plain": [
              "Downloading:   0%|          | 0.00/1.34k [00:00<?, ?B/s]"
            ]
          },
          "metadata": {}
        },
        {
          "output_type": "display_data",
          "data": {
            "application/vnd.jupyter.widget-view+json": {
              "model_id": "2ccefb373b41428689079c722d127edb",
              "version_minor": 0,
              "version_major": 2
            },
            "text/plain": [
              "Downloading:   0%|          | 0.00/1.63G [00:00<?, ?B/s]"
            ]
          },
          "metadata": {}
        }
      ]
    },
    {
      "cell_type": "code",
      "metadata": {
        "id": "q129uG3mQuCS"
      },
      "source": [
        "def BART_Summary(text):\n",
        "    \n",
        "    inputs = tokenizer1.batch_encode_plus([text],return_tensors='pt')\n",
        "    summary_ids = model1.generate(inputs['input_ids'], early_stopping=True)\n",
        "    bart_summary = tokenizer1.decode(summary_ids[0], skip_special_tokens=True)\n",
        "    return bart_summary"
      ],
      "execution_count": 148,
      "outputs": []
    },
    {
      "cell_type": "code",
      "metadata": {
        "id": "uNuvL2O4RBdn"
      },
      "source": [
        "\n",
        "import nltk\n",
        "def getSentences(passage) :\n",
        "  sentences_list = nltk.tokenize.sent_tokenize(passage)\n",
        "  return sentences_list"
      ],
      "execution_count": 149,
      "outputs": []
    },
    {
      "cell_type": "code",
      "metadata": {
        "id": "NLmNpwYeRGws"
      },
      "source": [
        "import heapq\n",
        "def extractiveSummary(sentences, givenText) :\n",
        "  #to make a dictionary of key=word & value=frequency count of that word\n",
        "  count_frequency_dict={}\n",
        "  lstWords = givenText.split()\n",
        "  for i in lstWords:\n",
        "    count_frequency_dict[i]=lstWords.count(i)\n",
        "  max_frequency = max(count_frequency_dict.values())\n",
        "  for word in count_frequency_dict.keys():\n",
        "    count_frequency_dict[word] = (count_frequency_dict[word]/max_frequency)\n",
        "  sentence_scores = {}\n",
        "  for sent in sentences:\n",
        "    for word in nltk.word_tokenize(sent.lower()):\n",
        "        if word in count_frequency_dict.keys():\n",
        "                if sent not in sentence_scores.keys():\n",
        "                    sentence_scores[sent] = count_frequency_dict[word]\n",
        "                else:\n",
        "                    sentence_scores[sent] += count_frequency_dict[word] \n",
        "      \n",
        "  summary_sentences = heapq.nlargest(4, sentence_scores, key=sentence_scores.get)\n",
        "  summary = ' '.join(summary_sentences)\n",
        "  \n",
        "  return summary"
      ],
      "execution_count": 150,
      "outputs": []
    },
    {
      "cell_type": "code",
      "metadata": {
        "colab": {
          "base_uri": "https://localhost:8080/"
        },
        "id": "aQPRLPedSUSK",
        "outputId": "3f4bc87b-9eb9-4435-a2f5-9a81997fa42e"
      },
      "source": [
        "list_of_all_clean_para_sen"
      ],
      "execution_count": 151,
      "outputs": [
        {
          "output_type": "execute_result",
          "data": {
            "text/plain": [
              "[\"labour plan maternity pay rise maternity pay new mother rise £1,400 part new proposals announce trade industry secretary patricia hewitt would mean pay leave would increase nine months 2007 ms hewitt tell gmtv's sunday programme plan include let maternity pay give father extend right parent older children tories dismiss maternity pay plan desperate liberal democrats say misdirect ms hewitt say already double length maternity pay 13 weeks elect already take 26 weeks go extend pay nine months 2007 aim get right full 12 months end next parliament say new mother already entitle 12 months leave many women could take six months pay make firm commitment definitely extend maternity pay six months nine months that is extra £1,400 say minister would consult proposals could see father allow take partner's maternity pay leave period extend right flexible work carers parent older children shadow secretary state family theresa may say plan announce gordon brown pre-budget review december tony blair recycle desperate bid win back women voters say conservatives would announce proposals closer general election liberal democrat spokeswoman women sandra gidley say mother would welcome extra maternity pay liberal democrats feel money misdirect say party would boost maternity pay first six months allow women stay home time ms hewitt also stress plan would pay taxpayers employers david frost director general british chamber commerce warn many small firm could cripple move majority salary cost may cover government's statutory pay recruitment cost advertise cost retrain cost strain company say detail government's plan outline monday new mother currently entitle 90% average earn first six weeks give birth follow £102.80 week baby six months old\",\n",
              " 'watchdog probe e-mail deletions information commissioner say urgently ask detail cabinet office order tell staff delete e-mail three months old richard thomas totally condemn deletion e-mail prevent disclosure freedom information laws come force 1 january government guidance say e-mail delete serve current purpose mr thomas say tories lib dems question time new rule tory leader michael howard write tony blair demand explanation new rule e-mail retention monday lib dem constitutional affairs committee chairman alan beith warn deletion millions government e-mail could harm ability key probe like hutton inquiry time new rule freedom information act come force unlikely coincidence mr beith say cabinet office spokeswoman say move new laws destruction important record mr beith urge information commissioner look e-mail regime could support freedom information regime mr thomas say new act parliament make clear destroy record order prevent disclosure become criminal offence say already clear guidance retention e-mail contain code practice lord chancellor e-mail subject freedom information laws important thing content e-mail say mr thomas doubt retain long-standing principle civil service public authorities it is you have get use particular record may legitimate destroy deliberate destruction avoid possibility later disclosure totally condemn freedom information act cover england wales northern ireland next year similar measure bring time scotland provide public right access information hold 100,000 public body subject various exemptions implementation monitor information commissioner',\n",
              " \"hewitt decry 'career sexism' plan extend pay maternity leave beyond six months prominent labour's election manifesto trade industry secretary say patricia hewitt say cost proposals evaluate increasingly high priority share goal across government ms hewitt speak gender productivity seminar organise equal opportunities commission (eoc) mother currently take six months' pay leave - six unpaid ms hewitt tell seminar clearly one things need future extend period payment maternity leave beyond first six months second six months look quickly obviously cost implications taxpayer reimburse employers cost ms hewitt also announce new drive help women want work male dominate sectors say sexism work still prevent women reach full potential plan include fund universities help female science engineer graduate find job taster course men women non-traditional job women full-time work earn 19% less men accord equal opportunities commission (eoc) minister tell delegate get rid career sexism vital close gender pay gap career sexism limit opportunities women age prevent achieve full potential simply wrong assume someone cannot job ground sex say earlier tell bbc radio 4's today programme talk fact six 20 women work job low-paid typically dominate women get segregate employment unfortunately case reflect old-fashioned stereotypical ideas appropriate job women indeed men career sexism say engineer instance 10% employees women really male-dominated industry construction even worse also say childcare job really women suitable men career sexism go ways add progress make still gap pay figure average woman work full-time pay 80p every pound man earn women work part-time 60p department trade industry also provide fund help new pay experts panel run tuc set advise hundreds company equal wage policies research conduct eoc last year reveal many britons believe pay gap men women result natural differences sex women hold less 10% top position ftse 100 company police judiciary trade unions accord figure retire women half income male counterparts average\",\n",
              " \"labour choose manchester labour party hold 2006 autumn conference manchester blackpool confirm much trail decision ratify labour's rule national executive committee break traditional choice seaside venue first time since 1917 party choose manchester host annual event blackpool get much smaller february spring conference instead see placatory move years main political party rotate blackpool bournemouth brighton news much larger annual conference gather blackpool see blow coastal resort 1998 party say would return blackpool 2002 follow year bournemouth host event party sign two year deal brighton host autumn conference colin asplin blackpool hotel association say try hard make sure come back blackpool obviously fail hope manchester handle crowd amaze labour party work class party does not want come main work class resort country exact cost blackpool term lose revenue hotel accommodation yet know think block book take major manchester hotels official announcement\",\n",
              " \"brown ally reject budget spree chancellor gordon brown's closest ally deny suggestions budget giveaway 16 march ed ball ex-chief economic adviser treasury say would spend spree poll day mr ball prospective labour mp say confident chancellor would meet fiscal rule speak sir digby jones cbi director general warn mr brown tempt use extra cash pre-election bribe mr ball step treasury post stand labour candidate election suggest mr brown would meet golden economic rule - margin spare say hop would build current tax credit rule also stress rise interest rat ahead expect may election would affect labour party's chance win expectations rate rise gather pace figure show house price still rise consumer borrow rise near-record pace january mpc (the bank england's monetary policy committee) judge rate rise justify election strength economy - i'm predict - believe big election issue britain labour tell parliamentary lunch big change political culture interview bbc radio 4's today programme mr ball say sure mr brown's budget would put risk stability economy do not think we will see pre-election spend spree - certainly see 2001 say assurances come sir digby jones say stability important extra cash spend improve workers' skills message chancellor please do not give away form electioneer sir digby add do not think say prudent chancellor right way stability key word - british business need bore stability anything would say 'don't increase public spend do not give away go anywhere add something competitiveness britain put skilling people' would good way spend excess mr ball refuse say whether mr brown would remain chancellor election amid speculation offer job foreign secretary think gordon brown want part successful labour government deliver third term priorities people see conservative party take britain backwards mr ball tell today prime minister tony blair yet name date election pundits bet 5 may\",\n",
              " \"'errors' doom first dome sale initial attempt sell millennium dome fail due catalogue errors report government's finance watchdog say report say many party involve decision-making attraction first go sale millennium exhibition end national audit office say dome cost taxpayers £28.7m maintain sell four years close finally deal turn sport entertainment venue strike £550m could return public sector wake deal regenerate site greenwich london nao report say sale go avoid many problems previous attempt sell dome deputy prime minister john prescott say good deal secure delivery many benefit secure deal continue substantial progress already make millennium village elsewhere peninsula say edward leigh chairman commons public account committee warn government would work hard ensure taxpayers would get full benefit dome deal say report also show first attempt sell dome prove complete fiasco every arm government seem finger pie process confuse muddle add four years millennium exhibition close government finally deal find use white elephant since close deal incredible may seem bring money provide benefit local area country whole however question luck strong bid turn thefirst abortive attempt nao head sir john bourn say difficult circumstances follow failure first competition english partnerships office deputy prime minister work hard get deal\",\n",
              " \"fox attack blair's tory 'lies' tony blair lie take uk war qualms lie election campaign say tories tory co-chairman liam fox speak mr blair tell labour members tories offer hard right agenda dr fox tell bbc radio lie reason go war guess go lie anything would discuss report party repay £500,000 lord ashcroft predict election defeat prime minister ratchet labour's pre-election campaign weekend helicopter tour country speech party's spring conference insist know poll date widely expect 5 may see highly personal speech gateshead sunday mr blair say passion hunger first walk door 10 street describe relationship public start euphoric struggle live expectations reach point raise voice throw crockery warn supporters complacency say fight future country it is fight britain people britain win mr blair say whether public choose michael howard mr kennedy would result tory government labour government country go back move forward dr fox accuse mr blair cabinet minister tell lie opponents' policies attack lie learn weekend labour tactics go it is go fear smear tell bbc news tory co-chairman attack labour's six new pledge vacuous say mr blair worry voters would take revenge failure deliver dr fox refuse discuss weekend newspaper report party repay £500,000 former tory treasurer lord ashcroft say party could win election repay loan due comment individual financial matter say insist enjoy warm constructive relationship lord ashcroft meanwhile lib dem leader charles kennedy expect attack mr blair's word begin nationwide tour monday mr kennedy accelerate lib dem election preparations week visit manchester liverpool leicester somerset basingstoke shrewsbury dorset torbay say three-party politics northern cities contest labour liberal democrats southern rural seat - especially south west - principal contenders liberal democrats conservatives run scotland wales lib dems accuse mr blair make touchy-feely speech labour delegate help regain public trust\",\n",
              " \"women mps reveal sexist taunt women mps endure shock level sexist abuse hand male counterparts new study show male mps pretend juggle imaginary breast jeer melons women make commons speeches researchers birkbeck college tell labour's yvette cooper say find hard persuade commons officials minister secretary 83 mps give answer 100 hours tap interview study whose secretary minister research team professor joni lovenduski set look achievements experience women westminster emerge complaints mps party sexist barrack chamber sexist insult patronise assumptions abilities barbara follet one so-called blair babes elect 1997 tell researchers remember conservatives - whenever labour woman get speak would take breast - imaginary breast - hand wiggle say 'melons' speak former liberal democrat mp jackie ballard recall stream remark lead mp topics women's legs sexual persuasion ex-tory education secretary gillian shepherd remember one male colleagues call women betty say 'look know name is not betty' say 'ah you are call betty' harriet harman tell researchers sheer hostility prompt advancement cabinet well you have succeed you are woman another current member cabinet say tell oh you have fast rise sleep with? even great influx women mps 1997 general election greater number women cabinet female mps often say feel stick edge male world liberal democrat sarah teather recent female mp elect tell researchers lot people say it is like old boys club i've always say feel like teenage public school - know public school full teenagers prof joni lovenduski conduct study help margaret moran mp team journalists say shock find expect bite nothing like extent expect find couple shock episodes say difference experience women 1997 intake afterwards mainly women present parliament prepare put sexist attitudes come across prof lovenduski say add women include women come 1997 receive extraordinary treatment convince number women change back 1997 things would change back think shock general public things go house commons interview place british library historical record\",\n",
              " \"campbell e-mail row 'silly fuss' ex-no 10 media chief alastair campbell centre new political row e-mail contain four-letter outburst aim bbc journalists mr campbell send missive mistake bbc2's newsnight seek question role labour's controversial poster campaign later contact show say original e-mail send error silly fuss mr campbell recently re-joined labour's election campaign e-mail reveal day peter mandelson former labour minister european commissioner warn bbc steer away demonise mr campbell mr campbell message newsnight programme investigate claim labour's advertise agency tbwa blame controversy campaign posters image include one fly pig another critics claim depict tory leader michael howard fagin prompt accusations anti-semitism claim deny labour mr campbell's e-mail apparently intend party official suggest get trevor beattie tbwa's boss issue statement say speak trev think tbwa shd give statement newsnight say party agency work together well nobody speak standard posters tbwa accord political brief fuck cover something important twats! e-mail send mistake newsnight journalist andrew mcfadyen realise error mr campbell e-mail mr mcfadyen point mistake suggest presenter jeremy paxman would see funny side say good e-mail blackberry malarkey look log send message realise e-mail mean colleagues tbwa go record first three sentence email spot row trevor posters accord brief dream fly pig pig great okay circs tories promise tax cut spend rise money tbwa make production campbell swear shock final sentence earlier e-mail probably bite colourful personal consider never actually meet i'm sure share sense humour star presenter mr p never know silly fuss since last silly fuss go must look forward back later prime minister's spokesman ask journalists view mr campbell's use abusive language spokesman say person refer capable speak longer work government foreign secretary jack straw say always good polite relations mr campbell describe talented former spin doctor's use language mr straw say know odd journalist occasionally use odd word would probably inappropriate circumstances maybe mix wrong kind journalists liam fox tory co-chairman say return mr campbell sign new sinister underhand tactics labour\",\n",
              " 'crucial decision super-casinos decision whether allow westminster legislate super-casinos set make scottish parliament government plan eight las vegas style resort uk one likely glasgow scottish minister insist still final say whether super-casino build scotland opposition party say happen practice vote due take wednesday expect close scottish executive believe legislation handle westminster new law control internet gamble first time aim prevent children become involve super-casino glasgow could locate ibrox scottish exhibition conference centre new gamble bill go westminster allow casino complexes open public live entertainment large number fruit machine unlimited prize scottish national party tories say issue super-casinos decide scotland believe executive shirk responsibility',\n",
              " \"mrs howard get key election role michael howard's ex-model wife sandra play lead role conservative election campaign mrs howard make solo visit target seat well accompany husband helicopter campaign trail criss-crossing country mr howard host news conference party's london hq every morning tory co-chairman liam fox say want michael accessible possible mr fox say add party afraid scrutiny tory leader want meet many ordinary members public mr fox say tony blair also say intend get talk many people possible election campaign labour campaign chiefs say plan mr blair hold daily news conference mr fox respond accuse prime minister hide away scrutiny london's media liberal democrats also say plan hold daily news conferences charles kennedy mrs howard's role mr fox say sandra already campaign michael number visit undertake short visit pattern continue it is work well mrs howard make debut speech conservative party conference bournemouth last october use speech fringe highlight work drug charity addaction support mrs howard also appear along side husband tv chat show interview itv1's morning say often criticise husband show side know\",\n",
              " \"pm apology jail tony blair apologise two families suffer one uk's biggest miscarriages justice prime minister comment wrongful jail 11 people ira bomb attack pubs guildford woolwich 1974 mr blair say sorry subject ordeal injustice make apology members conlon maguire families private room westminster statement record television mr blair say families deserve completely publicly exonerate families hop apology would make prime minister's question house commons however one so-called guildford four gerry conlon - wrongly convict plant bomb - say families delight apology say mr blair speak sincerity add go beyond think would take time listen everyone could see move people say tony blair heal rifts help heal wound it is day never think would come move follow huge campaign ireland public apology eleven people wrongly convict make plant ira bomb kill seven people mr blair's official spokesman say no-one present meet would ever forget strength feel relief prime minister's statement bring convict either members friends two families arrest family connection gerry conlon mr conlon's father giuseppe arrest travel london belfast help son die serve sentence also arrest anne maguire members family mrs maguire relative giuseppe plan stay london well two family friends say wonderful feel apology weight lift shoulder people still doubt us believe totally innocent say jail handle explosives base scientific evidence later entirely discredit october 1989 court appeal quash sentence guildford four june 1991 overturn sentence maguire seven mr conlon's case highlight oscar-nominated film name father star daniel day-lewis\",\n",
              " \"howard rebut asylum criticisms tory leader michael howard go offensive response people question son immigrants propose asylum quotas mr howard whose parent flee nazi threat come uk say claim would mean no-one immigrant family could become premier comment come bbc documentary call 'no mr nasty' tv presenter anne robinson say home secretary give impression would like kick cat ms robinson friend tory leader also reveal cambridge student mr howard much love women courteous kind rather dash lover - although deny personal experience was not cambridge - it is personal experience - know people documentary maker michael cockerell give behind-the-scenes access mr howard film portrait tory leader ask respond people say quota immigration asylum 1930s parent might allow country reply inference that? reach view need control immigration interest country you are allow put view forward happen descend immigrants? seem absolutely extraordinary proposition? would certainly mean one immigrant parent could prime minister ms robinson present weakest link tell cockerell despair hardline image home secretary john major's government use sit hand he had get television give passable impression someone who'd like kick cat would put baby prison cry mean draconian film show mr howard laugh rory bremner's impression dracula call good fun apart serious falsehood comment suggest want fewer black people uk film show private side tory leader watch television home play table tennis wife ex-model sandra ask enjoy game ping pong confess yeah would enjoyable could win occasionally otherwise it is quite fun former street communications chief alastair campbell work labour's election campaign say touchy-feely image fit mr howard say tony blair worry opponents' early performance commons clash mr howard lack big strategy include issue like iraq tory leader brand criticisms absolutely rubbish argue consistent support war critical mr blair's failure tell truth intelligence former tory chancellor ken clarke say mr howard bigger problem change perceptions tory party personal image mr clarke say party improve conceivable could win next election add get change bite broaden appeal - michael howard mr nasty show bbc2 saturday 12 february 2005 gmt\",\n",
              " \"blair reject tory terror offer tony blair reject conservative compromise offer could ease passage anti-terror legislation tories want sunset clause insert anti-terrorism bill would force minister revisit november mr blair say bill bring house arrest terror suspect time limit safeguard already tories say vote unless change want agree lib dems also oppose plan government already give way role judge house arrest case mr blair's refusal accept tories' sunset clause proposals mean government face concert opposition side lord peer begin three days detail deliberation bill thursday bill propose control order well place terrorism suspect house arrest could mean curfews tag ban telephone internet use would replace current power detain foreign terror suspect without trial law lord rule breach human right tories want judicial oversight control order house arrest shadow home secretary david davis tell bbc radio four's world one primary concern potential miscarriages justice say someone wrongly give control order would act recruit sergeant terrorists go say do not get amendments regard essential include sunset clause vote bill commons mr howard say would far better whole legislation subject sunset clause parliament could consider proper way instead ramrodded mr blair say house arrest power already go subject sunset clause annually renewable second less stringent type control order would subject court appeal within 14 days would three-monthly report use eminent independent person believe (the new powers) proper balance civil liberties subject necessary national security country put risk say mr blair lib dems plan oppose bill lord thursday lib dem home affairs spokesman mark oaten say there's lot talk leave would uneasy support bad bill even eight months spokeswoman human right watch say basic principle people punish fair trial add judge impose punishments without trial sanitise either\",\n",
              " \"talk hold gibraltar's future two days talk future gibraltar begin jack straw's country residence later wednesday officials two-day summit foreign secretary's official kent house chevening plan new forum rock's future october mr straw spanish counterpart miguel moratinos agree establish body would give gibraltarians voice future gibraltarians say referendum want remain british gibraltar's chief minister peter caruana represent british citizens live rock britain's europe director dominick chilcott represent uk madrid represent spain's director general europe jose maria pons initiative follow spain's socialist government's decision put long-standing sovereignty ambition hold gibraltarians reject plan rock's sovereignty share britain spain referendum organise gibraltar government\",\n",
              " \"crisis 'ahead social sciences' national body design tackle skills shortages key subject set committee mps say absolute crisis recruitment statisticians social science experts commons science technology committee add major problems expect next 10 years social science workforce continue age say committee report work strategy spend plan economic social research council council aim promote support strategic research social science postgraduates provide social scientists meet need country also liaise government industry social science need report council's work committee say deeply concern skills shortages afflict particular qualitative branch social sciences mirror previous concern committee express shortages field maths chemistry say hard see significant progress towards rectify shortages make deployment economic social research council's limit resources government serious address skills shortages key subject need find effective mechanism achieve national strategic capabilities fund address shortages key areas set response committee add\",\n",
              " 'tsunami debt deal announce chancellor gordon brown say hop announce deal suspend debt interest repayments tsunami-hit nations later friday agreement g8 group wealthy nations would save affect countries £3bn pound year say deal think hammer thursday night japan one biggest creditor nations finally sign mr brown first propose idea earlier week g8 minister also believe agree instruct world bank international monetary fund complete country country analysis reconstruction problems face state hit disaster mr brown lock talk finance minister g8 britain chair germany also propose freeze canada begin moratorium expect deal come foreign secretary jack straw say number britons dead miss disaster reach 440',\n",
              " \"straw attend auschwitz service foreign secretary jack straw visit auschwitz 60th anniversary former nazi concentration camp's liberation announce prince edward also join uk delegation poland national holocaust memorial day 27 january 1.1 1.5 million people mainly jews kill auschwitz tories say glad mr straw sham go earlier criticise decision send lower-ranking official shadow foreign secretary michael ancram say glad foreign secretary finally sham represent britain important act commemoration government show crass insensitivity force public opinion first place britain queen prince philip lead nation's commemoration service westminster hall london queen also host reception holocaust survivors st james's palace altogether six million people mainly jews perish holocaust queen's grandson prince harry spark outrage earlier week photograph wear nazi uniform costume party emerge prince 20 apologise critics call go auschwitz commemoration soviets' 1945 liberation camp prince harry see result hat symbol foolishly brazenly choose wear rabbi marvin hier founder jewish human right group simon wiesenthal center say\",\n",
              " \"drink remark 'acts diversion' first minister's statement okay get drink divert attention real issue claim jack law chief executive alcohol focus scotland say jack mcconnell's comment ill-advised media attention help move focus scotland's binge drink problems mr law say scotsman journalist hamish macdonell say believe bigger picture obscure remark mr mcconnell speak monday 100 secondary pupils school highlands problems binge drink drink promotions one-sentence comment immediately criticise scottish national party accuse encourage young people get drink scottish executive insist mr mcconnell speak adults comment recognition people get drink mr macdonell political editor scotsman say think say right outset stupid ill-advised remark first minister come something like say mean get drink pillory however add perhaps mr mcconnell could feel rightly aggrieve coverage mr macdonell say think problem say lot things binge drink age drink whole side things lose furore one sentence understand think much bigger message obscure mr law voluntary body alcohol focus scotland believe damage scotland's fight binge drink say accept young people drink problems drink mr law add think remark ill-advised - remark blow proportion easily misrepresent try scotland do not want preach young people need acknowledge drink problematically divert us real issue promote responsibility reduce harm indeed tackle drink culture culture binge drink drunkenness say vital young people properly inform risk incur others get drink mr macdonell say first minister know say things mark bind come back bite add mr mcconnell talk highlands 100 teenagers every word say put webcast scottish executive look politicians reporters think instance lot really good things regret remark scottish national party's holyrood leader nicola sturgeon write mr mcconnell tuesday accuse error judgement call apologise ill-judged comment withdraw immediately furious response first minister say comment distort take context tell ms sturgeon disappoint contribute distortion say stagger 'should encourage young people get drunk' completely untrue perhaps would wiser find actually say rush represent position undermine convener education highland council insult intelligence young people speak - sake simple soundbite\",\n",
              " \"concern school diploma plan final appeal make government ditch reform plan england's secondary school put forward tomlinson report government's response plan four-tier diploma replace exist 14-19 qualifications expect next week worry could scupper tony blair ruth kelly suggest gcses a-levels stay sir mike tomlinson brief week say feel comfortable government likely say read newspapers earlier part week government say still rewrite response friday tragedy government come half-hearted response say chairman commons education select committee labour mp barry sheerman main concern report would diploma - replace exist vocational qualifications must tackle head-on structural mess secondary education system write time educational supplement case academic stream secondary fine vocational route desperately weak qualifications curriculum authority (qca) also tell government compromise qca say potential step-change participation attainment lay integrity whole diploma partial implementation proposals would view compromise integrity say chairman sir anthony greener sign qca's concern advice go minister last december publicise recently people understand white paper response government policy command wider ministerial support come department education skills may content close many doors write - whatever spin put chief inspector school david bell also say recently gcses a-levels go one reason i'm strongly favour term disappear time it is good symbols change see right across system say do not say sea-change education miss great opportunity universities head teachers independent state sectors also back tomlinson proposals include higher grade advance level differentiate brightest students note concern express repeatedly employers' organisation cbi complain lack skills attempt address tomlinson plan test functional maths literacy - decidedly gcses suggest government take step sort meet firms' concern score another dissenter sir mike tomlinson's predecessor chief school inspector professor chris woodhead say need massive upheaval conservative party put forward plan revert system brightest percentage students year get top a-level grade matter well others\"]"
            ]
          },
          "metadata": {},
          "execution_count": 151
        }
      ]
    },
    {
      "cell_type": "code",
      "metadata": {
        "colab": {
          "base_uri": "https://localhost:8080/",
          "height": 157
        },
        "id": "N8tEEKG_T7w7",
        "outputId": "b0eaf45c-5151-41c8-da4c-ad77a449a625"
      },
      "source": [
        "contents_of_files[0]\n"
      ],
      "execution_count": 157,
      "outputs": [
        {
          "output_type": "execute_result",
          "data": {
            "application/vnd.google.colaboratory.intrinsic+json": {
              "type": "string"
            },
            "text/plain": [
              "'Labour plans maternity pay rise  Maternity pay for new mothers is to rise by £1,400 as part of new proposals announced by the Trade and Industry Secretary Patricia Hewitt.  It would mean paid leave would be increased to nine months by 2007, Ms Hewitt told GMTV\\'s Sunday programme. Other plans include letting maternity pay be given to fathers and extending rights to parents of older children. The Tories dismissed the maternity pay plan as \"desperate\", while the Liberal Democrats said it was misdirected.  Ms Hewitt said: \"We have already doubled the length of maternity pay, it was 13 weeks when we were elected, we have already taken it up to 26 weeks. \"We are going to extend the pay to nine months by 2007 and the aim is to get it right up to the full 12 months by the end of the next Parliament.\" She said new mothers were already entitled to 12 months leave, but that many women could not take it as only six of those months were paid. \"We have made a firm commitment. We will definitely extend the maternity pay, from the six months where it now is to nine months, that\\'s the extra £1,400.\" She said ministers would consult on other proposals that could see fathers being allowed to take some of their partner\\'s maternity pay or leave period, or extending the rights of flexible working to carers or parents of older children. The Shadow Secretary of State for the Family, Theresa May, said: \"These plans were announced by Gordon Brown in his pre-budget review in December and Tony Blair is now recycling it in his desperate bid to win back women voters.\"  She said the Conservatives would announce their proposals closer to the General Election. Liberal Democrat spokeswoman for women Sandra Gidley said: \"While mothers would welcome any extra maternity pay the Liberal Democrats feel this money is being misdirected.\" She said her party would boost maternity pay in the first six months to allow more women to stay at home in that time.  Ms Hewitt also stressed the plans would be paid for by taxpayers, not employers. But David Frost, director general of the British Chambers of Commerce, warned that many small firms could be \"crippled\" by the move. \"While the majority of any salary costs may be covered by the government\\'s statutory pay, recruitment costs, advertising costs, retraining costs and the strain on the company will not be,\" he said. Further details of the government\\'s plans will be outlined on Monday. New mothers are currently entitled to 90% of average earnings for the first six weeks after giving birth, followed by £102.80 a week until the baby is six months old. '"
            ]
          },
          "metadata": {},
          "execution_count": 157
        }
      ]
    },
    {
      "cell_type": "code",
      "metadata": {
        "colab": {
          "base_uri": "https://localhost:8080/"
        },
        "id": "v6CNVNfzRtWn",
        "outputId": "e627c61f-adcc-4efa-8551-102733e4f2e7"
      },
      "source": [
        "nltk.download(\"punkt\")\n",
        "#lstSummary1 = []\n",
        "lstSummary2 = []\n",
        "lstSummary3 = []\n",
        "path = os.getcwd()\n",
        "for i in range(0,len(list_of_all_clean_para_sen)):\n",
        "    #f = open(path+df['File Names'][i], \"r\")\n",
        "    #b = f.read()\n",
        "    #sentences = getSentences(b)\n",
        "    #b = b.replace(\"\\n\",\"\")\n",
        "    #cleaned_text = clean_text(b)\n",
        "    cleaned_text=list_of_all_clean_para_sen[i]\n",
        "\n",
        "    sentences=getSentences(contents_of_files[i])\n",
        "    #x = getT5_Summary(cleaned_text)\n",
        "    y = BART_Summary(cleaned_text)\n",
        "    z = extractiveSummary(sentences, cleaned_text)\n",
        "    #lstSummary1.append(x)\n",
        "    lstSummary2.append(y)\n",
        "    lstSummary3.append(z)\n",
        "    #f.close()\n",
        "#df[\"T5_summary\"] = lstSummary1\n",
        "#df[\"BART_summary\"] = lstSummary2\n",
        "#df[\"Ext Summary\"] = lstSummary3\n",
        "\n",
        "print(lstSummary2)\n",
        "print(\"summary3\\n\",lstSummary3)\n"
      ],
      "execution_count": 160,
      "outputs": [
        {
          "output_type": "stream",
          "name": "stdout",
          "text": [
            "[nltk_data] Downloading package punkt to /root/nltk_data...\n",
            "[nltk_data]   Package punkt is already up-to-date!\n",
            "[\"Trade industry secretary would mean pay leave would increase nine months 2007 ms hewitt tell gmtv's sunday programme plan include let maternity pay give father extend right parent older children. tories dismiss maternity pay plan desperate liberal democrats say misdirect. gordon brown pre-budget review december tony blair recycle desperate bid win back women voters.\", 'Watchdog probe e-mail deletions. Information commissioner say urgently ask detail cabinet office order tell staff delete e-mails three months old richard thomas totally condemn deletion e- mail prevent disclosure freedom information laws come force 1 january government guidance say e- Mail delete serve current purpose.', \"Ms. hewitt decry 'career sexism' plan extend pay maternity leave beyond six months. Women full-time work earn 19% less men accord equal opportunities commission (eoc) minister tell delegate get rid career sexism vital close gender pay gap. New drive help women want work male dominate sectors say sexism work still prevent women reach full potential.\", \" labour choose manchester labour party hold 2006 autumn conference manchester blackpool confirm much trail decision ratify labour's rule national executive committee break traditional choice seaside venue first time since 1917. labour party work class party does not want come main work class resort country exact cost blackpool term lose revenue hotel accommodation yet know think block book take major manchester hotels official announcement.\", \"Gordon brown ally reject budget spree chancellor gordon brown's closest ally deny suggestions budget giveaway 16 march ed ball ex-chief economic adviser treasury say would spend spree poll day mr ball prospective labour mp say confident chancellor would meet fiscal rule speak sir digby jones cbi director general warn mr brown tempt use extra cash pre-election bribe.\", \"First attempt to sell millennium dome fail due to catalogue errors. Dome cost taxpayers £28.7m maintain sell four years close finally deal turn sport entertainment venue strike £550m. 'errors' doom first dome sale initial attempt sell millennium Dome fail due catalogue errors report government's finance watchdog say.\", \"Liam fox attack blair's tory 'lies' tony blair lie take uk war qualms lie election campaign say tories tory co-chairman liam fox speak mr blair tell labour members tories offer hard right agenda dr fox tell bbc radio lie reason go war guess go lie anything would discuss report party repay £500,000 lord ashcroft predict election defeat prime minister ratchet labour's pre-election campaign.\", \"Women mps reveal sexist taunt women mps endure shock level sexist abuse hand male counterparts new study show male mps pretend juggle imaginary breast jeer melons women make commons speeches researchers birkbeck college tell labour's yvette cooper say find hard persuade commons officials minister secretary 83 mps give answer 100 hours tap interview study.\", \"Alastair campbell recently re-joined labour's election campaign e-mail reveal day. Labour's advertise agency tbwa blame controversy campaign posters image include one fly pig. Critics claim depict tory leader michael howard fagin prompt accusations anti-semitism claim deny labour.\", 'Scottish parliament government plan eight las vegas style resort uk one likely glasgow. Scottish minister insist still final say whether super-casino build scotland opposition party say happen practice vote due take wednesday expect close. scottish executive believe legislation handle westminster new law control internet gamble.', \" mrs howard get key election role michael howard's ex-model wife sandra play lead role conservative election campaign. mr howard make solo visit target seat well accompany husband helicopter campaign trail criss-crossing country. tory leader want meet many ordinary members public mr fox say tony blair also say intend get talk many people possible.\", \"11 people wrongly convict make plant ira bomb attack pubs guildford woolwich 1974. Two families arrest family connection gerry conlon mr conlon's father giuseppe arrest travel london belfast help son die serve sentence also arrest anne maguire members family mrs Maguire relative giusedppe plan stay london well.\", \"M. howard rebut asylum criticisms tory leader michael howard go offensive response people question son immigrants propose asylum quotas mr howard whose parent flee nazi threat come uk say claim would mean no-one immigrant family could become premier comment come bbc documentary call 'no mr nasty' tv presenter anne robinson say home secretary give impression would like kick cat ms robinson friend toryLeader also reveal cambridge student mrHoward much love women courteous kind rather dash lover - although deny personal experience was not cambridge - it is personal experience - know people.\", \"Tories want sunset clause insert anti-terrorism bill would force minister revisit november. lib dems also oppose plan government already give way role judge house arrest case mr blair's refusal accept tories' sunset clause proposals mean government face concert opposition side lord peer begin three days detail deliberation bill th Thursday.\", \"Two-day summit to discuss future of rock begins later this month. Gibraltarians say referendum want remain british. Foreign secretary's official kent house to host summit. gibraltarians reject plan rock's sovereignty share britain spain referendum organise gibraltar government.\", \"Crisis 'ahead social sciences' national body design tackle skills shortages key subject set committee mps say absolute crisis recruitment statisticians social science experts. Council aim promote support strategic research social science postgraduates provide social scientists meet need country also liaise government industry social science need report council's work committee say deeply concern skills shortages afflict particular qualitative branch.\", 'Tsunami debt deal announce chancellor gordon brown say hop announce deal suspend debt interest repayments tsunami-hit nations later friday agreement g8 group wealthy nations would save affect countries £3bn pound year say deal think hammer thursday night japan one biggest creditor nations finally sign.', \" foreign secretary jack straw visit auschwitz 60th anniversary former nazi concentration camp's liberation announce prince edward also join uk delegation poland national holocaust memorial day 27 january 1.1 1.5 million people mainly jews kill aus Auschwitz tories say glad mr straw sham go earlier criticise decision to send lower-ranking official.\", \"Drink remark 'acts diversion' first minister's statement okay get drink divert attention real issue claim jack law chief executive alcohol focus scotland say jack mcconnell's comment ill-advised media attention help move focus. mr law say scotsman journalist hamish macdonell say believe bigger picture obscure remark mr mcc onnell speak monday 100 secondary pupils school highlands problems binge drink drink promotions one-sentence comment immediately criticise scottish national party.\", \"Government's response plan four-tier diploma replace exist 14-19 qualifications expect next week worry could scupper tony blair ruth kelly suggest gcses a-levels stay sir mike tomlinson brief week say feel comfortable government likely say read newspapers earlier part week government say still rewrite response friday tragedy government come half-hearted response.\"]\n",
            "summary3\n",
            " ['Labour plans maternity pay rise  Maternity pay for new mothers is to rise by £1,400 as part of new proposals announced by the Trade and Industry Secretary Patricia Hewitt. We will definitely extend the maternity pay, from the six months where it now is to nine months, that\\'s the extra £1,400.\" She said her party would boost maternity pay in the first six months to allow more women to stay at home in that time. \"We are going to extend the pay to nine months by 2007 and the aim is to get it right up to the full 12 months by the end of the next Parliament.\"', 'Mr Beith urged the information commissioner to look at how the \"e-mail regime\" could \"support the freedom of information regime\". All e-mails are subject to the freedom of information laws, but the important thing was the content of the e-mail, said Mr Thomas. Watchdog probes e-mail deletions  The information commissioner says he is urgently asking for details of Cabinet Office orders telling staff to delete e-mails more than three months old. Richard Thomas \"totally condemned\" the deletion of e-mails to prevent their disclosure under freedom of information laws coming into force on 1 January.', 'Ms Hewitt also announced a new drive to help women who want to work in male dominated sectors, saying sexism at work was still preventing women reaching their full potential. Earlier, she told BBC Radio 4\\'s Today programme: \"What we are talking about here is the fact that about six out of 20 women work in jobs that are low-paid and typically dominated by women, so we have got very segregated employment. Ms Hewitt told the seminar: \"Clearly, one of the things we need to do in the future is to extend the period of payment for maternity leave beyond the first six months into the second six months. Women in full-time work earn 19% less than men, according to the Equal Opportunities Commission (EOC).', 'Labour chooses Manchester  The Labour Party will hold its 2006 autumn conference in Manchester and not Blackpool, it has been confirmed. \"It amazes me that the Labour Party, which is a working class party, doesn\\'t want to come to the main working class resort in the country.\" The following year Bournemouth hosted the event before the party signed a two year deal for Brighton to host the autumn conference. Colin Asplin, Blackpool Hotel Association said: \"We have tried very hard to make sure they come back to Blackpool.', '\"If the MPC (the Bank of England\\'s Monetary Policy Committee) were to judge that a rate rise was justified before the election because of the strength of the economy - and I\\'m not predicting that they will - I do not believe that this will be a big election issue in Britain for Labour,\" he told a Parliamentary lunch. Mr Balls, who stepped down from his Treasury post to stand as a Labour candidate in the election, had suggested that Mr Brown would meet his golden economic rule - \"with a margin to spare\". Mr Balls refused to say whether Mr Brown would remain as chancellor after the election, amid speculation he will be offered the job of Foreign Secretary. During an interview with BBC Radio 4\\'s Today programme, Mr Balls said he was sure Mr Brown\\'s Budget would not put at risk the stability of the economy.', 'He added: \"Four years after the Millennium Exhibition closed, the Government finally has a deal to find a use for what has been a white elephant since it closed in a deal that, incredible as it may seem, should bring in some money and provide a benefit for the local area and the country as whole. \\'Errors\\' doomed first Dome sale  The initial attempt to sell the Millennium Dome failed due to a catalogue of errors, a report by the government\\'s finance watchdog says. But Edward Leigh, who is chairman of the Commons public accounts committee, warned the government would have to work hard to ensure taxpayers would get full benefit from the Dome deal. NAO head Sir John Bourn said: \"In difficult circumstances following the failure of the first competition, English Partnerships and the office of the deputy prime minister have worked hard to get a deal.\"', 'Mr Blair said that whether the public chose Michael Howard or Mr Kennedy, it would result in \"a Tory government not a Labour government and a country that goes back and does not move forward\". Fox attacks Blair\\'s Tory \\'lies\\'  Tony Blair lied when he took the UK to war so has no qualms about lying in the election campaign, say the Tories. Dr Fox refused to discuss weekend newspaper reports that the party had repaid £500,000 to former Tory Treasurer Lord Ashcroft after he said the party could not win the election. The Tory co-chairman attacked Labour\\'s six new pledges as \"vacuous\" and said Mr Blair was very worried voters would take revenge for his failure to deliver.', 'Even after the great influx of women MPs at the 1997 general election, and greater numbers of women in the Cabinet, female MPs often say they feel stuck on the edge of a male world. But she added: \"Some women, including the women who came in 1997, received extraordinary treatment and I am not convinced that if the number of women changed back to what it was before 1997 that things would not change back. Women MPs reveal sexist taunts  Women MPs endure \"shocking\" levels of sexist abuse at the hands of their male counterparts, a new study shows. Barbara Follet, one of the so-called \"Blair Babes\" elected in 1997, told researchers: \"I remember some Conservatives - whenever a Labour woman got up to speak they would take their breasts - imaginary breasts - in their hands and wiggle them and say \\'melons\\' as we spoke.\"', 'Campbell: E-mail row \\'silly fuss\\'  Ex-No 10 media chief Alastair Campbell is at the centre of a new political row over an e-mail containing a four-letter outburst aimed at BBC journalists. Final sentence of earlier e-mail probably a bit colourful and personal considering we have never actually met but I\\'m sure you share the same sense of humour as your star presenter Mr P. \"Never known such a silly fuss since the last silly fuss but there we go. Mr Campbell\\'s e-mail, which was apparently intended for a party official, suggested they should get Trevor Beattie, TBWA\\'s boss, to issue a statement. Realising his error, Mr Campbell then e-mailed Mr McFadyen pointing out the mistake, but suggesting presenter Jeremy Paxman would have seen the funny side.', 'Crucial decision on super-casinos  A decision on whether to allow Westminster to legislate on super-casinos is set to be made by the Scottish Parliament. But the Scottish National Party and the Tories say the issue of super-casinos should be decided in Scotland and believe the executive is shirking its responsibility. The new gambling bill going through Westminster will allow casino complexes to open to the public, have live entertainment and large numbers of fruit machines with unlimited prizes. Scottish ministers insist they will still have the final say on whether a super-casino will be built in Scotland.', 'Mrs Howard gets key election role  Michael Howard\\'s ex-model wife, Sandra, is to play a leading role in the Conservative election campaign. Mr Howard will host a news conference at the party\\'s London HQ every morning, Tory co-chairman Liam Fox said. But Labour campaign chiefs say there are no plans for Mr Blair to hold a daily news conference. On Mrs Howard\\'s role, Mr Fox said: \"Sandra has already been campaigning with Michael on a number of visits and has been undertaking short visits herself.', 'However, one of the so-called Guildford Four, Gerry Conlon - who was wrongly convicted of planting the bombs - said the families were delighted with the apology. The move followed a huge campaign in Ireland for a public apology after eleven people were wrongly convicted of making and planting the IRA bombs which killed seven people. Mr Blair\\'s official spokesman said no-one present at the meeting would \"ever forget the strength of feeling of relief that the prime minister\\'s statement brought to them\". PM apology over jailings  Tony Blair has apologised to two families who suffered one of the UK\\'s biggest miscarriages of justice.', 'Ms Robinson, a friend of the Tory leader, also revealed that as a Cambridge student Mr Howard was \"much loved by women and he was a courteous and kind and rather dashing lover\" - although she denied having personal experience. Howard rebuts asylum criticisms  Tory leader Michael Howard has gone on the offensive in response to people questioning how a son of immigrants can propose asylum quotas. Former Tory chancellor Ken Clarke says Mr Howard has a bigger problem changing perceptions of the Tory party than his personal image. Mr Howard, whose parents fled the Nazi threat to come to the UK, says the claim would mean no-one from an immigrant family could become premier.', 'In the Commons, Mr Howard said it would be \"far better if the whole of the legislation was subject to a sunset clause so Parliament could consider it all in a proper way instead of it being ramrodded through\". Mr Blair said the house arrest powers were already going to be subject to a sunset clause because it was annually renewable. The second, less stringent, type of control orders would be subject to a court appeal within 14 days and there would be a three-monthly report on their use by \"an eminent and independent person\". Mr Blair said the bill, which brings in house arrest for terror suspects, had time limiting safeguards already.', \"Gibraltar's Chief Minister Peter Caruana will represent the British citizens living on the Rock, while Britain's Europe Director Dominick Chilcott will represent the UK. Talks held on Gibraltar's future  Two days of talks on the future of Gibraltar begin at Jack Straw's country residence later on Wednesday. In October, Mr Straw and his Spanish counterpart Miguel Moratinos agreed to establish a body that would give Gibraltarians a voice in their future. Officials at the two-day summit at the foreign secretary's official Kent house, Chevening, will plan a new forum on the Rock's future.\", 'Crisis \\'ahead in social sciences\\'  A national body designed to tackle skills shortages in key subjects should be set up, a committee of MPs has said. The council aims to promote and support strategic research for social science postgraduates and provide social scientists to meet the needs of the country. In its report on the council\\'s work the committee said: \"We are deeply concerned by the skills shortages afflicting, in particular, the qualitative branches of social sciences. There was an \"absolute crisis\" in the recruitment of statisticians and other social science experts, the Commons science and technology committee added.', 'Tsunami debt deal to be announced  Chancellor Gordon Brown has said he hopes to announce a deal to suspend debt interest repayments by tsunami-hit nations later on Friday. G8 ministers are also believed to have agreed to instruct the World Bank and the International Monetary Fund to complete a country by country analysis of the reconstruction problems faced by all states hit by the disaster. The agreement by the G8 group of wealthy nations would save affected countries £3bn pounds a year, he said. The deal is thought to have been hammered out on Thursday night after Japan, one of the biggest creditor nations, finally signed up to it.', 'Straw to attend Auschwitz service  Foreign Secretary Jack Straw will visit Auschwitz for the 60th anniversary of the former Nazi concentration camp\\'s liberation, it has been announced. Shadow Foreign Secretary Michael Ancram said: \"I am glad the foreign secretary has finally been shamed into representing Britain at this important act of commemoration. Prince Harry should see for himself \"the results of the hated symbol he so foolishly and brazenly chose to wear\", Rabbi Marvin Hier, founder of Jewish human rights group the Simon Wiesenthal Center said. Prince Edward will also join the UK delegation in Poland for National Holocaust Memorial Day on 27 January.', 'Mr MacDonell, political editor of The Scotsman, said: \"I think we have to say right at the outset that this was a very stupid and ill-advised remark by the first minister. Mr McConnell was speaking on Monday to more than 100 secondary pupils from schools in the Highlands about the problems of binge drinking and drink promotions. Mr MacDonell said: \"I think the problem here is that he did say a lot more things about binge drinking and under age drinking. Drink remark \\'acts as diversion\\'  The first minister\\'s statement that it was okay to get drunk \"once in a while\" has diverted attention from the real issues, it has been claimed.', \"Concerns at school diploma plan  Final appeals are being made for the government not to ditch the reform plan for England's secondary schools put forward by the Tomlinson report. The government's response to the plan for a four-tier diploma to replace all existing 14-19 qualifications is expected next week. But people understand that a White Paper response is government policy and has to command wider ministerial support than if it were coming only from the Department for Education and Skills. He is said to be feeling more comfortable about what the government is likely to say than if he had read only what was in newspapers in the earlier part of the week.\"]\n"
          ]
        }
      ]
    },
    {
      "cell_type": "code",
      "metadata": {
        "id": "CvKJu5ogSwVG"
      },
      "source": [
        "#to create files for summary\n",
        "for i in range(0,len(df)):\n",
        "  with open(r\"summary_bart{0}\".format(df[\"File Names\"][i]), \"w\") as politics_summary20_bart:\n",
        "      politics_summary20_bart.write(lstSummary2[i])\n",
        "      politics_summary20_bart.close()"
      ],
      "execution_count": 161,
      "outputs": []
    },
    {
      "cell_type": "code",
      "metadata": {
        "id": "SXJ6wJHBWvQF"
      },
      "source": [
        "summary_file_names_bart=[]\n",
        "for dirname, dirnames, filenames in os.walk(\"/content/politics20\"):\n",
        "  for filename in filenames:\n",
        "    if filename.startswith('summary_bart'):\n",
        "       summary_file_names_bart.append(filename)"
      ],
      "execution_count": 162,
      "outputs": []
    },
    {
      "cell_type": "code",
      "metadata": {
        "colab": {
          "base_uri": "https://localhost:8080/"
        },
        "id": "aOC5fOnKXSaC",
        "outputId": "84415bff-9ab8-404f-97af-6e80d7d44188"
      },
      "source": [
        "print(summary_file_names_bart)"
      ],
      "execution_count": 165,
      "outputs": [
        {
          "output_type": "stream",
          "name": "stdout",
          "text": [
            "['summary_bart009.txt', 'summary_bart008.txt', 'summary_bart007.txt', 'summary_bart019.txt', 'summary_bart017.txt', 'summary_bart011.txt', 'summary_bart012.txt', 'summary_bart016.txt', 'summary_bart002.txt', 'summary_bart015.txt', 'summary_bart013.txt', 'summary_bart006.txt', 'summary_bart018.txt', 'summary_bart020.txt', 'summary_bart004.txt', 'summary_bart014.txt', 'summary_bart010.txt', 'summary_bart001.txt', 'summary_bart003.txt', 'summary_bart005.txt']\n"
          ]
        }
      ]
    },
    {
      "cell_type": "code",
      "metadata": {
        "colab": {
          "base_uri": "https://localhost:8080/"
        },
        "id": "JlfqFePmW5je",
        "outputId": "52a7f1e4-c4db-4090-8d53-614b3428a8e5"
      },
      "source": [
        "sorted_summary_file_names_bart=sorted(summary_file_names_bart)\n",
        "print(sorted_summary_file_names_bart)"
      ],
      "execution_count": 167,
      "outputs": [
        {
          "output_type": "stream",
          "name": "stdout",
          "text": [
            "['summary_bart001.txt', 'summary_bart002.txt', 'summary_bart003.txt', 'summary_bart004.txt', 'summary_bart005.txt', 'summary_bart006.txt', 'summary_bart007.txt', 'summary_bart008.txt', 'summary_bart009.txt', 'summary_bart010.txt', 'summary_bart011.txt', 'summary_bart012.txt', 'summary_bart013.txt', 'summary_bart014.txt', 'summary_bart015.txt', 'summary_bart016.txt', 'summary_bart017.txt', 'summary_bart018.txt', 'summary_bart019.txt', 'summary_bart020.txt']\n"
          ]
        }
      ]
    },
    {
      "cell_type": "code",
      "metadata": {
        "colab": {
          "base_uri": "https://localhost:8080/",
          "height": 677
        },
        "id": "KmNgrvK3XC5p",
        "outputId": "39d382fc-be2c-4068-c7db-0032ca6d9258"
      },
      "source": [
        "df.insert(2,\"Summary Files Names BART\",sorted_summary_file_names_bart,True)\n",
        "df"
      ],
      "execution_count": 168,
      "outputs": [
        {
          "output_type": "execute_result",
          "data": {
            "text/html": [
              "<div>\n",
              "<style scoped>\n",
              "    .dataframe tbody tr th:only-of-type {\n",
              "        vertical-align: middle;\n",
              "    }\n",
              "\n",
              "    .dataframe tbody tr th {\n",
              "        vertical-align: top;\n",
              "    }\n",
              "\n",
              "    .dataframe thead th {\n",
              "        text-align: right;\n",
              "    }\n",
              "</style>\n",
              "<table border=\"1\" class=\"dataframe\">\n",
              "  <thead>\n",
              "    <tr style=\"text-align: right;\">\n",
              "      <th></th>\n",
              "      <th>File Names</th>\n",
              "      <th>Summary Files Names</th>\n",
              "      <th>Summary Files Names BART</th>\n",
              "    </tr>\n",
              "  </thead>\n",
              "  <tbody>\n",
              "    <tr>\n",
              "      <th>0</th>\n",
              "      <td>001.txt</td>\n",
              "      <td>summary001.txt</td>\n",
              "      <td>summary_bart001.txt</td>\n",
              "    </tr>\n",
              "    <tr>\n",
              "      <th>1</th>\n",
              "      <td>002.txt</td>\n",
              "      <td>summary002.txt</td>\n",
              "      <td>summary_bart002.txt</td>\n",
              "    </tr>\n",
              "    <tr>\n",
              "      <th>2</th>\n",
              "      <td>003.txt</td>\n",
              "      <td>summary003.txt</td>\n",
              "      <td>summary_bart003.txt</td>\n",
              "    </tr>\n",
              "    <tr>\n",
              "      <th>3</th>\n",
              "      <td>004.txt</td>\n",
              "      <td>summary004.txt</td>\n",
              "      <td>summary_bart004.txt</td>\n",
              "    </tr>\n",
              "    <tr>\n",
              "      <th>4</th>\n",
              "      <td>005.txt</td>\n",
              "      <td>summary005.txt</td>\n",
              "      <td>summary_bart005.txt</td>\n",
              "    </tr>\n",
              "    <tr>\n",
              "      <th>5</th>\n",
              "      <td>006.txt</td>\n",
              "      <td>summary006.txt</td>\n",
              "      <td>summary_bart006.txt</td>\n",
              "    </tr>\n",
              "    <tr>\n",
              "      <th>6</th>\n",
              "      <td>007.txt</td>\n",
              "      <td>summary007.txt</td>\n",
              "      <td>summary_bart007.txt</td>\n",
              "    </tr>\n",
              "    <tr>\n",
              "      <th>7</th>\n",
              "      <td>008.txt</td>\n",
              "      <td>summary008.txt</td>\n",
              "      <td>summary_bart008.txt</td>\n",
              "    </tr>\n",
              "    <tr>\n",
              "      <th>8</th>\n",
              "      <td>009.txt</td>\n",
              "      <td>summary009.txt</td>\n",
              "      <td>summary_bart009.txt</td>\n",
              "    </tr>\n",
              "    <tr>\n",
              "      <th>9</th>\n",
              "      <td>010.txt</td>\n",
              "      <td>summary010.txt</td>\n",
              "      <td>summary_bart010.txt</td>\n",
              "    </tr>\n",
              "    <tr>\n",
              "      <th>10</th>\n",
              "      <td>011.txt</td>\n",
              "      <td>summary011.txt</td>\n",
              "      <td>summary_bart011.txt</td>\n",
              "    </tr>\n",
              "    <tr>\n",
              "      <th>11</th>\n",
              "      <td>012.txt</td>\n",
              "      <td>summary012.txt</td>\n",
              "      <td>summary_bart012.txt</td>\n",
              "    </tr>\n",
              "    <tr>\n",
              "      <th>12</th>\n",
              "      <td>013.txt</td>\n",
              "      <td>summary013.txt</td>\n",
              "      <td>summary_bart013.txt</td>\n",
              "    </tr>\n",
              "    <tr>\n",
              "      <th>13</th>\n",
              "      <td>014.txt</td>\n",
              "      <td>summary014.txt</td>\n",
              "      <td>summary_bart014.txt</td>\n",
              "    </tr>\n",
              "    <tr>\n",
              "      <th>14</th>\n",
              "      <td>015.txt</td>\n",
              "      <td>summary015.txt</td>\n",
              "      <td>summary_bart015.txt</td>\n",
              "    </tr>\n",
              "    <tr>\n",
              "      <th>15</th>\n",
              "      <td>016.txt</td>\n",
              "      <td>summary016.txt</td>\n",
              "      <td>summary_bart016.txt</td>\n",
              "    </tr>\n",
              "    <tr>\n",
              "      <th>16</th>\n",
              "      <td>017.txt</td>\n",
              "      <td>summary017.txt</td>\n",
              "      <td>summary_bart017.txt</td>\n",
              "    </tr>\n",
              "    <tr>\n",
              "      <th>17</th>\n",
              "      <td>018.txt</td>\n",
              "      <td>summary018.txt</td>\n",
              "      <td>summary_bart018.txt</td>\n",
              "    </tr>\n",
              "    <tr>\n",
              "      <th>18</th>\n",
              "      <td>019.txt</td>\n",
              "      <td>summary019.txt</td>\n",
              "      <td>summary_bart019.txt</td>\n",
              "    </tr>\n",
              "    <tr>\n",
              "      <th>19</th>\n",
              "      <td>020.txt</td>\n",
              "      <td>summary020.txt</td>\n",
              "      <td>summary_bart020.txt</td>\n",
              "    </tr>\n",
              "  </tbody>\n",
              "</table>\n",
              "</div>"
            ],
            "text/plain": [
              "   File Names Summary Files Names Summary Files Names BART\n",
              "0     001.txt      summary001.txt      summary_bart001.txt\n",
              "1     002.txt      summary002.txt      summary_bart002.txt\n",
              "2     003.txt      summary003.txt      summary_bart003.txt\n",
              "3     004.txt      summary004.txt      summary_bart004.txt\n",
              "4     005.txt      summary005.txt      summary_bart005.txt\n",
              "5     006.txt      summary006.txt      summary_bart006.txt\n",
              "6     007.txt      summary007.txt      summary_bart007.txt\n",
              "7     008.txt      summary008.txt      summary_bart008.txt\n",
              "8     009.txt      summary009.txt      summary_bart009.txt\n",
              "9     010.txt      summary010.txt      summary_bart010.txt\n",
              "10    011.txt      summary011.txt      summary_bart011.txt\n",
              "11    012.txt      summary012.txt      summary_bart012.txt\n",
              "12    013.txt      summary013.txt      summary_bart013.txt\n",
              "13    014.txt      summary014.txt      summary_bart014.txt\n",
              "14    015.txt      summary015.txt      summary_bart015.txt\n",
              "15    016.txt      summary016.txt      summary_bart016.txt\n",
              "16    017.txt      summary017.txt      summary_bart017.txt\n",
              "17    018.txt      summary018.txt      summary_bart018.txt\n",
              "18    019.txt      summary019.txt      summary_bart019.txt\n",
              "19    020.txt      summary020.txt      summary_bart020.txt"
            ]
          },
          "metadata": {},
          "execution_count": 168
        }
      ]
    },
    {
      "cell_type": "code",
      "metadata": {
        "id": "NNoXPCoAX4ZM"
      },
      "source": [
        "#to create files for summary\n",
        "for i in range(0,len(df)):\n",
        "  with open(r\"summary_extractive{0}\".format(df[\"File Names\"][i]), \"w\") as politics_summary20_extractive:\n",
        "      politics_summary20_extractive.write(lstSummary3[i])\n",
        "      politics_summary20_extractive.close()"
      ],
      "execution_count": 169,
      "outputs": []
    },
    {
      "cell_type": "code",
      "metadata": {
        "id": "s5QGdsfYYL6q"
      },
      "source": [
        "summary_file_names_extractive=[]\n",
        "for dirname, dirnames, filenames in os.walk(\"/content/politics20\"):\n",
        "  for filename in filenames:\n",
        "    if filename.startswith('summary_extractive'):\n",
        "       summary_file_names_extractive.append(filename)"
      ],
      "execution_count": 171,
      "outputs": []
    },
    {
      "cell_type": "code",
      "metadata": {
        "colab": {
          "base_uri": "https://localhost:8080/"
        },
        "id": "GaZT68XdYUYT",
        "outputId": "1c2c3e23-ff6e-4641-fba6-01e54424d611"
      },
      "source": [
        "print(summary_file_names_extractive)"
      ],
      "execution_count": 173,
      "outputs": [
        {
          "output_type": "stream",
          "name": "stdout",
          "text": [
            "['summary_extractive015.txt', 'summary_extractive019.txt', 'summary_extractive004.txt', 'summary_extractive018.txt', 'summary_extractive003.txt', 'summary_extractive012.txt', 'summary_extractive016.txt', 'summary_extractive002.txt', 'summary_extractive013.txt', 'summary_extractive009.txt', 'summary_extractive001.txt', 'summary_extractive020.txt', 'summary_extractive005.txt', 'summary_extractive007.txt', 'summary_extractive008.txt', 'summary_extractive017.txt', 'summary_extractive006.txt', 'summary_extractive014.txt', 'summary_extractive011.txt', 'summary_extractive010.txt']\n"
          ]
        }
      ]
    },
    {
      "cell_type": "code",
      "metadata": {
        "colab": {
          "base_uri": "https://localhost:8080/"
        },
        "id": "HIuFMUipYaJI",
        "outputId": "e8e7413b-64af-4391-8912-61998f648257"
      },
      "source": [
        "sorted_summary_file_names_extractive=sorted(summary_file_names_extractive)\n",
        "print(sorted_summary_file_names_extractive)"
      ],
      "execution_count": 175,
      "outputs": [
        {
          "output_type": "stream",
          "name": "stdout",
          "text": [
            "['summary_extractive001.txt', 'summary_extractive002.txt', 'summary_extractive003.txt', 'summary_extractive004.txt', 'summary_extractive005.txt', 'summary_extractive006.txt', 'summary_extractive007.txt', 'summary_extractive008.txt', 'summary_extractive009.txt', 'summary_extractive010.txt', 'summary_extractive011.txt', 'summary_extractive012.txt', 'summary_extractive013.txt', 'summary_extractive014.txt', 'summary_extractive015.txt', 'summary_extractive016.txt', 'summary_extractive017.txt', 'summary_extractive018.txt', 'summary_extractive019.txt', 'summary_extractive020.txt']\n"
          ]
        }
      ]
    },
    {
      "cell_type": "code",
      "metadata": {
        "colab": {
          "base_uri": "https://localhost:8080/",
          "height": 677
        },
        "id": "DyOcYwkDYlLG",
        "outputId": "ebbabda3-3fbd-48e0-aa28-f2db0bc4dcd7"
      },
      "source": [
        "df.insert(3,\"Summary Files Names EXTRACTIVE\",sorted_summary_file_names_extractive,True)\n",
        "df"
      ],
      "execution_count": 176,
      "outputs": [
        {
          "output_type": "execute_result",
          "data": {
            "text/html": [
              "<div>\n",
              "<style scoped>\n",
              "    .dataframe tbody tr th:only-of-type {\n",
              "        vertical-align: middle;\n",
              "    }\n",
              "\n",
              "    .dataframe tbody tr th {\n",
              "        vertical-align: top;\n",
              "    }\n",
              "\n",
              "    .dataframe thead th {\n",
              "        text-align: right;\n",
              "    }\n",
              "</style>\n",
              "<table border=\"1\" class=\"dataframe\">\n",
              "  <thead>\n",
              "    <tr style=\"text-align: right;\">\n",
              "      <th></th>\n",
              "      <th>File Names</th>\n",
              "      <th>Summary Files Names</th>\n",
              "      <th>Summary Files Names EXTRACTIVE</th>\n",
              "      <th>Summary Files Names BART</th>\n",
              "    </tr>\n",
              "  </thead>\n",
              "  <tbody>\n",
              "    <tr>\n",
              "      <th>0</th>\n",
              "      <td>001.txt</td>\n",
              "      <td>summary001.txt</td>\n",
              "      <td>summary_extractive001.txt</td>\n",
              "      <td>summary_bart001.txt</td>\n",
              "    </tr>\n",
              "    <tr>\n",
              "      <th>1</th>\n",
              "      <td>002.txt</td>\n",
              "      <td>summary002.txt</td>\n",
              "      <td>summary_extractive002.txt</td>\n",
              "      <td>summary_bart002.txt</td>\n",
              "    </tr>\n",
              "    <tr>\n",
              "      <th>2</th>\n",
              "      <td>003.txt</td>\n",
              "      <td>summary003.txt</td>\n",
              "      <td>summary_extractive003.txt</td>\n",
              "      <td>summary_bart003.txt</td>\n",
              "    </tr>\n",
              "    <tr>\n",
              "      <th>3</th>\n",
              "      <td>004.txt</td>\n",
              "      <td>summary004.txt</td>\n",
              "      <td>summary_extractive004.txt</td>\n",
              "      <td>summary_bart004.txt</td>\n",
              "    </tr>\n",
              "    <tr>\n",
              "      <th>4</th>\n",
              "      <td>005.txt</td>\n",
              "      <td>summary005.txt</td>\n",
              "      <td>summary_extractive005.txt</td>\n",
              "      <td>summary_bart005.txt</td>\n",
              "    </tr>\n",
              "    <tr>\n",
              "      <th>5</th>\n",
              "      <td>006.txt</td>\n",
              "      <td>summary006.txt</td>\n",
              "      <td>summary_extractive006.txt</td>\n",
              "      <td>summary_bart006.txt</td>\n",
              "    </tr>\n",
              "    <tr>\n",
              "      <th>6</th>\n",
              "      <td>007.txt</td>\n",
              "      <td>summary007.txt</td>\n",
              "      <td>summary_extractive007.txt</td>\n",
              "      <td>summary_bart007.txt</td>\n",
              "    </tr>\n",
              "    <tr>\n",
              "      <th>7</th>\n",
              "      <td>008.txt</td>\n",
              "      <td>summary008.txt</td>\n",
              "      <td>summary_extractive008.txt</td>\n",
              "      <td>summary_bart008.txt</td>\n",
              "    </tr>\n",
              "    <tr>\n",
              "      <th>8</th>\n",
              "      <td>009.txt</td>\n",
              "      <td>summary009.txt</td>\n",
              "      <td>summary_extractive009.txt</td>\n",
              "      <td>summary_bart009.txt</td>\n",
              "    </tr>\n",
              "    <tr>\n",
              "      <th>9</th>\n",
              "      <td>010.txt</td>\n",
              "      <td>summary010.txt</td>\n",
              "      <td>summary_extractive010.txt</td>\n",
              "      <td>summary_bart010.txt</td>\n",
              "    </tr>\n",
              "    <tr>\n",
              "      <th>10</th>\n",
              "      <td>011.txt</td>\n",
              "      <td>summary011.txt</td>\n",
              "      <td>summary_extractive011.txt</td>\n",
              "      <td>summary_bart011.txt</td>\n",
              "    </tr>\n",
              "    <tr>\n",
              "      <th>11</th>\n",
              "      <td>012.txt</td>\n",
              "      <td>summary012.txt</td>\n",
              "      <td>summary_extractive012.txt</td>\n",
              "      <td>summary_bart012.txt</td>\n",
              "    </tr>\n",
              "    <tr>\n",
              "      <th>12</th>\n",
              "      <td>013.txt</td>\n",
              "      <td>summary013.txt</td>\n",
              "      <td>summary_extractive013.txt</td>\n",
              "      <td>summary_bart013.txt</td>\n",
              "    </tr>\n",
              "    <tr>\n",
              "      <th>13</th>\n",
              "      <td>014.txt</td>\n",
              "      <td>summary014.txt</td>\n",
              "      <td>summary_extractive014.txt</td>\n",
              "      <td>summary_bart014.txt</td>\n",
              "    </tr>\n",
              "    <tr>\n",
              "      <th>14</th>\n",
              "      <td>015.txt</td>\n",
              "      <td>summary015.txt</td>\n",
              "      <td>summary_extractive015.txt</td>\n",
              "      <td>summary_bart015.txt</td>\n",
              "    </tr>\n",
              "    <tr>\n",
              "      <th>15</th>\n",
              "      <td>016.txt</td>\n",
              "      <td>summary016.txt</td>\n",
              "      <td>summary_extractive016.txt</td>\n",
              "      <td>summary_bart016.txt</td>\n",
              "    </tr>\n",
              "    <tr>\n",
              "      <th>16</th>\n",
              "      <td>017.txt</td>\n",
              "      <td>summary017.txt</td>\n",
              "      <td>summary_extractive017.txt</td>\n",
              "      <td>summary_bart017.txt</td>\n",
              "    </tr>\n",
              "    <tr>\n",
              "      <th>17</th>\n",
              "      <td>018.txt</td>\n",
              "      <td>summary018.txt</td>\n",
              "      <td>summary_extractive018.txt</td>\n",
              "      <td>summary_bart018.txt</td>\n",
              "    </tr>\n",
              "    <tr>\n",
              "      <th>18</th>\n",
              "      <td>019.txt</td>\n",
              "      <td>summary019.txt</td>\n",
              "      <td>summary_extractive019.txt</td>\n",
              "      <td>summary_bart019.txt</td>\n",
              "    </tr>\n",
              "    <tr>\n",
              "      <th>19</th>\n",
              "      <td>020.txt</td>\n",
              "      <td>summary020.txt</td>\n",
              "      <td>summary_extractive020.txt</td>\n",
              "      <td>summary_bart020.txt</td>\n",
              "    </tr>\n",
              "  </tbody>\n",
              "</table>\n",
              "</div>"
            ],
            "text/plain": [
              "   File Names  ... Summary Files Names BART\n",
              "0     001.txt  ...      summary_bart001.txt\n",
              "1     002.txt  ...      summary_bart002.txt\n",
              "2     003.txt  ...      summary_bart003.txt\n",
              "3     004.txt  ...      summary_bart004.txt\n",
              "4     005.txt  ...      summary_bart005.txt\n",
              "5     006.txt  ...      summary_bart006.txt\n",
              "6     007.txt  ...      summary_bart007.txt\n",
              "7     008.txt  ...      summary_bart008.txt\n",
              "8     009.txt  ...      summary_bart009.txt\n",
              "9     010.txt  ...      summary_bart010.txt\n",
              "10    011.txt  ...      summary_bart011.txt\n",
              "11    012.txt  ...      summary_bart012.txt\n",
              "12    013.txt  ...      summary_bart013.txt\n",
              "13    014.txt  ...      summary_bart014.txt\n",
              "14    015.txt  ...      summary_bart015.txt\n",
              "15    016.txt  ...      summary_bart016.txt\n",
              "16    017.txt  ...      summary_bart017.txt\n",
              "17    018.txt  ...      summary_bart018.txt\n",
              "18    019.txt  ...      summary_bart019.txt\n",
              "19    020.txt  ...      summary_bart020.txt\n",
              "\n",
              "[20 rows x 4 columns]"
            ]
          },
          "metadata": {},
          "execution_count": 176
        }
      ]
    },
    {
      "cell_type": "code",
      "metadata": {
        "id": "hRPu_1EHY1F0"
      },
      "source": [
        ""
      ],
      "execution_count": null,
      "outputs": []
    },
    {
      "cell_type": "code",
      "metadata": {
        "id": "pnTFxXetbc_t"
      },
      "source": [
        "from nltk.tokenize import word_tokenize"
      ],
      "execution_count": 178,
      "outputs": []
    },
    {
      "cell_type": "code",
      "metadata": {
        "id": "RaDP-9VSbtgH",
        "outputId": "e5cd55a4-447b-415a-f6af-fa922c0dc33e",
        "colab": {
          "base_uri": "https://localhost:8080/"
        }
      },
      "source": [
        "lstSummary2"
      ],
      "execution_count": 179,
      "outputs": [
        {
          "output_type": "execute_result",
          "data": {
            "text/plain": [
              "[\"Trade industry secretary would mean pay leave would increase nine months 2007 ms hewitt tell gmtv's sunday programme plan include let maternity pay give father extend right parent older children. tories dismiss maternity pay plan desperate liberal democrats say misdirect. gordon brown pre-budget review december tony blair recycle desperate bid win back women voters.\",\n",
              " 'Watchdog probe e-mail deletions. Information commissioner say urgently ask detail cabinet office order tell staff delete e-mails three months old richard thomas totally condemn deletion e- mail prevent disclosure freedom information laws come force 1 january government guidance say e- Mail delete serve current purpose.',\n",
              " \"Ms. hewitt decry 'career sexism' plan extend pay maternity leave beyond six months. Women full-time work earn 19% less men accord equal opportunities commission (eoc) minister tell delegate get rid career sexism vital close gender pay gap. New drive help women want work male dominate sectors say sexism work still prevent women reach full potential.\",\n",
              " \" labour choose manchester labour party hold 2006 autumn conference manchester blackpool confirm much trail decision ratify labour's rule national executive committee break traditional choice seaside venue first time since 1917. labour party work class party does not want come main work class resort country exact cost blackpool term lose revenue hotel accommodation yet know think block book take major manchester hotels official announcement.\",\n",
              " \"Gordon brown ally reject budget spree chancellor gordon brown's closest ally deny suggestions budget giveaway 16 march ed ball ex-chief economic adviser treasury say would spend spree poll day mr ball prospective labour mp say confident chancellor would meet fiscal rule speak sir digby jones cbi director general warn mr brown tempt use extra cash pre-election bribe.\",\n",
              " \"First attempt to sell millennium dome fail due to catalogue errors. Dome cost taxpayers £28.7m maintain sell four years close finally deal turn sport entertainment venue strike £550m. 'errors' doom first dome sale initial attempt sell millennium Dome fail due catalogue errors report government's finance watchdog say.\",\n",
              " \"Liam fox attack blair's tory 'lies' tony blair lie take uk war qualms lie election campaign say tories tory co-chairman liam fox speak mr blair tell labour members tories offer hard right agenda dr fox tell bbc radio lie reason go war guess go lie anything would discuss report party repay £500,000 lord ashcroft predict election defeat prime minister ratchet labour's pre-election campaign.\",\n",
              " \"Women mps reveal sexist taunt women mps endure shock level sexist abuse hand male counterparts new study show male mps pretend juggle imaginary breast jeer melons women make commons speeches researchers birkbeck college tell labour's yvette cooper say find hard persuade commons officials minister secretary 83 mps give answer 100 hours tap interview study.\",\n",
              " \"Alastair campbell recently re-joined labour's election campaign e-mail reveal day. Labour's advertise agency tbwa blame controversy campaign posters image include one fly pig. Critics claim depict tory leader michael howard fagin prompt accusations anti-semitism claim deny labour.\",\n",
              " 'Scottish parliament government plan eight las vegas style resort uk one likely glasgow. Scottish minister insist still final say whether super-casino build scotland opposition party say happen practice vote due take wednesday expect close. scottish executive believe legislation handle westminster new law control internet gamble.',\n",
              " \" mrs howard get key election role michael howard's ex-model wife sandra play lead role conservative election campaign. mr howard make solo visit target seat well accompany husband helicopter campaign trail criss-crossing country. tory leader want meet many ordinary members public mr fox say tony blair also say intend get talk many people possible.\",\n",
              " \"11 people wrongly convict make plant ira bomb attack pubs guildford woolwich 1974. Two families arrest family connection gerry conlon mr conlon's father giuseppe arrest travel london belfast help son die serve sentence also arrest anne maguire members family mrs Maguire relative giusedppe plan stay london well.\",\n",
              " \"M. howard rebut asylum criticisms tory leader michael howard go offensive response people question son immigrants propose asylum quotas mr howard whose parent flee nazi threat come uk say claim would mean no-one immigrant family could become premier comment come bbc documentary call 'no mr nasty' tv presenter anne robinson say home secretary give impression would like kick cat ms robinson friend toryLeader also reveal cambridge student mrHoward much love women courteous kind rather dash lover - although deny personal experience was not cambridge - it is personal experience - know people.\",\n",
              " \"Tories want sunset clause insert anti-terrorism bill would force minister revisit november. lib dems also oppose plan government already give way role judge house arrest case mr blair's refusal accept tories' sunset clause proposals mean government face concert opposition side lord peer begin three days detail deliberation bill th Thursday.\",\n",
              " \"Two-day summit to discuss future of rock begins later this month. Gibraltarians say referendum want remain british. Foreign secretary's official kent house to host summit. gibraltarians reject plan rock's sovereignty share britain spain referendum organise gibraltar government.\",\n",
              " \"Crisis 'ahead social sciences' national body design tackle skills shortages key subject set committee mps say absolute crisis recruitment statisticians social science experts. Council aim promote support strategic research social science postgraduates provide social scientists meet need country also liaise government industry social science need report council's work committee say deeply concern skills shortages afflict particular qualitative branch.\",\n",
              " 'Tsunami debt deal announce chancellor gordon brown say hop announce deal suspend debt interest repayments tsunami-hit nations later friday agreement g8 group wealthy nations would save affect countries £3bn pound year say deal think hammer thursday night japan one biggest creditor nations finally sign.',\n",
              " \" foreign secretary jack straw visit auschwitz 60th anniversary former nazi concentration camp's liberation announce prince edward also join uk delegation poland national holocaust memorial day 27 january 1.1 1.5 million people mainly jews kill aus Auschwitz tories say glad mr straw sham go earlier criticise decision to send lower-ranking official.\",\n",
              " \"Drink remark 'acts diversion' first minister's statement okay get drink divert attention real issue claim jack law chief executive alcohol focus scotland say jack mcconnell's comment ill-advised media attention help move focus. mr law say scotsman journalist hamish macdonell say believe bigger picture obscure remark mr mcc onnell speak monday 100 secondary pupils school highlands problems binge drink drink promotions one-sentence comment immediately criticise scottish national party.\",\n",
              " \"Government's response plan four-tier diploma replace exist 14-19 qualifications expect next week worry could scupper tony blair ruth kelly suggest gcses a-levels stay sir mike tomlinson brief week say feel comfortable government likely say read newspapers earlier part week government say still rewrite response friday tragedy government come half-hearted response.\"]"
            ]
          },
          "metadata": {},
          "execution_count": 179
        }
      ]
    },
    {
      "cell_type": "code",
      "metadata": {
        "id": "Jwp0U68sk6s9"
      },
      "source": [
        "import re\n",
        "import math\n",
        "\n",
        "def cosineSimilarity(original, result):\n",
        "\t\n",
        "\tuniversalSetOfUniqueWords = []\n",
        "\tmatchPercentage = 0\n",
        "\n",
        "\t####################################################################################################\n",
        "\t\n",
        "\tinputQuery = original\n",
        "\n",
        "\tlowercaseQuery = inputQuery.lower()\n",
        "\n",
        "\tqueryWordList = re.sub(\"[^\\w]\", \" \",lowercaseQuery).split()\t\t\t#Replace punctuation by space and split\n",
        "\t# queryWordList = map(str, queryWordList)\t\t\t\t\t#This was causing divide by zero error\n",
        "\n",
        "\tfor word in queryWordList:\n",
        "\t\tif word not in universalSetOfUniqueWords:\n",
        "\t\t\tuniversalSetOfUniqueWords.append(word)\n",
        "\n",
        "\t####################################################################################################\n",
        "\tdatabase1 = result.lower()\n",
        "\n",
        "\tdatabaseWordList = re.sub(\"[^\\w]\", \" \",database1).split()\t#Replace punctuation by space and split\n",
        "\n",
        "\tfor word in databaseWordList:\n",
        "\t\tif word not in universalSetOfUniqueWords:\n",
        "\t\t\tuniversalSetOfUniqueWords.append(word)\n",
        "\n",
        "\t####################################################################################################\n",
        "\n",
        "\tqueryTF = []\n",
        "\tdatabaseTF = []\n",
        "\n",
        "\tfor word in universalSetOfUniqueWords:\n",
        "\t\tqueryTfCounter = 0\n",
        "\t\tdatabaseTfCounter = 0\n",
        "\n",
        "\t\tfor word2 in queryWordList:\n",
        "\t\t\tif word == word2:\n",
        "\t\t\t\tqueryTfCounter += 1\n",
        "\t\tqueryTF.append(queryTfCounter)\n",
        "\n",
        "\t\tfor word2 in databaseWordList:\n",
        "\t\t\tif word == word2:\n",
        "\t\t\t\tdatabaseTfCounter += 1\n",
        "\t\tdatabaseTF.append(databaseTfCounter)\n",
        "\n",
        "\tdotProduct = 0\n",
        "\tfor i in range (len(queryTF)):\n",
        "\t\tdotProduct += queryTF[i]*databaseTF[i]\n",
        "\n",
        "\tqueryVectorMagnitude = 0\n",
        "\tfor i in range (len(queryTF)):\n",
        "\t\tqueryVectorMagnitude += queryTF[i]**2\n",
        "\tqueryVectorMagnitude = math.sqrt(queryVectorMagnitude)\n",
        "\n",
        "\tdatabaseVectorMagnitude = 0\n",
        "\tfor i in range (len(databaseTF)):\n",
        "\t\tdatabaseVectorMagnitude += databaseTF[i]**2\n",
        "\tdatabaseVectorMagnitude = math.sqrt(databaseVectorMagnitude)\n",
        "\n",
        "\tmatchPercentage = (float)(dotProduct / (queryVectorMagnitude * databaseVectorMagnitude))*100\n",
        "\n",
        "\toutput = \"Input text matches %0.02f%% with summarized test.\"%matchPercentage\n",
        "\n",
        "\treturn output\n",
        "\n",
        "\n",
        "ori = \"\"\"A long time ago there was a hare who wouldn't stop teasing a tortoise for his slowness. \"I'm the fastest runner in the woods and you are the slowest one! We should compete!\" he jeered. The next day the tortoise and the hare stood at the start, ready for the race. \"One, two, three, go\", said the hare and they started running. When he had finished his breakfast, the hare looked around to see how far the tortoise had got. He still hadn't passed halfway! Feeling sleepy after his snack, the hare thought to himself, \"I will have a quick snooze now and when I wake up I will quickly run past the finish line.\" When he had finished his breakfast, the hare looked around to see how far the tortoise had got. He still hadn't passed halfway! Feeling sleepy after his snack, the hare thought to himself, \"I will have a quick snooze now and when I wake up I will quickly run past the finish line. ”The hare was a long way in front of the tortoise when he saw a field of cabbages. He looked back and almost couldn’t see the tortoise. \"Take your time!\" he shouted to the tortoise, \"I'll have a snack here and still I'll win the race!\" He fell into a deep sleep and dreamed of winning the competition. Time passed and the sun was already setting when the hare woke up. He jumped and looked around to see the tortoise a few steps from the finish line.\"\"\"\n",
        "#extractive\n",
        "res1 = \"\"\"When he had finished his breakfast, the hare looked around to see how far the tortoise had got. When he had finished his breakfast, the hare looked around to see how far the tortoise had got. He jumped and looked around to see the tortoise a few steps from the finish line. A long time ago there was a hare who wouldn’t stop teasing a tortoise for his slowness. The next day the tortoise and the hare stood at the start, ready for the race. The hare was a long way in front of the tortoise when he saw a field of cabbages. Time passed and the sun was already setting when the hare woke up.\"\"\"\n",
        "#t5\n",
        "res2 = \"\"\"the tortoise and the hare stood at the start, ready for the race. when he had finished his breakfast, it looked around to see how far it had got. He still hadn't passed halfway!\"\"\"\n",
        "#bart\n",
        "res3 = \"\"\"A hare wouldn't stop teasing a tortoise for his slowness. 'I'm the fastest runner in the woods and you are the slowest one! We should compete!' he jeered. The next day the tortoise and the hare stood at the start, ready for the race. \"One, two, three, go\", said the hae and they started running.\"\"\"\n",
        "\n",
        "print(cosineSimilarity(ori, res1))\n",
        "print(cosineSimilarity(ori, res2))\n",
        "print(cosineSimilarity(ori, res3))"
      ],
      "execution_count": null,
      "outputs": []
    },
    {
      "cell_type": "code",
      "metadata": {
        "id": "KVuaQpG8vnkd"
      },
      "source": [
        ""
      ],
      "execution_count": null,
      "outputs": []
    },
    {
      "cell_type": "code",
      "metadata": {
        "id": "8mrPbbj5vnss"
      },
      "source": [
        ""
      ],
      "execution_count": null,
      "outputs": []
    },
    {
      "cell_type": "code",
      "metadata": {
        "id": "PYRA3hZLvnzw"
      },
      "source": [
        ""
      ],
      "execution_count": null,
      "outputs": []
    },
    {
      "cell_type": "code",
      "metadata": {
        "id": "PrDjeqr1vn86"
      },
      "source": [
        ""
      ],
      "execution_count": null,
      "outputs": []
    },
    {
      "cell_type": "code",
      "metadata": {
        "id": "37A5g1-xvoET"
      },
      "source": [
        ""
      ],
      "execution_count": null,
      "outputs": []
    },
    {
      "cell_type": "code",
      "metadata": {
        "id": "xNYML8Kxf_li"
      },
      "source": [
        ""
      ],
      "execution_count": null,
      "outputs": []
    }
  ]
}